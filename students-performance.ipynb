{
 "cells": [
  {
   "cell_type": "markdown",
   "id": "629565f8",
   "metadata": {
    "papermill": {
     "duration": 0.012047,
     "end_time": "2024-08-14T11:34:39.197262",
     "exception": false,
     "start_time": "2024-08-14T11:34:39.185215",
     "status": "completed"
    },
    "tags": []
   },
   "source": [
    "## Project topic\n",
    "\n",
    "The aim of the project is to predict high school students' ```GradeClass``` based on their demographics, study habits, parental involvement, extracurricular activities, and academic performance. "
   ]
  },
  {
   "cell_type": "code",
   "execution_count": 1,
   "id": "828ce789",
   "metadata": {
    "_cell_guid": "b1076dfc-b9ad-4769-8c92-a6c4dae69d19",
    "_uuid": "8f2839f25d086af736a60e9eeb907d3b93b6e0e5",
    "execution": {
     "iopub.execute_input": "2024-08-14T11:34:39.221570Z",
     "iopub.status.busy": "2024-08-14T11:34:39.221043Z",
     "iopub.status.idle": "2024-08-14T11:34:44.652459Z",
     "shell.execute_reply": "2024-08-14T11:34:44.650742Z"
    },
    "papermill": {
     "duration": 5.447347,
     "end_time": "2024-08-14T11:34:44.655587",
     "exception": false,
     "start_time": "2024-08-14T11:34:39.208240",
     "status": "completed"
    },
    "tags": []
   },
   "outputs": [],
   "source": [
    "import pandas as pd\n",
    "import matplotlib.pyplot as plt\n",
    "import seaborn as sns\n",
    "import statsmodels.api as sm\n",
    "from statsmodels.formula.api import ols\n",
    "from pandas.plotting import scatter_matrix\n",
    "from sklearn.preprocessing import StandardScaler\n",
    "from sklearn.model_selection import train_test_split\n",
    "from sklearn.model_selection import RepeatedStratifiedKFold\n",
    "from sklearn.model_selection import cross_val_score\n",
    "from sklearn.linear_model import LogisticRegression\n",
    "from sklearn.tree import DecisionTreeClassifier\n",
    "from sklearn.ensemble import RandomForestClassifier\n",
    "from sklearn.neighbors import KNeighborsClassifier\n",
    "from sklearn.svm import SVC\n",
    "from sklearn.naive_bayes import GaussianNB\n",
    "from sklearn.ensemble import GradientBoostingClassifier\n",
    "from sklearn import metrics"
   ]
  },
  {
   "cell_type": "markdown",
   "id": "0773eb61",
   "metadata": {
    "papermill": {
     "duration": 0.010672,
     "end_time": "2024-08-14T11:34:44.677193",
     "exception": false,
     "start_time": "2024-08-14T11:34:44.666521",
     "status": "completed"
    },
    "tags": []
   },
   "source": [
    "## Data preprocessing"
   ]
  },
  {
   "cell_type": "markdown",
   "id": "4edebf0a",
   "metadata": {
    "papermill": {
     "duration": 0.010062,
     "end_time": "2024-08-14T11:34:44.697829",
     "exception": false,
     "start_time": "2024-08-14T11:34:44.687767",
     "status": "completed"
    },
    "tags": []
   },
   "source": [
    "### Import data"
   ]
  },
  {
   "cell_type": "code",
   "execution_count": 2,
   "id": "586f38c2",
   "metadata": {
    "execution": {
     "iopub.execute_input": "2024-08-14T11:34:44.721481Z",
     "iopub.status.busy": "2024-08-14T11:34:44.720718Z",
     "iopub.status.idle": "2024-08-14T11:34:44.781835Z",
     "shell.execute_reply": "2024-08-14T11:34:44.780530Z"
    },
    "papermill": {
     "duration": 0.077009,
     "end_time": "2024-08-14T11:34:44.785075",
     "exception": false,
     "start_time": "2024-08-14T11:34:44.708066",
     "status": "completed"
    },
    "tags": []
   },
   "outputs": [
    {
     "data": {
      "text/html": [
       "<div>\n",
       "<style scoped>\n",
       "    .dataframe tbody tr th:only-of-type {\n",
       "        vertical-align: middle;\n",
       "    }\n",
       "\n",
       "    .dataframe tbody tr th {\n",
       "        vertical-align: top;\n",
       "    }\n",
       "\n",
       "    .dataframe thead th {\n",
       "        text-align: right;\n",
       "    }\n",
       "</style>\n",
       "<table border=\"1\" class=\"dataframe\">\n",
       "  <thead>\n",
       "    <tr style=\"text-align: right;\">\n",
       "      <th></th>\n",
       "      <th>StudentID</th>\n",
       "      <th>Age</th>\n",
       "      <th>Gender</th>\n",
       "      <th>Ethnicity</th>\n",
       "      <th>ParentalEducation</th>\n",
       "      <th>StudyTimeWeekly</th>\n",
       "      <th>Absences</th>\n",
       "      <th>Tutoring</th>\n",
       "      <th>ParentalSupport</th>\n",
       "      <th>Extracurricular</th>\n",
       "      <th>Sports</th>\n",
       "      <th>Music</th>\n",
       "      <th>Volunteering</th>\n",
       "      <th>GPA</th>\n",
       "      <th>GradeClass</th>\n",
       "    </tr>\n",
       "  </thead>\n",
       "  <tbody>\n",
       "    <tr>\n",
       "      <th>0</th>\n",
       "      <td>1001</td>\n",
       "      <td>17</td>\n",
       "      <td>1</td>\n",
       "      <td>0</td>\n",
       "      <td>2</td>\n",
       "      <td>19.833723</td>\n",
       "      <td>7</td>\n",
       "      <td>1</td>\n",
       "      <td>2</td>\n",
       "      <td>0</td>\n",
       "      <td>0</td>\n",
       "      <td>1</td>\n",
       "      <td>0</td>\n",
       "      <td>2.929196</td>\n",
       "      <td>2.0</td>\n",
       "    </tr>\n",
       "    <tr>\n",
       "      <th>1</th>\n",
       "      <td>1002</td>\n",
       "      <td>18</td>\n",
       "      <td>0</td>\n",
       "      <td>0</td>\n",
       "      <td>1</td>\n",
       "      <td>15.408756</td>\n",
       "      <td>0</td>\n",
       "      <td>0</td>\n",
       "      <td>1</td>\n",
       "      <td>0</td>\n",
       "      <td>0</td>\n",
       "      <td>0</td>\n",
       "      <td>0</td>\n",
       "      <td>3.042915</td>\n",
       "      <td>1.0</td>\n",
       "    </tr>\n",
       "    <tr>\n",
       "      <th>2</th>\n",
       "      <td>1003</td>\n",
       "      <td>15</td>\n",
       "      <td>0</td>\n",
       "      <td>2</td>\n",
       "      <td>3</td>\n",
       "      <td>4.210570</td>\n",
       "      <td>26</td>\n",
       "      <td>0</td>\n",
       "      <td>2</td>\n",
       "      <td>0</td>\n",
       "      <td>0</td>\n",
       "      <td>0</td>\n",
       "      <td>0</td>\n",
       "      <td>0.112602</td>\n",
       "      <td>4.0</td>\n",
       "    </tr>\n",
       "    <tr>\n",
       "      <th>3</th>\n",
       "      <td>1004</td>\n",
       "      <td>17</td>\n",
       "      <td>1</td>\n",
       "      <td>0</td>\n",
       "      <td>3</td>\n",
       "      <td>10.028829</td>\n",
       "      <td>14</td>\n",
       "      <td>0</td>\n",
       "      <td>3</td>\n",
       "      <td>1</td>\n",
       "      <td>0</td>\n",
       "      <td>0</td>\n",
       "      <td>0</td>\n",
       "      <td>2.054218</td>\n",
       "      <td>3.0</td>\n",
       "    </tr>\n",
       "    <tr>\n",
       "      <th>4</th>\n",
       "      <td>1005</td>\n",
       "      <td>17</td>\n",
       "      <td>1</td>\n",
       "      <td>0</td>\n",
       "      <td>2</td>\n",
       "      <td>4.672495</td>\n",
       "      <td>17</td>\n",
       "      <td>1</td>\n",
       "      <td>3</td>\n",
       "      <td>0</td>\n",
       "      <td>0</td>\n",
       "      <td>0</td>\n",
       "      <td>0</td>\n",
       "      <td>1.288061</td>\n",
       "      <td>4.0</td>\n",
       "    </tr>\n",
       "    <tr>\n",
       "      <th>5</th>\n",
       "      <td>1006</td>\n",
       "      <td>18</td>\n",
       "      <td>0</td>\n",
       "      <td>0</td>\n",
       "      <td>1</td>\n",
       "      <td>8.191219</td>\n",
       "      <td>0</td>\n",
       "      <td>0</td>\n",
       "      <td>1</td>\n",
       "      <td>1</td>\n",
       "      <td>0</td>\n",
       "      <td>0</td>\n",
       "      <td>0</td>\n",
       "      <td>3.084184</td>\n",
       "      <td>1.0</td>\n",
       "    </tr>\n",
       "    <tr>\n",
       "      <th>6</th>\n",
       "      <td>1007</td>\n",
       "      <td>15</td>\n",
       "      <td>0</td>\n",
       "      <td>1</td>\n",
       "      <td>1</td>\n",
       "      <td>15.601680</td>\n",
       "      <td>10</td>\n",
       "      <td>0</td>\n",
       "      <td>3</td>\n",
       "      <td>0</td>\n",
       "      <td>1</td>\n",
       "      <td>0</td>\n",
       "      <td>0</td>\n",
       "      <td>2.748237</td>\n",
       "      <td>2.0</td>\n",
       "    </tr>\n",
       "    <tr>\n",
       "      <th>7</th>\n",
       "      <td>1008</td>\n",
       "      <td>15</td>\n",
       "      <td>1</td>\n",
       "      <td>1</td>\n",
       "      <td>4</td>\n",
       "      <td>15.424496</td>\n",
       "      <td>22</td>\n",
       "      <td>1</td>\n",
       "      <td>1</td>\n",
       "      <td>1</td>\n",
       "      <td>0</td>\n",
       "      <td>0</td>\n",
       "      <td>0</td>\n",
       "      <td>1.360143</td>\n",
       "      <td>4.0</td>\n",
       "    </tr>\n",
       "    <tr>\n",
       "      <th>8</th>\n",
       "      <td>1009</td>\n",
       "      <td>17</td>\n",
       "      <td>0</td>\n",
       "      <td>0</td>\n",
       "      <td>0</td>\n",
       "      <td>4.562008</td>\n",
       "      <td>1</td>\n",
       "      <td>0</td>\n",
       "      <td>2</td>\n",
       "      <td>0</td>\n",
       "      <td>1</td>\n",
       "      <td>0</td>\n",
       "      <td>1</td>\n",
       "      <td>2.896819</td>\n",
       "      <td>2.0</td>\n",
       "    </tr>\n",
       "    <tr>\n",
       "      <th>9</th>\n",
       "      <td>1010</td>\n",
       "      <td>16</td>\n",
       "      <td>1</td>\n",
       "      <td>0</td>\n",
       "      <td>1</td>\n",
       "      <td>18.444466</td>\n",
       "      <td>0</td>\n",
       "      <td>0</td>\n",
       "      <td>3</td>\n",
       "      <td>1</td>\n",
       "      <td>0</td>\n",
       "      <td>0</td>\n",
       "      <td>0</td>\n",
       "      <td>3.573474</td>\n",
       "      <td>0.0</td>\n",
       "    </tr>\n",
       "  </tbody>\n",
       "</table>\n",
       "</div>"
      ],
      "text/plain": [
       "   StudentID  Age  Gender  Ethnicity  ParentalEducation  StudyTimeWeekly  \\\n",
       "0       1001   17       1          0                  2        19.833723   \n",
       "1       1002   18       0          0                  1        15.408756   \n",
       "2       1003   15       0          2                  3         4.210570   \n",
       "3       1004   17       1          0                  3        10.028829   \n",
       "4       1005   17       1          0                  2         4.672495   \n",
       "5       1006   18       0          0                  1         8.191219   \n",
       "6       1007   15       0          1                  1        15.601680   \n",
       "7       1008   15       1          1                  4        15.424496   \n",
       "8       1009   17       0          0                  0         4.562008   \n",
       "9       1010   16       1          0                  1        18.444466   \n",
       "\n",
       "   Absences  Tutoring  ParentalSupport  Extracurricular  Sports  Music  \\\n",
       "0         7         1                2                0       0      1   \n",
       "1         0         0                1                0       0      0   \n",
       "2        26         0                2                0       0      0   \n",
       "3        14         0                3                1       0      0   \n",
       "4        17         1                3                0       0      0   \n",
       "5         0         0                1                1       0      0   \n",
       "6        10         0                3                0       1      0   \n",
       "7        22         1                1                1       0      0   \n",
       "8         1         0                2                0       1      0   \n",
       "9         0         0                3                1       0      0   \n",
       "\n",
       "   Volunteering       GPA  GradeClass  \n",
       "0             0  2.929196         2.0  \n",
       "1             0  3.042915         1.0  \n",
       "2             0  0.112602         4.0  \n",
       "3             0  2.054218         3.0  \n",
       "4             0  1.288061         4.0  \n",
       "5             0  3.084184         1.0  \n",
       "6             0  2.748237         2.0  \n",
       "7             0  1.360143         4.0  \n",
       "8             1  2.896819         2.0  \n",
       "9             0  3.573474         0.0  "
      ]
     },
     "execution_count": 2,
     "metadata": {},
     "output_type": "execute_result"
    }
   ],
   "source": [
    "data = pd.read_csv(\"/kaggle/input/d/rabieelkharoua/students-performance-dataset/Student_performance_data _.csv\")\n",
    "data.head(10)"
   ]
  },
  {
   "cell_type": "markdown",
   "id": "e26b7ff7",
   "metadata": {
    "papermill": {
     "duration": 0.011145,
     "end_time": "2024-08-14T11:34:44.807512",
     "exception": false,
     "start_time": "2024-08-14T11:34:44.796367",
     "status": "completed"
    },
    "tags": []
   },
   "source": [
    "```StudentID``` is unique and it doesn't influence student's ```GradeClass```, so this variable isn't useful. "
   ]
  },
  {
   "cell_type": "code",
   "execution_count": 3,
   "id": "14ac897a",
   "metadata": {
    "execution": {
     "iopub.execute_input": "2024-08-14T11:34:44.832041Z",
     "iopub.status.busy": "2024-08-14T11:34:44.831644Z",
     "iopub.status.idle": "2024-08-14T11:34:44.842461Z",
     "shell.execute_reply": "2024-08-14T11:34:44.841003Z"
    },
    "papermill": {
     "duration": 0.027069,
     "end_time": "2024-08-14T11:34:44.845841",
     "exception": false,
     "start_time": "2024-08-14T11:34:44.818772",
     "status": "completed"
    },
    "tags": []
   },
   "outputs": [],
   "source": [
    "data = data.drop(columns = 'StudentID')"
   ]
  },
  {
   "cell_type": "markdown",
   "id": "2cfc13d2",
   "metadata": {
    "papermill": {
     "duration": 0.011385,
     "end_time": "2024-08-14T11:34:44.868575",
     "exception": false,
     "start_time": "2024-08-14T11:34:44.857190",
     "status": "completed"
    },
    "tags": []
   },
   "source": [
    "### Missing values"
   ]
  },
  {
   "cell_type": "code",
   "execution_count": 4,
   "id": "e3513e6f",
   "metadata": {
    "execution": {
     "iopub.execute_input": "2024-08-14T11:34:44.893436Z",
     "iopub.status.busy": "2024-08-14T11:34:44.892958Z",
     "iopub.status.idle": "2024-08-14T11:34:44.904444Z",
     "shell.execute_reply": "2024-08-14T11:34:44.902938Z"
    },
    "papermill": {
     "duration": 0.026997,
     "end_time": "2024-08-14T11:34:44.907326",
     "exception": false,
     "start_time": "2024-08-14T11:34:44.880329",
     "status": "completed"
    },
    "tags": []
   },
   "outputs": [
    {
     "data": {
      "text/plain": [
       "Age                  0\n",
       "Gender               0\n",
       "Ethnicity            0\n",
       "ParentalEducation    0\n",
       "StudyTimeWeekly      0\n",
       "Absences             0\n",
       "Tutoring             0\n",
       "ParentalSupport      0\n",
       "Extracurricular      0\n",
       "Sports               0\n",
       "Music                0\n",
       "Volunteering         0\n",
       "GPA                  0\n",
       "GradeClass           0\n",
       "dtype: int64"
      ]
     },
     "execution_count": 4,
     "metadata": {},
     "output_type": "execute_result"
    }
   ],
   "source": [
    "data.isnull().sum()"
   ]
  },
  {
   "cell_type": "markdown",
   "id": "f8c7823f",
   "metadata": {
    "papermill": {
     "duration": 0.011153,
     "end_time": "2024-08-14T11:34:44.930101",
     "exception": false,
     "start_time": "2024-08-14T11:34:44.918948",
     "status": "completed"
    },
    "tags": []
   },
   "source": [
    "There are no missing values"
   ]
  },
  {
   "cell_type": "markdown",
   "id": "fe2339ac",
   "metadata": {
    "papermill": {
     "duration": 0.013153,
     "end_time": "2024-08-14T11:34:44.954760",
     "exception": false,
     "start_time": "2024-08-14T11:34:44.941607",
     "status": "completed"
    },
    "tags": []
   },
   "source": [
    "### Duplication"
   ]
  },
  {
   "cell_type": "code",
   "execution_count": 5,
   "id": "b917a986",
   "metadata": {
    "execution": {
     "iopub.execute_input": "2024-08-14T11:34:44.982132Z",
     "iopub.status.busy": "2024-08-14T11:34:44.981712Z",
     "iopub.status.idle": "2024-08-14T11:34:44.997304Z",
     "shell.execute_reply": "2024-08-14T11:34:44.996110Z"
    },
    "papermill": {
     "duration": 0.032222,
     "end_time": "2024-08-14T11:34:45.000239",
     "exception": false,
     "start_time": "2024-08-14T11:34:44.968017",
     "status": "completed"
    },
    "tags": []
   },
   "outputs": [
    {
     "data": {
      "text/plain": [
       "0"
      ]
     },
     "execution_count": 5,
     "metadata": {},
     "output_type": "execute_result"
    }
   ],
   "source": [
    "sum(data.duplicated())"
   ]
  },
  {
   "cell_type": "markdown",
   "id": "6600acd8",
   "metadata": {
    "papermill": {
     "duration": 0.013008,
     "end_time": "2024-08-14T11:34:45.026810",
     "exception": false,
     "start_time": "2024-08-14T11:34:45.013802",
     "status": "completed"
    },
    "tags": []
   },
   "source": [
    "There are no duplicated rows"
   ]
  },
  {
   "cell_type": "markdown",
   "id": "ed8156b6",
   "metadata": {
    "papermill": {
     "duration": 0.011367,
     "end_time": "2024-08-14T11:34:45.049965",
     "exception": false,
     "start_time": "2024-08-14T11:34:45.038598",
     "status": "completed"
    },
    "tags": []
   },
   "source": [
    "### Basic statistics"
   ]
  },
  {
   "cell_type": "code",
   "execution_count": 6,
   "id": "2e1afe76",
   "metadata": {
    "execution": {
     "iopub.execute_input": "2024-08-14T11:34:45.077563Z",
     "iopub.status.busy": "2024-08-14T11:34:45.077104Z",
     "iopub.status.idle": "2024-08-14T11:34:45.104945Z",
     "shell.execute_reply": "2024-08-14T11:34:45.103750Z"
    },
    "papermill": {
     "duration": 0.044117,
     "end_time": "2024-08-14T11:34:45.107792",
     "exception": false,
     "start_time": "2024-08-14T11:34:45.063675",
     "status": "completed"
    },
    "tags": []
   },
   "outputs": [
    {
     "data": {
      "text/html": [
       "<div>\n",
       "<style scoped>\n",
       "    .dataframe tbody tr th:only-of-type {\n",
       "        vertical-align: middle;\n",
       "    }\n",
       "\n",
       "    .dataframe tbody tr th {\n",
       "        vertical-align: top;\n",
       "    }\n",
       "\n",
       "    .dataframe thead th {\n",
       "        text-align: right;\n",
       "    }\n",
       "</style>\n",
       "<table border=\"1\" class=\"dataframe\">\n",
       "  <thead>\n",
       "    <tr style=\"text-align: right;\">\n",
       "      <th></th>\n",
       "      <th>StudyTimeWeekly</th>\n",
       "      <th>Absences</th>\n",
       "      <th>GPA</th>\n",
       "    </tr>\n",
       "  </thead>\n",
       "  <tbody>\n",
       "    <tr>\n",
       "      <th>count</th>\n",
       "      <td>2392.000000</td>\n",
       "      <td>2392.000000</td>\n",
       "      <td>2392.000000</td>\n",
       "    </tr>\n",
       "    <tr>\n",
       "      <th>mean</th>\n",
       "      <td>9.771992</td>\n",
       "      <td>14.541388</td>\n",
       "      <td>1.906186</td>\n",
       "    </tr>\n",
       "    <tr>\n",
       "      <th>std</th>\n",
       "      <td>5.652774</td>\n",
       "      <td>8.467417</td>\n",
       "      <td>0.915156</td>\n",
       "    </tr>\n",
       "    <tr>\n",
       "      <th>min</th>\n",
       "      <td>0.001057</td>\n",
       "      <td>0.000000</td>\n",
       "      <td>0.000000</td>\n",
       "    </tr>\n",
       "    <tr>\n",
       "      <th>25%</th>\n",
       "      <td>5.043079</td>\n",
       "      <td>7.000000</td>\n",
       "      <td>1.174803</td>\n",
       "    </tr>\n",
       "    <tr>\n",
       "      <th>50%</th>\n",
       "      <td>9.705363</td>\n",
       "      <td>15.000000</td>\n",
       "      <td>1.893393</td>\n",
       "    </tr>\n",
       "    <tr>\n",
       "      <th>75%</th>\n",
       "      <td>14.408410</td>\n",
       "      <td>22.000000</td>\n",
       "      <td>2.622216</td>\n",
       "    </tr>\n",
       "    <tr>\n",
       "      <th>max</th>\n",
       "      <td>19.978094</td>\n",
       "      <td>29.000000</td>\n",
       "      <td>4.000000</td>\n",
       "    </tr>\n",
       "  </tbody>\n",
       "</table>\n",
       "</div>"
      ],
      "text/plain": [
       "       StudyTimeWeekly     Absences          GPA\n",
       "count      2392.000000  2392.000000  2392.000000\n",
       "mean          9.771992    14.541388     1.906186\n",
       "std           5.652774     8.467417     0.915156\n",
       "min           0.001057     0.000000     0.000000\n",
       "25%           5.043079     7.000000     1.174803\n",
       "50%           9.705363    15.000000     1.893393\n",
       "75%          14.408410    22.000000     2.622216\n",
       "max          19.978094    29.000000     4.000000"
      ]
     },
     "execution_count": 6,
     "metadata": {},
     "output_type": "execute_result"
    }
   ],
   "source": [
    "data[['StudyTimeWeekly','Absences','GPA']].describe()"
   ]
  },
  {
   "cell_type": "markdown",
   "id": "ca6a8d8d",
   "metadata": {
    "papermill": {
     "duration": 0.011589,
     "end_time": "2024-08-14T11:34:45.131309",
     "exception": false,
     "start_time": "2024-08-14T11:34:45.119720",
     "status": "completed"
    },
    "tags": []
   },
   "source": [
    "### Feature distribution"
   ]
  },
  {
   "cell_type": "code",
   "execution_count": 7,
   "id": "9b0257c5",
   "metadata": {
    "execution": {
     "iopub.execute_input": "2024-08-14T11:34:45.157858Z",
     "iopub.status.busy": "2024-08-14T11:34:45.157408Z",
     "iopub.status.idle": "2024-08-14T11:34:45.164479Z",
     "shell.execute_reply": "2024-08-14T11:34:45.162725Z"
    },
    "papermill": {
     "duration": 0.024299,
     "end_time": "2024-08-14T11:34:45.167714",
     "exception": false,
     "start_time": "2024-08-14T11:34:45.143415",
     "status": "completed"
    },
    "tags": []
   },
   "outputs": [],
   "source": [
    "sns.set_palette('pastel')"
   ]
  },
  {
   "cell_type": "code",
   "execution_count": 8,
   "id": "49cbf6d0",
   "metadata": {
    "execution": {
     "iopub.execute_input": "2024-08-14T11:34:45.193430Z",
     "iopub.status.busy": "2024-08-14T11:34:45.192922Z",
     "iopub.status.idle": "2024-08-14T11:34:47.955613Z",
     "shell.execute_reply": "2024-08-14T11:34:47.954014Z"
    },
    "papermill": {
     "duration": 2.779415,
     "end_time": "2024-08-14T11:34:47.959116",
     "exception": false,
     "start_time": "2024-08-14T11:34:45.179701",
     "status": "completed"
    },
    "tags": []
   },
   "outputs": [
    {
     "data": {
      "image/png": "[encoded data removed]",
      "text/plain": [
       "<Figure size 1000x1000 with 16 Axes>"
      ]
     },
     "metadata": {},
     "output_type": "display_data"
    }
   ],
   "source": [
    "data.hist(figsize = (10,10))\n",
    "plt.show()"
   ]
  },
  {
   "cell_type": "markdown",
   "id": "0b19331b",
   "metadata": {
    "papermill": {
     "duration": 0.01328,
     "end_time": "2024-08-14T11:34:47.986135",
     "exception": false,
     "start_time": "2024-08-14T11:34:47.972855",
     "status": "completed"
    },
    "tags": []
   },
   "source": [
    "We can see that there are 3 numerical variables: ```StudyTimeWeekly```, ```Absences``` and ```GPA```. The remaining variables are categorical or boolean."
   ]
  },
  {
   "cell_type": "markdown",
   "id": "562ac4cc",
   "metadata": {
    "papermill": {
     "duration": 0.01415,
     "end_time": "2024-08-14T11:34:48.014492",
     "exception": false,
     "start_time": "2024-08-14T11:34:48.000342",
     "status": "completed"
    },
    "tags": []
   },
   "source": [
    "### Correlation"
   ]
  },
  {
   "cell_type": "code",
   "execution_count": 9,
   "id": "56a33b61",
   "metadata": {
    "execution": {
     "iopub.execute_input": "2024-08-14T11:34:48.044561Z",
     "iopub.status.busy": "2024-08-14T11:34:48.044008Z",
     "iopub.status.idle": "2024-08-14T11:34:48.200357Z",
     "shell.execute_reply": "2024-08-14T11:34:48.199118Z"
    },
    "papermill": {
     "duration": 0.175055,
     "end_time": "2024-08-14T11:34:48.203096",
     "exception": false,
     "start_time": "2024-08-14T11:34:48.028041",
     "status": "completed"
    },
    "tags": []
   },
   "outputs": [
    {
     "data": {
      "text/html": [
       "<style type=\"text/css\">\n",
       "#T_6ef6f_row0_col0, #T_6ef6f_row1_col1, #T_6ef6f_row2_col2, #T_6ef6f_row3_col3, #T_6ef6f_row4_col4, #T_6ef6f_row5_col5, #T_6ef6f_row6_col6, #T_6ef6f_row7_col7, #T_6ef6f_row8_col8, #T_6ef6f_row9_col9, #T_6ef6f_row10_col10, #T_6ef6f_row11_col11, #T_6ef6f_row12_col12, #T_6ef6f_row13_col13 {\n",
       "  background-color: #b40426;\n",
       "  color: #f1f1f1;\n",
       "}\n",
       "#T_6ef6f_row0_col1, #T_6ef6f_row1_col6, #T_6ef6f_row3_col8, #T_6ef6f_row3_col10, #T_6ef6f_row10_col3, #T_6ef6f_row13_col12 {\n",
       "  background-color: #506bda;\n",
       "  color: #f1f1f1;\n",
       "}\n",
       "#T_6ef6f_row0_col2, #T_6ef6f_row0_col9, #T_6ef6f_row5_col2, #T_6ef6f_row5_col12, #T_6ef6f_row6_col1, #T_6ef6f_row6_col11, #T_6ef6f_row9_col0, #T_6ef6f_row12_col3, #T_6ef6f_row12_col5, #T_6ef6f_row12_col13, #T_6ef6f_row13_col4, #T_6ef6f_row13_col6, #T_6ef6f_row13_col7, #T_6ef6f_row13_col8, #T_6ef6f_row13_col10 {\n",
       "  background-color: #3b4cc0;\n",
       "  color: #f1f1f1;\n",
       "}\n",
       "#T_6ef6f_row0_col3, #T_6ef6f_row0_col11, #T_6ef6f_row1_col8, #T_6ef6f_row2_col11, #T_6ef6f_row3_col2, #T_6ef6f_row3_col11, #T_6ef6f_row13_col11 {\n",
       "  background-color: #4c66d6;\n",
       "  color: #f1f1f1;\n",
       "}\n",
       "#T_6ef6f_row0_col4, #T_6ef6f_row8_col7 {\n",
       "  background-color: #5d7ce6;\n",
       "  color: #f1f1f1;\n",
       "}\n",
       "#T_6ef6f_row0_col5, #T_6ef6f_row10_col5 {\n",
       "  background-color: #d6dce4;\n",
       "  color: #000000;\n",
       "}\n",
       "#T_6ef6f_row0_col6, #T_6ef6f_row1_col0, #T_6ef6f_row5_col6 {\n",
       "  background-color: #5572df;\n",
       "  color: #f1f1f1;\n",
       "}\n",
       "#T_6ef6f_row0_col7, #T_6ef6f_row4_col7, #T_6ef6f_row7_col4, #T_6ef6f_row10_col7 {\n",
       "  background-color: #6a8bef;\n",
       "  color: #f1f1f1;\n",
       "}\n",
       "#T_6ef6f_row0_col8, #T_6ef6f_row1_col3, #T_6ef6f_row1_col10, #T_6ef6f_row2_col9, #T_6ef6f_row4_col1, #T_6ef6f_row4_col10, #T_6ef6f_row7_col11, #T_6ef6f_row8_col3, #T_6ef6f_row8_col11, #T_6ef6f_row10_col0, #T_6ef6f_row11_col2, #T_6ef6f_row11_col9 {\n",
       "  background-color: #465ecf;\n",
       "  color: #f1f1f1;\n",
       "}\n",
       "#T_6ef6f_row0_col10, #T_6ef6f_row4_col2, #T_6ef6f_row4_col11, #T_6ef6f_row5_col0, #T_6ef6f_row6_col0, #T_6ef6f_row8_col9 {\n",
       "  background-color: #445acc;\n",
       "  color: #f1f1f1;\n",
       "}\n",
       "#T_6ef6f_row0_col12, #T_6ef6f_row7_col5, #T_6ef6f_row8_col5 {\n",
       "  background-color: #d7dce3;\n",
       "  color: #000000;\n",
       "}\n",
       "#T_6ef6f_row0_col13 {\n",
       "  background-color: #cbd8ee;\n",
       "  color: #000000;\n",
       "}\n",
       "#T_6ef6f_row1_col2, #T_6ef6f_row2_col1, #T_6ef6f_row3_col9, #T_6ef6f_row4_col8, #T_6ef6f_row9_col11, #T_6ef6f_row11_col3, #T_6ef6f_row12_col0 {\n",
       "  background-color: #485fd1;\n",
       "  color: #f1f1f1;\n",
       "}\n",
       "#T_6ef6f_row1_col4, #T_6ef6f_row1_col7, #T_6ef6f_row4_col6, #T_6ef6f_row5_col4, #T_6ef6f_row10_col4 {\n",
       "  background-color: #6282ea;\n",
       "  color: #f1f1f1;\n",
       "}\n",
       "#T_6ef6f_row1_col5 {\n",
       "  background-color: #dadce0;\n",
       "  color: #000000;\n",
       "}\n",
       "#T_6ef6f_row1_col9, #T_6ef6f_row3_col1, #T_6ef6f_row4_col0, #T_6ef6f_row7_col1, #T_6ef6f_row7_col9, #T_6ef6f_row9_col3, #T_6ef6f_row10_col1, #T_6ef6f_row13_col0 {\n",
       "  background-color: #455cce;\n",
       "  color: #f1f1f1;\n",
       "}\n",
       "#T_6ef6f_row1_col11, #T_6ef6f_row6_col9, #T_6ef6f_row7_col2 {\n",
       "  background-color: #4961d2;\n",
       "  color: #f1f1f1;\n",
       "}\n",
       "#T_6ef6f_row1_col12, #T_6ef6f_row6_col5, #T_6ef6f_row11_col5 {\n",
       "  background-color: #d5dbe5;\n",
       "  color: #000000;\n",
       "}\n",
       "#T_6ef6f_row1_col13 {\n",
       "  background-color: #cfdaea;\n",
       "  color: #000000;\n",
       "}\n",
       "#T_6ef6f_row2_col0, #T_6ef6f_row6_col3, #T_6ef6f_row7_col3, #T_6ef6f_row8_col2, #T_6ef6f_row12_col1, #T_6ef6f_row13_col9 {\n",
       "  background-color: #3f53c6;\n",
       "  color: #f1f1f1;\n",
       "}\n",
       "#T_6ef6f_row2_col3, #T_6ef6f_row3_col0, #T_6ef6f_row5_col3, #T_6ef6f_row6_col8, #T_6ef6f_row7_col10 {\n",
       "  background-color: #4f69d9;\n",
       "  color: #f1f1f1;\n",
       "}\n",
       "#T_6ef6f_row2_col4, #T_6ef6f_row5_col7, #T_6ef6f_row9_col4 {\n",
       "  background-color: #6180e9;\n",
       "  color: #f1f1f1;\n",
       "}\n",
       "#T_6ef6f_row2_col5 {\n",
       "  background-color: #d4dbe6;\n",
       "  color: #000000;\n",
       "}\n",
       "#T_6ef6f_row2_col6, #T_6ef6f_row3_col6, #T_6ef6f_row5_col9 {\n",
       "  background-color: #5470de;\n",
       "  color: #f1f1f1;\n",
       "}\n",
       "#T_6ef6f_row2_col7 {\n",
       "  background-color: #6687ed;\n",
       "  color: #f1f1f1;\n",
       "}\n",
       "#T_6ef6f_row2_col8, #T_6ef6f_row7_col8, #T_6ef6f_row11_col0, #T_6ef6f_row11_col6, #T_6ef6f_row11_col8 {\n",
       "  background-color: #4b64d5;\n",
       "  color: #f1f1f1;\n",
       "}\n",
       "#T_6ef6f_row2_col10, #T_6ef6f_row8_col0, #T_6ef6f_row8_col10, #T_6ef6f_row9_col1, #T_6ef6f_row9_col2 {\n",
       "  background-color: #4055c8;\n",
       "  color: #f1f1f1;\n",
       "}\n",
       "#T_6ef6f_row2_col12 {\n",
       "  background-color: #dbdcde;\n",
       "  color: #000000;\n",
       "}\n",
       "#T_6ef6f_row2_col13 {\n",
       "  background-color: #c9d7f0;\n",
       "  color: #000000;\n",
       "}\n",
       "#T_6ef6f_row3_col4, #T_6ef6f_row9_col6, #T_6ef6f_row12_col10 {\n",
       "  background-color: #5b7ae5;\n",
       "  color: #f1f1f1;\n",
       "}\n",
       "#T_6ef6f_row3_col5 {\n",
       "  background-color: #dcdddd;\n",
       "  color: #000000;\n",
       "}\n",
       "#T_6ef6f_row3_col7, #T_6ef6f_row8_col6, #T_6ef6f_row11_col4 {\n",
       "  background-color: #5a78e4;\n",
       "  color: #f1f1f1;\n",
       "}\n",
       "#T_6ef6f_row3_col12 {\n",
       "  background-color: #d2dbe8;\n",
       "  color: #000000;\n",
       "}\n",
       "#T_6ef6f_row3_col13 {\n",
       "  background-color: #d3dbe7;\n",
       "  color: #000000;\n",
       "}\n",
       "#T_6ef6f_row4_col3, #T_6ef6f_row5_col10, #T_6ef6f_row6_col10, #T_6ef6f_row8_col1, #T_6ef6f_row10_col9 {\n",
       "  background-color: #4257c9;\n",
       "  color: #f1f1f1;\n",
       "}\n",
       "#T_6ef6f_row4_col5, #T_6ef6f_row11_col12 {\n",
       "  background-color: #d8dce2;\n",
       "  color: #000000;\n",
       "}\n",
       "#T_6ef6f_row4_col9, #T_6ef6f_row5_col1, #T_6ef6f_row9_col8, #T_6ef6f_row10_col8, #T_6ef6f_row11_col10, #T_6ef6f_row12_col2, #T_6ef6f_row12_col11, #T_6ef6f_row13_col1 {\n",
       "  background-color: #4a63d3;\n",
       "  color: #f1f1f1;\n",
       "}\n",
       "#T_6ef6f_row4_col12 {\n",
       "  background-color: #edd1c2;\n",
       "  color: #000000;\n",
       "}\n",
       "#T_6ef6f_row4_col13 {\n",
       "  background-color: #b5cdfa;\n",
       "  color: #000000;\n",
       "}\n",
       "#T_6ef6f_row5_col8, #T_6ef6f_row10_col11 {\n",
       "  background-color: #4e68d8;\n",
       "  color: #f1f1f1;\n",
       "}\n",
       "#T_6ef6f_row5_col11, #T_6ef6f_row11_col1 {\n",
       "  background-color: #4358cb;\n",
       "  color: #f1f1f1;\n",
       "}\n",
       "#T_6ef6f_row5_col13 {\n",
       "  background-color: #e36c55;\n",
       "  color: #f1f1f1;\n",
       "}\n",
       "#T_6ef6f_row6_col2 {\n",
       "  background-color: #3d50c3;\n",
       "  color: #f1f1f1;\n",
       "}\n",
       "#T_6ef6f_row6_col4 {\n",
       "  background-color: #6788ee;\n",
       "  color: #f1f1f1;\n",
       "}\n",
       "#T_6ef6f_row6_col7 {\n",
       "  background-color: #5f7fe8;\n",
       "  color: #f1f1f1;\n",
       "}\n",
       "#T_6ef6f_row6_col12 {\n",
       "  background-color: #ead5c9;\n",
       "  color: #000000;\n",
       "}\n",
       "#T_6ef6f_row6_col13 {\n",
       "  background-color: #b9d0f9;\n",
       "  color: #000000;\n",
       "}\n",
       "#T_6ef6f_row7_col0, #T_6ef6f_row13_col3 {\n",
       "  background-color: #516ddb;\n",
       "  color: #f1f1f1;\n",
       "}\n",
       "#T_6ef6f_row7_col6, #T_6ef6f_row8_col4, #T_6ef6f_row12_col9 {\n",
       "  background-color: #5977e3;\n",
       "  color: #f1f1f1;\n",
       "}\n",
       "#T_6ef6f_row7_col12 {\n",
       "  background-color: #efcfbf;\n",
       "  color: #000000;\n",
       "}\n",
       "#T_6ef6f_row7_col13 {\n",
       "  background-color: #b3cdfb;\n",
       "  color: #000000;\n",
       "}\n",
       "#T_6ef6f_row8_col12 {\n",
       "  background-color: #e4d9d2;\n",
       "  color: #000000;\n",
       "}\n",
       "#T_6ef6f_row8_col13 {\n",
       "  background-color: #c0d4f5;\n",
       "  color: #000000;\n",
       "}\n",
       "#T_6ef6f_row9_col5 {\n",
       "  background-color: #dddcdc;\n",
       "  color: #000000;\n",
       "}\n",
       "#T_6ef6f_row9_col7, #T_6ef6f_row11_col7 {\n",
       "  background-color: #5e7de7;\n",
       "  color: #f1f1f1;\n",
       "}\n",
       "#T_6ef6f_row9_col10, #T_6ef6f_row10_col2 {\n",
       "  background-color: #3e51c5;\n",
       "  color: #f1f1f1;\n",
       "}\n",
       "#T_6ef6f_row9_col12 {\n",
       "  background-color: #dfdbd9;\n",
       "  color: #000000;\n",
       "}\n",
       "#T_6ef6f_row9_col13 {\n",
       "  background-color: #c7d7f0;\n",
       "  color: #000000;\n",
       "}\n",
       "#T_6ef6f_row10_col6 {\n",
       "  background-color: #5673e0;\n",
       "  color: #f1f1f1;\n",
       "}\n",
       "#T_6ef6f_row10_col12 {\n",
       "  background-color: #e1dad6;\n",
       "  color: #000000;\n",
       "}\n",
       "#T_6ef6f_row10_col13 {\n",
       "  background-color: #c6d6f1;\n",
       "  color: #000000;\n",
       "}\n",
       "#T_6ef6f_row11_col13 {\n",
       "  background-color: #cedaeb;\n",
       "  color: #000000;\n",
       "}\n",
       "#T_6ef6f_row12_col4 {\n",
       "  background-color: #96b7ff;\n",
       "  color: #000000;\n",
       "}\n",
       "#T_6ef6f_row12_col6 {\n",
       "  background-color: #86a9fc;\n",
       "  color: #f1f1f1;\n",
       "}\n",
       "#T_6ef6f_row12_col7 {\n",
       "  background-color: #9abbff;\n",
       "  color: #000000;\n",
       "}\n",
       "#T_6ef6f_row12_col8 {\n",
       "  background-color: #6b8df0;\n",
       "  color: #f1f1f1;\n",
       "}\n",
       "#T_6ef6f_row13_col2 {\n",
       "  background-color: #3c4ec2;\n",
       "  color: #f1f1f1;\n",
       "}\n",
       "#T_6ef6f_row13_col5 {\n",
       "  background-color: #e26952;\n",
       "  color: #f1f1f1;\n",
       "}\n",
       "</style>\n",
       "<table id=\"T_6ef6f\">\n",
       "  <thead>\n",
       "    <tr>\n",
       "      <th class=\"blank level0\" >&nbsp;</th>\n",
       "      <th id=\"T_6ef6f_level0_col0\" class=\"col_heading level0 col0\" >Age</th>\n",
       "      <th id=\"T_6ef6f_level0_col1\" class=\"col_heading level0 col1\" >Gender</th>\n",
       "      <th id=\"T_6ef6f_level0_col2\" class=\"col_heading level0 col2\" >Ethnicity</th>\n",
       "      <th id=\"T_6ef6f_level0_col3\" class=\"col_heading level0 col3\" >ParentalEducation</th>\n",
       "      <th id=\"T_6ef6f_level0_col4\" class=\"col_heading level0 col4\" >StudyTimeWeekly</th>\n",
       "      <th id=\"T_6ef6f_level0_col5\" class=\"col_heading level0 col5\" >Absences</th>\n",
       "      <th id=\"T_6ef6f_level0_col6\" class=\"col_heading level0 col6\" >Tutoring</th>\n",
       "      <th id=\"T_6ef6f_level0_col7\" class=\"col_heading level0 col7\" >ParentalSupport</th>\n",
       "      <th id=\"T_6ef6f_level0_col8\" class=\"col_heading level0 col8\" >Extracurricular</th>\n",
       "      <th id=\"T_6ef6f_level0_col9\" class=\"col_heading level0 col9\" >Sports</th>\n",
       "      <th id=\"T_6ef6f_level0_col10\" class=\"col_heading level0 col10\" >Music</th>\n",
       "      <th id=\"T_6ef6f_level0_col11\" class=\"col_heading level0 col11\" >Volunteering</th>\n",
       "      <th id=\"T_6ef6f_level0_col12\" class=\"col_heading level0 col12\" >GPA</th>\n",
       "      <th id=\"T_6ef6f_level0_col13\" class=\"col_heading level0 col13\" >GradeClass</th>\n",
       "    </tr>\n",
       "  </thead>\n",
       "  <tbody>\n",
       "    <tr>\n",
       "      <th id=\"T_6ef6f_level0_row0\" class=\"row_heading level0 row0\" >Age</th>\n",
       "      <td id=\"T_6ef6f_row0_col0\" class=\"data row0 col0\" >1.00</td>\n",
       "      <td id=\"T_6ef6f_row0_col1\" class=\"data row0 col1\" >0.04</td>\n",
       "      <td id=\"T_6ef6f_row0_col2\" class=\"data row0 col2\" >-0.03</td>\n",
       "      <td id=\"T_6ef6f_row0_col3\" class=\"data row0 col3\" >0.03</td>\n",
       "      <td id=\"T_6ef6f_row0_col4\" class=\"data row0 col4\" >-0.01</td>\n",
       "      <td id=\"T_6ef6f_row0_col5\" class=\"data row0 col5\" >-0.01</td>\n",
       "      <td id=\"T_6ef6f_row0_col6\" class=\"data row0 col6\" >-0.01</td>\n",
       "      <td id=\"T_6ef6f_row0_col7\" class=\"data row0 col7\" >0.03</td>\n",
       "      <td id=\"T_6ef6f_row0_col8\" class=\"data row0 col8\" >-0.03</td>\n",
       "      <td id=\"T_6ef6f_row0_col9\" class=\"data row0 col9\" >-0.05</td>\n",
       "      <td id=\"T_6ef6f_row0_col10\" class=\"data row0 col10\" >-0.00</td>\n",
       "      <td id=\"T_6ef6f_row0_col11\" class=\"data row0 col11\" >0.01</td>\n",
       "      <td id=\"T_6ef6f_row0_col12\" class=\"data row0 col12\" >0.00</td>\n",
       "      <td id=\"T_6ef6f_row0_col13\" class=\"data row0 col13\" >-0.01</td>\n",
       "    </tr>\n",
       "    <tr>\n",
       "      <th id=\"T_6ef6f_level0_row1\" class=\"row_heading level0 row1\" >Gender</th>\n",
       "      <td id=\"T_6ef6f_row1_col0\" class=\"data row1 col0\" >0.04</td>\n",
       "      <td id=\"T_6ef6f_row1_col1\" class=\"data row1 col1\" >1.00</td>\n",
       "      <td id=\"T_6ef6f_row1_col2\" class=\"data row1 col2\" >0.02</td>\n",
       "      <td id=\"T_6ef6f_row1_col3\" class=\"data row1 col3\" >0.01</td>\n",
       "      <td id=\"T_6ef6f_row1_col4\" class=\"data row1 col4\" >0.01</td>\n",
       "      <td id=\"T_6ef6f_row1_col5\" class=\"data row1 col5\" >0.02</td>\n",
       "      <td id=\"T_6ef6f_row1_col6\" class=\"data row1 col6\" >-0.03</td>\n",
       "      <td id=\"T_6ef6f_row1_col7\" class=\"data row1 col7\" >0.01</td>\n",
       "      <td id=\"T_6ef6f_row1_col8\" class=\"data row1 col8\" >-0.01</td>\n",
       "      <td id=\"T_6ef6f_row1_col9\" class=\"data row1 col9\" >-0.01</td>\n",
       "      <td id=\"T_6ef6f_row1_col10\" class=\"data row1 col10\" >0.01</td>\n",
       "      <td id=\"T_6ef6f_row1_col11\" class=\"data row1 col11\" >-0.00</td>\n",
       "      <td id=\"T_6ef6f_row1_col12\" class=\"data row1 col12\" >-0.01</td>\n",
       "      <td id=\"T_6ef6f_row1_col13\" class=\"data row1 col13\" >0.02</td>\n",
       "    </tr>\n",
       "    <tr>\n",
       "      <th id=\"T_6ef6f_level0_row2\" class=\"row_heading level0 row2\" >Ethnicity</th>\n",
       "      <td id=\"T_6ef6f_row2_col0\" class=\"data row2 col0\" >-0.03</td>\n",
       "      <td id=\"T_6ef6f_row2_col1\" class=\"data row2 col1\" >0.02</td>\n",
       "      <td id=\"T_6ef6f_row2_col2\" class=\"data row2 col2\" >1.00</td>\n",
       "      <td id=\"T_6ef6f_row2_col3\" class=\"data row2 col3\" >0.03</td>\n",
       "      <td id=\"T_6ef6f_row2_col4\" class=\"data row2 col4\" >0.01</td>\n",
       "      <td id=\"T_6ef6f_row2_col5\" class=\"data row2 col5\" >-0.03</td>\n",
       "      <td id=\"T_6ef6f_row2_col6\" class=\"data row2 col6\" >-0.02</td>\n",
       "      <td id=\"T_6ef6f_row2_col7\" class=\"data row2 col7\" >0.02</td>\n",
       "      <td id=\"T_6ef6f_row2_col8\" class=\"data row2 col8\" >-0.01</td>\n",
       "      <td id=\"T_6ef6f_row2_col9\" class=\"data row2 col9\" >-0.00</td>\n",
       "      <td id=\"T_6ef6f_row2_col10\" class=\"data row2 col10\" >-0.01</td>\n",
       "      <td id=\"T_6ef6f_row2_col11\" class=\"data row2 col11\" >0.01</td>\n",
       "      <td id=\"T_6ef6f_row2_col12\" class=\"data row2 col12\" >0.03</td>\n",
       "      <td id=\"T_6ef6f_row2_col13\" class=\"data row2 col13\" >-0.02</td>\n",
       "    </tr>\n",
       "    <tr>\n",
       "      <th id=\"T_6ef6f_level0_row3\" class=\"row_heading level0 row3\" >ParentalEducation</th>\n",
       "      <td id=\"T_6ef6f_row3_col0\" class=\"data row3 col0\" >0.03</td>\n",
       "      <td id=\"T_6ef6f_row3_col1\" class=\"data row3 col1\" >0.01</td>\n",
       "      <td id=\"T_6ef6f_row3_col2\" class=\"data row3 col2\" >0.03</td>\n",
       "      <td id=\"T_6ef6f_row3_col3\" class=\"data row3 col3\" >1.00</td>\n",
       "      <td id=\"T_6ef6f_row3_col4\" class=\"data row3 col4\" >-0.01</td>\n",
       "      <td id=\"T_6ef6f_row3_col5\" class=\"data row3 col5\" >0.04</td>\n",
       "      <td id=\"T_6ef6f_row3_col6\" class=\"data row3 col6\" >-0.02</td>\n",
       "      <td id=\"T_6ef6f_row3_col7\" class=\"data row3 col7\" >-0.02</td>\n",
       "      <td id=\"T_6ef6f_row3_col8\" class=\"data row3 col8\" >0.01</td>\n",
       "      <td id=\"T_6ef6f_row3_col9\" class=\"data row3 col9\" >0.00</td>\n",
       "      <td id=\"T_6ef6f_row3_col10\" class=\"data row3 col10\" >0.04</td>\n",
       "      <td id=\"T_6ef6f_row3_col11\" class=\"data row3 col11\" >0.01</td>\n",
       "      <td id=\"T_6ef6f_row3_col12\" class=\"data row3 col12\" >-0.04</td>\n",
       "      <td id=\"T_6ef6f_row3_col13\" class=\"data row3 col13\" >0.04</td>\n",
       "    </tr>\n",
       "    <tr>\n",
       "      <th id=\"T_6ef6f_level0_row4\" class=\"row_heading level0 row4\" >StudyTimeWeekly</th>\n",
       "      <td id=\"T_6ef6f_row4_col0\" class=\"data row4 col0\" >-0.01</td>\n",
       "      <td id=\"T_6ef6f_row4_col1\" class=\"data row4 col1\" >0.01</td>\n",
       "      <td id=\"T_6ef6f_row4_col2\" class=\"data row4 col2\" >0.01</td>\n",
       "      <td id=\"T_6ef6f_row4_col3\" class=\"data row4 col3\" >-0.01</td>\n",
       "      <td id=\"T_6ef6f_row4_col4\" class=\"data row4 col4\" >1.00</td>\n",
       "      <td id=\"T_6ef6f_row4_col5\" class=\"data row4 col5\" >0.01</td>\n",
       "      <td id=\"T_6ef6f_row4_col6\" class=\"data row4 col6\" >0.03</td>\n",
       "      <td id=\"T_6ef6f_row4_col7\" class=\"data row4 col7\" >0.04</td>\n",
       "      <td id=\"T_6ef6f_row4_col8\" class=\"data row4 col8\" >-0.02</td>\n",
       "      <td id=\"T_6ef6f_row4_col9\" class=\"data row4 col9\" >0.01</td>\n",
       "      <td id=\"T_6ef6f_row4_col10\" class=\"data row4 col10\" >0.01</td>\n",
       "      <td id=\"T_6ef6f_row4_col11\" class=\"data row4 col11\" >-0.02</td>\n",
       "      <td id=\"T_6ef6f_row4_col12\" class=\"data row4 col12\" >0.18</td>\n",
       "      <td id=\"T_6ef6f_row4_col13\" class=\"data row4 col13\" >-0.13</td>\n",
       "    </tr>\n",
       "    <tr>\n",
       "      <th id=\"T_6ef6f_level0_row5\" class=\"row_heading level0 row5\" >Absences</th>\n",
       "      <td id=\"T_6ef6f_row5_col0\" class=\"data row5 col0\" >-0.01</td>\n",
       "      <td id=\"T_6ef6f_row5_col1\" class=\"data row5 col1\" >0.02</td>\n",
       "      <td id=\"T_6ef6f_row5_col2\" class=\"data row5 col2\" >-0.03</td>\n",
       "      <td id=\"T_6ef6f_row5_col3\" class=\"data row5 col3\" >0.04</td>\n",
       "      <td id=\"T_6ef6f_row5_col4\" class=\"data row5 col4\" >0.01</td>\n",
       "      <td id=\"T_6ef6f_row5_col5\" class=\"data row5 col5\" >1.00</td>\n",
       "      <td id=\"T_6ef6f_row5_col6\" class=\"data row5 col6\" >-0.02</td>\n",
       "      <td id=\"T_6ef6f_row5_col7\" class=\"data row5 col7\" >0.00</td>\n",
       "      <td id=\"T_6ef6f_row5_col8\" class=\"data row5 col8\" >0.00</td>\n",
       "      <td id=\"T_6ef6f_row5_col9\" class=\"data row5 col9\" >0.04</td>\n",
       "      <td id=\"T_6ef6f_row5_col10\" class=\"data row5 col10\" >-0.01</td>\n",
       "      <td id=\"T_6ef6f_row5_col11\" class=\"data row5 col11\" >-0.02</td>\n",
       "      <td id=\"T_6ef6f_row5_col12\" class=\"data row5 col12\" >-0.92</td>\n",
       "      <td id=\"T_6ef6f_row5_col13\" class=\"data row5 col13\" >0.73</td>\n",
       "    </tr>\n",
       "    <tr>\n",
       "      <th id=\"T_6ef6f_level0_row6\" class=\"row_heading level0 row6\" >Tutoring</th>\n",
       "      <td id=\"T_6ef6f_row6_col0\" class=\"data row6 col0\" >-0.01</td>\n",
       "      <td id=\"T_6ef6f_row6_col1\" class=\"data row6 col1\" >-0.03</td>\n",
       "      <td id=\"T_6ef6f_row6_col2\" class=\"data row6 col2\" >-0.02</td>\n",
       "      <td id=\"T_6ef6f_row6_col3\" class=\"data row6 col3\" >-0.02</td>\n",
       "      <td id=\"T_6ef6f_row6_col4\" class=\"data row6 col4\" >0.03</td>\n",
       "      <td id=\"T_6ef6f_row6_col5\" class=\"data row6 col5\" >-0.02</td>\n",
       "      <td id=\"T_6ef6f_row6_col6\" class=\"data row6 col6\" >1.00</td>\n",
       "      <td id=\"T_6ef6f_row6_col7\" class=\"data row6 col7\" >-0.00</td>\n",
       "      <td id=\"T_6ef6f_row6_col8\" class=\"data row6 col8\" >0.00</td>\n",
       "      <td id=\"T_6ef6f_row6_col9\" class=\"data row6 col9\" >0.01</td>\n",
       "      <td id=\"T_6ef6f_row6_col10\" class=\"data row6 col10\" >-0.01</td>\n",
       "      <td id=\"T_6ef6f_row6_col11\" class=\"data row6 col11\" >-0.05</td>\n",
       "      <td id=\"T_6ef6f_row6_col12\" class=\"data row6 col12\" >0.15</td>\n",
       "      <td id=\"T_6ef6f_row6_col13\" class=\"data row6 col13\" >-0.11</td>\n",
       "    </tr>\n",
       "    <tr>\n",
       "      <th id=\"T_6ef6f_level0_row7\" class=\"row_heading level0 row7\" >ParentalSupport</th>\n",
       "      <td id=\"T_6ef6f_row7_col0\" class=\"data row7 col0\" >0.03</td>\n",
       "      <td id=\"T_6ef6f_row7_col1\" class=\"data row7 col1\" >0.01</td>\n",
       "      <td id=\"T_6ef6f_row7_col2\" class=\"data row7 col2\" >0.02</td>\n",
       "      <td id=\"T_6ef6f_row7_col3\" class=\"data row7 col3\" >-0.02</td>\n",
       "      <td id=\"T_6ef6f_row7_col4\" class=\"data row7 col4\" >0.04</td>\n",
       "      <td id=\"T_6ef6f_row7_col5\" class=\"data row7 col5\" >0.00</td>\n",
       "      <td id=\"T_6ef6f_row7_col6\" class=\"data row7 col6\" >-0.00</td>\n",
       "      <td id=\"T_6ef6f_row7_col7\" class=\"data row7 col7\" >1.00</td>\n",
       "      <td id=\"T_6ef6f_row7_col8\" class=\"data row7 col8\" >-0.01</td>\n",
       "      <td id=\"T_6ef6f_row7_col9\" class=\"data row7 col9\" >-0.01</td>\n",
       "      <td id=\"T_6ef6f_row7_col10\" class=\"data row7 col10\" >0.04</td>\n",
       "      <td id=\"T_6ef6f_row7_col11\" class=\"data row7 col11\" >-0.01</td>\n",
       "      <td id=\"T_6ef6f_row7_col12\" class=\"data row7 col12\" >0.19</td>\n",
       "      <td id=\"T_6ef6f_row7_col13\" class=\"data row7 col13\" >-0.14</td>\n",
       "    </tr>\n",
       "    <tr>\n",
       "      <th id=\"T_6ef6f_level0_row8\" class=\"row_heading level0 row8\" >Extracurricular</th>\n",
       "      <td id=\"T_6ef6f_row8_col0\" class=\"data row8 col0\" >-0.03</td>\n",
       "      <td id=\"T_6ef6f_row8_col1\" class=\"data row8 col1\" >-0.01</td>\n",
       "      <td id=\"T_6ef6f_row8_col2\" class=\"data row8 col2\" >-0.01</td>\n",
       "      <td id=\"T_6ef6f_row8_col3\" class=\"data row8 col3\" >0.01</td>\n",
       "      <td id=\"T_6ef6f_row8_col4\" class=\"data row8 col4\" >-0.02</td>\n",
       "      <td id=\"T_6ef6f_row8_col5\" class=\"data row8 col5\" >0.00</td>\n",
       "      <td id=\"T_6ef6f_row8_col6\" class=\"data row8 col6\" >0.00</td>\n",
       "      <td id=\"T_6ef6f_row8_col7\" class=\"data row8 col7\" >-0.01</td>\n",
       "      <td id=\"T_6ef6f_row8_col8\" class=\"data row8 col8\" >1.00</td>\n",
       "      <td id=\"T_6ef6f_row8_col9\" class=\"data row8 col9\" >-0.01</td>\n",
       "      <td id=\"T_6ef6f_row8_col10\" class=\"data row8 col10\" >-0.01</td>\n",
       "      <td id=\"T_6ef6f_row8_col11\" class=\"data row8 col11\" >-0.01</td>\n",
       "      <td id=\"T_6ef6f_row8_col12\" class=\"data row8 col12\" >0.09</td>\n",
       "      <td id=\"T_6ef6f_row8_col13\" class=\"data row8 col13\" >-0.07</td>\n",
       "    </tr>\n",
       "    <tr>\n",
       "      <th id=\"T_6ef6f_level0_row9\" class=\"row_heading level0 row9\" >Sports</th>\n",
       "      <td id=\"T_6ef6f_row9_col0\" class=\"data row9 col0\" >-0.05</td>\n",
       "      <td id=\"T_6ef6f_row9_col1\" class=\"data row9 col1\" >-0.01</td>\n",
       "      <td id=\"T_6ef6f_row9_col2\" class=\"data row9 col2\" >-0.00</td>\n",
       "      <td id=\"T_6ef6f_row9_col3\" class=\"data row9 col3\" >0.00</td>\n",
       "      <td id=\"T_6ef6f_row9_col4\" class=\"data row9 col4\" >0.01</td>\n",
       "      <td id=\"T_6ef6f_row9_col5\" class=\"data row9 col5\" >0.04</td>\n",
       "      <td id=\"T_6ef6f_row9_col6\" class=\"data row9 col6\" >0.01</td>\n",
       "      <td id=\"T_6ef6f_row9_col7\" class=\"data row9 col7\" >-0.01</td>\n",
       "      <td id=\"T_6ef6f_row9_col8\" class=\"data row9 col8\" >-0.01</td>\n",
       "      <td id=\"T_6ef6f_row9_col9\" class=\"data row9 col9\" >1.00</td>\n",
       "      <td id=\"T_6ef6f_row9_col10\" class=\"data row9 col10\" >-0.02</td>\n",
       "      <td id=\"T_6ef6f_row9_col11\" class=\"data row9 col11\" >-0.00</td>\n",
       "      <td id=\"T_6ef6f_row9_col12\" class=\"data row9 col12\" >0.06</td>\n",
       "      <td id=\"T_6ef6f_row9_col13\" class=\"data row9 col13\" >-0.03</td>\n",
       "    </tr>\n",
       "    <tr>\n",
       "      <th id=\"T_6ef6f_level0_row10\" class=\"row_heading level0 row10\" >Music</th>\n",
       "      <td id=\"T_6ef6f_row10_col0\" class=\"data row10 col0\" >-0.00</td>\n",
       "      <td id=\"T_6ef6f_row10_col1\" class=\"data row10 col1\" >0.01</td>\n",
       "      <td id=\"T_6ef6f_row10_col2\" class=\"data row10 col2\" >-0.01</td>\n",
       "      <td id=\"T_6ef6f_row10_col3\" class=\"data row10 col3\" >0.04</td>\n",
       "      <td id=\"T_6ef6f_row10_col4\" class=\"data row10 col4\" >0.01</td>\n",
       "      <td id=\"T_6ef6f_row10_col5\" class=\"data row10 col5\" >-0.01</td>\n",
       "      <td id=\"T_6ef6f_row10_col6\" class=\"data row10 col6\" >-0.01</td>\n",
       "      <td id=\"T_6ef6f_row10_col7\" class=\"data row10 col7\" >0.04</td>\n",
       "      <td id=\"T_6ef6f_row10_col8\" class=\"data row10 col8\" >-0.01</td>\n",
       "      <td id=\"T_6ef6f_row10_col9\" class=\"data row10 col9\" >-0.02</td>\n",
       "      <td id=\"T_6ef6f_row10_col10\" class=\"data row10 col10\" >1.00</td>\n",
       "      <td id=\"T_6ef6f_row10_col11\" class=\"data row10 col11\" >0.02</td>\n",
       "      <td id=\"T_6ef6f_row10_col12\" class=\"data row10 col12\" >0.07</td>\n",
       "      <td id=\"T_6ef6f_row10_col13\" class=\"data row10 col13\" >-0.04</td>\n",
       "    </tr>\n",
       "    <tr>\n",
       "      <th id=\"T_6ef6f_level0_row11\" class=\"row_heading level0 row11\" >Volunteering</th>\n",
       "      <td id=\"T_6ef6f_row11_col0\" class=\"data row11 col0\" >0.01</td>\n",
       "      <td id=\"T_6ef6f_row11_col1\" class=\"data row11 col1\" >-0.00</td>\n",
       "      <td id=\"T_6ef6f_row11_col2\" class=\"data row11 col2\" >0.01</td>\n",
       "      <td id=\"T_6ef6f_row11_col3\" class=\"data row11 col3\" >0.01</td>\n",
       "      <td id=\"T_6ef6f_row11_col4\" class=\"data row11 col4\" >-0.02</td>\n",
       "      <td id=\"T_6ef6f_row11_col5\" class=\"data row11 col5\" >-0.02</td>\n",
       "      <td id=\"T_6ef6f_row11_col6\" class=\"data row11 col6\" >-0.05</td>\n",
       "      <td id=\"T_6ef6f_row11_col7\" class=\"data row11 col7\" >-0.01</td>\n",
       "      <td id=\"T_6ef6f_row11_col8\" class=\"data row11 col8\" >-0.01</td>\n",
       "      <td id=\"T_6ef6f_row11_col9\" class=\"data row11 col9\" >-0.00</td>\n",
       "      <td id=\"T_6ef6f_row11_col10\" class=\"data row11 col10\" >0.02</td>\n",
       "      <td id=\"T_6ef6f_row11_col11\" class=\"data row11 col11\" >1.00</td>\n",
       "      <td id=\"T_6ef6f_row11_col12\" class=\"data row11 col12\" >0.00</td>\n",
       "      <td id=\"T_6ef6f_row11_col13\" class=\"data row11 col13\" >0.01</td>\n",
       "    </tr>\n",
       "    <tr>\n",
       "      <th id=\"T_6ef6f_level0_row12\" class=\"row_heading level0 row12\" >GPA</th>\n",
       "      <td id=\"T_6ef6f_row12_col0\" class=\"data row12 col0\" >0.00</td>\n",
       "      <td id=\"T_6ef6f_row12_col1\" class=\"data row12 col1\" >-0.01</td>\n",
       "      <td id=\"T_6ef6f_row12_col2\" class=\"data row12 col2\" >0.03</td>\n",
       "      <td id=\"T_6ef6f_row12_col3\" class=\"data row12 col3\" >-0.04</td>\n",
       "      <td id=\"T_6ef6f_row12_col4\" class=\"data row12 col4\" >0.18</td>\n",
       "      <td id=\"T_6ef6f_row12_col5\" class=\"data row12 col5\" >-0.92</td>\n",
       "      <td id=\"T_6ef6f_row12_col6\" class=\"data row12 col6\" >0.15</td>\n",
       "      <td id=\"T_6ef6f_row12_col7\" class=\"data row12 col7\" >0.19</td>\n",
       "      <td id=\"T_6ef6f_row12_col8\" class=\"data row12 col8\" >0.09</td>\n",
       "      <td id=\"T_6ef6f_row12_col9\" class=\"data row12 col9\" >0.06</td>\n",
       "      <td id=\"T_6ef6f_row12_col10\" class=\"data row12 col10\" >0.07</td>\n",
       "      <td id=\"T_6ef6f_row12_col11\" class=\"data row12 col11\" >0.00</td>\n",
       "      <td id=\"T_6ef6f_row12_col12\" class=\"data row12 col12\" >1.00</td>\n",
       "      <td id=\"T_6ef6f_row12_col13\" class=\"data row12 col13\" >-0.78</td>\n",
       "    </tr>\n",
       "    <tr>\n",
       "      <th id=\"T_6ef6f_level0_row13\" class=\"row_heading level0 row13\" >GradeClass</th>\n",
       "      <td id=\"T_6ef6f_row13_col0\" class=\"data row13 col0\" >-0.01</td>\n",
       "      <td id=\"T_6ef6f_row13_col1\" class=\"data row13 col1\" >0.02</td>\n",
       "      <td id=\"T_6ef6f_row13_col2\" class=\"data row13 col2\" >-0.02</td>\n",
       "      <td id=\"T_6ef6f_row13_col3\" class=\"data row13 col3\" >0.04</td>\n",
       "      <td id=\"T_6ef6f_row13_col4\" class=\"data row13 col4\" >-0.13</td>\n",
       "      <td id=\"T_6ef6f_row13_col5\" class=\"data row13 col5\" >0.73</td>\n",
       "      <td id=\"T_6ef6f_row13_col6\" class=\"data row13 col6\" >-0.11</td>\n",
       "      <td id=\"T_6ef6f_row13_col7\" class=\"data row13 col7\" >-0.14</td>\n",
       "      <td id=\"T_6ef6f_row13_col8\" class=\"data row13 col8\" >-0.07</td>\n",
       "      <td id=\"T_6ef6f_row13_col9\" class=\"data row13 col9\" >-0.03</td>\n",
       "      <td id=\"T_6ef6f_row13_col10\" class=\"data row13 col10\" >-0.04</td>\n",
       "      <td id=\"T_6ef6f_row13_col11\" class=\"data row13 col11\" >0.01</td>\n",
       "      <td id=\"T_6ef6f_row13_col12\" class=\"data row13 col12\" >-0.78</td>\n",
       "      <td id=\"T_6ef6f_row13_col13\" class=\"data row13 col13\" >1.00</td>\n",
       "    </tr>\n",
       "  </tbody>\n",
       "</table>\n"
      ],
      "text/plain": [
       "<pandas.io.formats.style.Styler at 0x7f50345f4f70>"
      ]
     },
     "execution_count": 9,
     "metadata": {},
     "output_type": "execute_result"
    }
   ],
   "source": [
    "corr_matrix = data.corr()\n",
    "corr_matrix.style.background_gradient(cmap = 'coolwarm').format(precision = 2)"
   ]
  },
  {
   "cell_type": "markdown",
   "id": "01590517",
   "metadata": {
    "papermill": {
     "duration": 0.014113,
     "end_time": "2024-08-14T11:34:48.232011",
     "exception": false,
     "start_time": "2024-08-14T11:34:48.217898",
     "status": "completed"
    },
    "tags": []
   },
   "source": [
    "### Change data types"
   ]
  },
  {
   "cell_type": "markdown",
   "id": "67b9192f",
   "metadata": {
    "papermill": {
     "duration": 0.014384,
     "end_time": "2024-08-14T11:34:48.260955",
     "exception": false,
     "start_time": "2024-08-14T11:34:48.246571",
     "status": "completed"
    },
    "tags": []
   },
   "source": [
    "```GPA``` shouldn't be used as a feature variable to predict ```GradeClass```, as they both represent the same thing. \n"
   ]
  },
  {
   "cell_type": "code",
   "execution_count": 10,
   "id": "1af2db05",
   "metadata": {
    "execution": {
     "iopub.execute_input": "2024-08-14T11:34:48.293015Z",
     "iopub.status.busy": "2024-08-14T11:34:48.292432Z",
     "iopub.status.idle": "2024-08-14T11:34:48.299456Z",
     "shell.execute_reply": "2024-08-14T11:34:48.298253Z"
    },
    "papermill": {
     "duration": 0.025944,
     "end_time": "2024-08-14T11:34:48.302535",
     "exception": false,
     "start_time": "2024-08-14T11:34:48.276591",
     "status": "completed"
    },
    "tags": []
   },
   "outputs": [],
   "source": [
    "data = data.drop(columns = 'GPA')"
   ]
  },
  {
   "cell_type": "code",
   "execution_count": 11,
   "id": "f890c8ca",
   "metadata": {
    "execution": {
     "iopub.execute_input": "2024-08-14T11:34:48.332623Z",
     "iopub.status.busy": "2024-08-14T11:34:48.332150Z",
     "iopub.status.idle": "2024-08-14T11:34:48.348408Z",
     "shell.execute_reply": "2024-08-14T11:34:48.347023Z"
    },
    "papermill": {
     "duration": 0.034783,
     "end_time": "2024-08-14T11:34:48.351508",
     "exception": false,
     "start_time": "2024-08-14T11:34:48.316725",
     "status": "completed"
    },
    "tags": []
   },
   "outputs": [
    {
     "data": {
      "text/plain": [
       "Age                     4\n",
       "Gender                  2\n",
       "Ethnicity               4\n",
       "ParentalEducation       5\n",
       "StudyTimeWeekly      2392\n",
       "Absences               30\n",
       "Tutoring                2\n",
       "ParentalSupport         5\n",
       "Extracurricular         2\n",
       "Sports                  2\n",
       "Music                   2\n",
       "Volunteering            2\n",
       "GradeClass              5\n",
       "dtype: int64"
      ]
     },
     "execution_count": 11,
     "metadata": {},
     "output_type": "execute_result"
    }
   ],
   "source": [
    "data.nunique()"
   ]
  },
  {
   "cell_type": "code",
   "execution_count": 12,
   "id": "f2381ed1",
   "metadata": {
    "execution": {
     "iopub.execute_input": "2024-08-14T11:34:48.384213Z",
     "iopub.status.busy": "2024-08-14T11:34:48.383708Z",
     "iopub.status.idle": "2024-08-14T11:34:48.401951Z",
     "shell.execute_reply": "2024-08-14T11:34:48.400421Z"
    },
    "papermill": {
     "duration": 0.037688,
     "end_time": "2024-08-14T11:34:48.405078",
     "exception": false,
     "start_time": "2024-08-14T11:34:48.367390",
     "status": "completed"
    },
    "tags": []
   },
   "outputs": [],
   "source": [
    "data['Age'] = data['Age'].astype('category')\n",
    "data['Ethnicity'] = data['Ethnicity'].astype('category')\n",
    "data['ParentalEducation'] = data['ParentalEducation'].astype('category')\n",
    "data['ParentalSupport'] = data['ParentalSupport'].astype('category')\n",
    "data['GradeClass'] = data['GradeClass'].astype('category')\n",
    "\n",
    "data['Gender'] = data['Gender'].astype(bool)\n",
    "data['Tutoring'] = data['Tutoring'].astype(bool)\n",
    "data['Extracurricular'] = data['Extracurricular'].astype(bool)\n",
    "data['Sports'] = data['Sports'].astype(bool)\n",
    "data['Music'] = data['Music'].astype(bool)\n",
    "data['Volunteering'] = data['Volunteering'].astype(bool)"
   ]
  },
  {
   "cell_type": "code",
   "execution_count": 13,
   "id": "26ed5b01",
   "metadata": {
    "execution": {
     "iopub.execute_input": "2024-08-14T11:34:48.436942Z",
     "iopub.status.busy": "2024-08-14T11:34:48.435948Z",
     "iopub.status.idle": "2024-08-14T11:34:48.463223Z",
     "shell.execute_reply": "2024-08-14T11:34:48.461840Z"
    },
    "papermill": {
     "duration": 0.04672,
     "end_time": "2024-08-14T11:34:48.466458",
     "exception": false,
     "start_time": "2024-08-14T11:34:48.419738",
     "status": "completed"
    },
    "tags": []
   },
   "outputs": [
    {
     "name": "stdout",
     "output_type": "stream",
     "text": [
      "<class 'pandas.core.frame.DataFrame'>\n",
      "RangeIndex: 2392 entries, 0 to 2391\n",
      "Data columns (total 13 columns):\n",
      " #   Column             Non-Null Count  Dtype   \n",
      "---  ------             --------------  -----   \n",
      " 0   Age                2392 non-null   category\n",
      " 1   Gender             2392 non-null   bool    \n",
      " 2   Ethnicity          2392 non-null   category\n",
      " 3   ParentalEducation  2392 non-null   category\n",
      " 4   StudyTimeWeekly    2392 non-null   float64 \n",
      " 5   Absences           2392 non-null   int64   \n",
      " 6   Tutoring           2392 non-null   bool    \n",
      " 7   ParentalSupport    2392 non-null   category\n",
      " 8   Extracurricular    2392 non-null   bool    \n",
      " 9   Sports             2392 non-null   bool    \n",
      " 10  Music              2392 non-null   bool    \n",
      " 11  Volunteering       2392 non-null   bool    \n",
      " 12  GradeClass         2392 non-null   category\n",
      "dtypes: bool(6), category(5), float64(1), int64(1)\n",
      "memory usage: 64.2 KB\n"
     ]
    }
   ],
   "source": [
    "data.info()"
   ]
  },
  {
   "cell_type": "markdown",
   "id": "a93455e6",
   "metadata": {
    "papermill": {
     "duration": 0.014806,
     "end_time": "2024-08-14T11:34:48.496329",
     "exception": false,
     "start_time": "2024-08-14T11:34:48.481523",
     "status": "completed"
    },
    "tags": []
   },
   "source": [
    "### Standarization"
   ]
  },
  {
   "cell_type": "code",
   "execution_count": 14,
   "id": "6b5f91a7",
   "metadata": {
    "execution": {
     "iopub.execute_input": "2024-08-14T11:34:48.529012Z",
     "iopub.status.busy": "2024-08-14T11:34:48.528550Z",
     "iopub.status.idle": "2024-08-14T11:34:48.542521Z",
     "shell.execute_reply": "2024-08-14T11:34:48.541169Z"
    },
    "papermill": {
     "duration": 0.033706,
     "end_time": "2024-08-14T11:34:48.545267",
     "exception": false,
     "start_time": "2024-08-14T11:34:48.511561",
     "status": "completed"
    },
    "tags": []
   },
   "outputs": [],
   "source": [
    "cols_to_scale = ['StudyTimeWeekly','Absences']\n",
    "std_scaler = StandardScaler()\n",
    "data[cols_to_scale] = std_scaler.fit_transform(data[cols_to_scale])"
   ]
  },
  {
   "cell_type": "markdown",
   "id": "de499668",
   "metadata": {
    "papermill": {
     "duration": 0.014093,
     "end_time": "2024-08-14T11:34:48.574602",
     "exception": false,
     "start_time": "2024-08-14T11:34:48.560509",
     "status": "completed"
    },
    "tags": []
   },
   "source": [
    "## Visualization"
   ]
  },
  {
   "cell_type": "code",
   "execution_count": 15,
   "id": "63f39323",
   "metadata": {
    "execution": {
     "iopub.execute_input": "2024-08-14T11:34:48.605606Z",
     "iopub.status.busy": "2024-08-14T11:34:48.605185Z",
     "iopub.status.idle": "2024-08-14T11:34:48.897568Z",
     "shell.execute_reply": "2024-08-14T11:34:48.896219Z"
    },
    "papermill": {
     "duration": 0.311306,
     "end_time": "2024-08-14T11:34:48.900424",
     "exception": false,
     "start_time": "2024-08-14T11:34:48.589118",
     "status": "completed"
    },
    "tags": []
   },
   "outputs": [
    {
     "data": {
      "image/png": "[encoded data removed]",
      "text/plain": [
       "<Figure size 700x500 with 1 Axes>"
      ]
     },
     "metadata": {},
     "output_type": "display_data"
    }
   ],
   "source": [
    "grade_counts = data['GradeClass'].value_counts()\n",
    "\n",
    "plt.figure(figsize=(7,5))\n",
    "plt.bar(grade_counts.index, grade_counts)\n",
    "plt.xlabel('GradeClass')\n",
    "plt.ylabel('Count')\n",
    "plt.title('Count plot of GradeClass')\n",
    "plt.show()"
   ]
  },
  {
   "cell_type": "markdown",
   "id": "3843cd58",
   "metadata": {
    "papermill": {
     "duration": 0.014505,
     "end_time": "2024-08-14T11:34:48.929928",
     "exception": false,
     "start_time": "2024-08-14T11:34:48.915423",
     "status": "completed"
    },
    "tags": []
   },
   "source": [
    "The target variable is imbalanced, which means we should use stratified splitting."
   ]
  },
  {
   "cell_type": "markdown",
   "id": "1e32d490",
   "metadata": {
    "papermill": {
     "duration": 0.014548,
     "end_time": "2024-08-14T11:34:48.959293",
     "exception": false,
     "start_time": "2024-08-14T11:34:48.944745",
     "status": "completed"
    },
    "tags": []
   },
   "source": [
    "## Building models"
   ]
  },
  {
   "cell_type": "markdown",
   "id": "afea1a0a",
   "metadata": {
    "papermill": {
     "duration": 0.014404,
     "end_time": "2024-08-14T11:34:48.988543",
     "exception": false,
     "start_time": "2024-08-14T11:34:48.974139",
     "status": "completed"
    },
    "tags": []
   },
   "source": [
    "### Splitting dataset"
   ]
  },
  {
   "cell_type": "code",
   "execution_count": 16,
   "id": "1cff82e8",
   "metadata": {
    "execution": {
     "iopub.execute_input": "2024-08-14T11:34:49.020271Z",
     "iopub.status.busy": "2024-08-14T11:34:49.019819Z",
     "iopub.status.idle": "2024-08-14T11:34:49.027120Z",
     "shell.execute_reply": "2024-08-14T11:34:49.025520Z"
    },
    "papermill": {
     "duration": 0.02668,
     "end_time": "2024-08-14T11:34:49.030194",
     "exception": false,
     "start_time": "2024-08-14T11:34:49.003514",
     "status": "completed"
    },
    "tags": []
   },
   "outputs": [],
   "source": [
    "kfold = RepeatedStratifiedKFold(n_splits = 5, n_repeats = 3, random_state = 44)"
   ]
  },
  {
   "cell_type": "code",
   "execution_count": 17,
   "id": "b944f2ed",
   "metadata": {
    "execution": {
     "iopub.execute_input": "2024-08-14T11:34:49.064243Z",
     "iopub.status.busy": "2024-08-14T11:34:49.063660Z",
     "iopub.status.idle": "2024-08-14T11:34:49.082133Z",
     "shell.execute_reply": "2024-08-14T11:34:49.080738Z"
    },
    "papermill": {
     "duration": 0.038707,
     "end_time": "2024-08-14T11:34:49.085361",
     "exception": false,
     "start_time": "2024-08-14T11:34:49.046654",
     "status": "completed"
    },
    "tags": []
   },
   "outputs": [],
   "source": [
    "X = data.drop('GradeClass', axis = 1)\n",
    "y = data['GradeClass']\n",
    "X_train, X_test, y_train, y_test = train_test_split(X, y, test_size = 0.2, random_state = 44, stratify = y)"
   ]
  },
  {
   "cell_type": "markdown",
   "id": "21753377",
   "metadata": {
    "papermill": {
     "duration": 0.016383,
     "end_time": "2024-08-14T11:34:49.117485",
     "exception": false,
     "start_time": "2024-08-14T11:34:49.101102",
     "status": "completed"
    },
    "tags": []
   },
   "source": [
    "### Models"
   ]
  },
  {
   "cell_type": "code",
   "execution_count": 18,
   "id": "7c73944e",
   "metadata": {
    "execution": {
     "iopub.execute_input": "2024-08-14T11:34:49.153477Z",
     "iopub.status.busy": "2024-08-14T11:34:49.152026Z",
     "iopub.status.idle": "2024-08-14T11:34:49.161251Z",
     "shell.execute_reply": "2024-08-14T11:34:49.159414Z"
    },
    "papermill": {
     "duration": 0.030612,
     "end_time": "2024-08-14T11:34:49.164412",
     "exception": false,
     "start_time": "2024-08-14T11:34:49.133800",
     "status": "completed"
    },
    "tags": []
   },
   "outputs": [],
   "source": [
    "classification_models = {\n",
    "    'Logistic Regression': LogisticRegression(max_iter = 900),\n",
    "    'Deicision Tree': DecisionTreeClassifier(),\n",
    "    'Random Forest': RandomForestClassifier(),\n",
    "    'K-nearest Neighbours': KNeighborsClassifier(),\n",
    "    'SVM': SVC(),\n",
    "    'Gaussian Naive Bayes': GaussianNB(),\n",
    "    'Gradient Boosting': GradientBoostingClassifier()\n",
    "}\n",
    "\n",
    "accuracy = []\n",
    "model_name = []"
   ]
  },
  {
   "cell_type": "code",
   "execution_count": 19,
   "id": "2ba45f35",
   "metadata": {
    "execution": {
     "iopub.execute_input": "2024-08-14T11:34:49.197499Z",
     "iopub.status.busy": "2024-08-14T11:34:49.196978Z",
     "iopub.status.idle": "2024-08-14T11:35:28.634697Z",
     "shell.execute_reply": "2024-08-14T11:35:28.633285Z"
    },
    "papermill": {
     "duration": 39.457718,
     "end_time": "2024-08-14T11:35:28.637644",
     "exception": false,
     "start_time": "2024-08-14T11:34:49.179926",
     "status": "completed"
    },
    "tags": []
   },
   "outputs": [],
   "source": [
    "for name, clf in classification_models.items():\n",
    "    score = cross_val_score(clf, X_train, y_train, cv = kfold, scoring = 'accuracy')\n",
    "    score_mean = score.mean()\n",
    "    model_name.append(name)\n",
    "    accuracy.append(score_mean)"
   ]
  },
  {
   "cell_type": "code",
   "execution_count": 20,
   "id": "a07ccdcb",
   "metadata": {
    "execution": {
     "iopub.execute_input": "2024-08-14T11:35:28.671285Z",
     "iopub.status.busy": "2024-08-14T11:35:28.670760Z",
     "iopub.status.idle": "2024-08-14T11:35:28.680807Z",
     "shell.execute_reply": "2024-08-14T11:35:28.679279Z"
    },
    "papermill": {
     "duration": 0.030014,
     "end_time": "2024-08-14T11:35:28.683661",
     "exception": false,
     "start_time": "2024-08-14T11:35:28.653647",
     "status": "completed"
    },
    "tags": []
   },
   "outputs": [
    {
     "name": "stdout",
     "output_type": "stream",
     "text": [
      "                  Model  Accuracy\n",
      "0   Logistic Regression  0.701341\n",
      "1        Deicision Tree  0.601678\n",
      "2         Random Forest  0.692447\n",
      "3  K-nearest Neighbours  0.604469\n",
      "4                   SVM  0.623979\n",
      "5  Gaussian Naive Bayes  0.652719\n",
      "6     Gradient Boosting  0.699068\n"
     ]
    }
   ],
   "source": [
    "results = pd.DataFrame({'Model': model_name, 'Accuracy': accuracy})\n",
    "print(results)"
   ]
  },
  {
   "cell_type": "code",
   "execution_count": 21,
   "id": "fe32508e",
   "metadata": {
    "execution": {
     "iopub.execute_input": "2024-08-14T11:35:28.716878Z",
     "iopub.status.busy": "2024-08-14T11:35:28.716381Z",
     "iopub.status.idle": "2024-08-14T11:35:29.003451Z",
     "shell.execute_reply": "2024-08-14T11:35:29.001593Z"
    },
    "papermill": {
     "duration": 0.307041,
     "end_time": "2024-08-14T11:35:29.006288",
     "exception": false,
     "start_time": "2024-08-14T11:35:28.699247",
     "status": "completed"
    },
    "tags": []
   },
   "outputs": [
    {
     "data": {
      "image/png": "[encoded data removed]",
      "text/plain": [
       "<Figure size 1000x500 with 1 Axes>"
      ]
     },
     "metadata": {},
     "output_type": "display_data"
    }
   ],
   "source": [
    "results_sorted = results.sort_values('Accuracy', ascending = False)\n",
    "\n",
    "plt.figure(figsize=(10,5))\n",
    "plt.bar(results_sorted['Model'], results_sorted['Accuracy'])\n",
    "plt.xlabel('Model')\n",
    "plt.xticks(rotation = 30)\n",
    "plt.ylabel('Accuracy')\n",
    "plt.title('Accuracy of models')\n",
    "plt.show()"
   ]
  }
 ],
 "metadata": {
  "kaggle": {
   "accelerator": "none",
   "dataSources": [
    {
     "datasetId": 5195702,
     "sourceId": 8677630,
     "sourceType": "datasetVersion"
    },
    {
     "sourceId": 183771850,
     "sourceType": "kernelVersion"
    }
   ],
   "dockerImageVersionId": 30732,
   "isGpuEnabled": false,
   "isInternetEnabled": true,
   "language": "python",
   "sourceType": "notebook"
  },
  "kernelspec": {
   "display_name": "Python 3",
   "language": "python",
   "name": "python3"
  },
  "language_info": {
   "codemirror_mode": {
    "name": "ipython",
    "version": 3
   },
   "file_extension": ".py",
   "mimetype": "text/x-python",
   "name": "python",
   "nbconvert_exporter": "python",
   "pygments_lexer": "ipython3",
   "version": "3.10.13"
  },
  "papermill": {
   "default_parameters": {},
   "duration": 54.554444,
   "end_time": "2024-08-14T11:35:30.149687",
   "environment_variables": {},
   "exception": null,
   "input_path": "__notebook__.ipynb",
   "output_path": "__notebook__.ipynb",
   "parameters": {},
   "start_time": "2024-08-14T11:34:35.595243",
   "version": "2.5.0"
  }
 },
 "nbformat": 4,
 "nbformat_minor": 5
}
