{
 "cells": [
  {
   "cell_type": "code",
   "execution_count": 1,
   "id": "55150792",
   "metadata": {
    "_cell_guid": "b1076dfc-b9ad-4769-8c92-a6c4dae69d19",
    "_uuid": "8f2839f25d086af736a60e9eeb907d3b93b6e0e5",
    "execution": {
     "iopub.execute_input": "2024-07-09T13:28:55.086149Z",
     "iopub.status.busy": "2024-07-09T13:28:55.085227Z",
     "iopub.status.idle": "2024-07-09T13:28:55.906644Z",
     "shell.execute_reply": "2024-07-09T13:28:55.905507Z"
    },
    "papermill": {
     "duration": 0.830005,
     "end_time": "2024-07-09T13:28:55.909164",
     "exception": false,
     "start_time": "2024-07-09T13:28:55.079159",
     "status": "completed"
    },
    "tags": []
   },
   "outputs": [],
   "source": [
    "import pandas as pd"
   ]
  },
  {
   "cell_type": "markdown",
   "id": "fc243875",
   "metadata": {
    "papermill": {
     "duration": 0.003892,
     "end_time": "2024-07-09T13:28:55.917825",
     "exception": false,
     "start_time": "2024-07-09T13:28:55.913933",
     "status": "completed"
    },
    "tags": []
   },
   "source": [
    "## Data preparation"
   ]
  },
  {
   "cell_type": "markdown",
   "id": "e4435a4f",
   "metadata": {
    "papermill": {
     "duration": 0.003607,
     "end_time": "2024-07-09T13:28:55.925958",
     "exception": false,
     "start_time": "2024-07-09T13:28:55.922351",
     "status": "completed"
    },
    "tags": []
   },
   "source": [
    "### Import data"
   ]
  },
  {
   "cell_type": "code",
   "execution_count": 2,
   "id": "0f626a62",
   "metadata": {
    "execution": {
     "iopub.execute_input": "2024-07-09T13:28:55.935387Z",
     "iopub.status.busy": "2024-07-09T13:28:55.934913Z",
     "iopub.status.idle": "2024-07-09T13:28:55.985928Z",
     "shell.execute_reply": "2024-07-09T13:28:55.984745Z"
    },
    "papermill": {
     "duration": 0.058553,
     "end_time": "2024-07-09T13:28:55.988379",
     "exception": false,
     "start_time": "2024-07-09T13:28:55.929826",
     "status": "completed"
    },
    "tags": []
   },
   "outputs": [
    {
     "data": {
      "text/html": [
       "<div>\n",
       "<style scoped>\n",
       "    .dataframe tbody tr th:only-of-type {\n",
       "        vertical-align: middle;\n",
       "    }\n",
       "\n",
       "    .dataframe tbody tr th {\n",
       "        vertical-align: top;\n",
       "    }\n",
       "\n",
       "    .dataframe thead th {\n",
       "        text-align: right;\n",
       "    }\n",
       "</style>\n",
       "<table border=\"1\" class=\"dataframe\">\n",
       "  <thead>\n",
       "    <tr style=\"text-align: right;\">\n",
       "      <th></th>\n",
       "      <th>StudentID</th>\n",
       "      <th>Age</th>\n",
       "      <th>Gender</th>\n",
       "      <th>Ethnicity</th>\n",
       "      <th>ParentalEducation</th>\n",
       "      <th>StudyTimeWeekly</th>\n",
       "      <th>Absences</th>\n",
       "      <th>Tutoring</th>\n",
       "      <th>ParentalSupport</th>\n",
       "      <th>Extracurricular</th>\n",
       "      <th>Sports</th>\n",
       "      <th>Music</th>\n",
       "      <th>Volunteering</th>\n",
       "      <th>GPA</th>\n",
       "      <th>GradeClass</th>\n",
       "    </tr>\n",
       "  </thead>\n",
       "  <tbody>\n",
       "    <tr>\n",
       "      <th>0</th>\n",
       "      <td>1001</td>\n",
       "      <td>17</td>\n",
       "      <td>1</td>\n",
       "      <td>0</td>\n",
       "      <td>2</td>\n",
       "      <td>19.833723</td>\n",
       "      <td>7</td>\n",
       "      <td>1</td>\n",
       "      <td>2</td>\n",
       "      <td>0</td>\n",
       "      <td>0</td>\n",
       "      <td>1</td>\n",
       "      <td>0</td>\n",
       "      <td>2.929196</td>\n",
       "      <td>2.0</td>\n",
       "    </tr>\n",
       "    <tr>\n",
       "      <th>1</th>\n",
       "      <td>1002</td>\n",
       "      <td>18</td>\n",
       "      <td>0</td>\n",
       "      <td>0</td>\n",
       "      <td>1</td>\n",
       "      <td>15.408756</td>\n",
       "      <td>0</td>\n",
       "      <td>0</td>\n",
       "      <td>1</td>\n",
       "      <td>0</td>\n",
       "      <td>0</td>\n",
       "      <td>0</td>\n",
       "      <td>0</td>\n",
       "      <td>3.042915</td>\n",
       "      <td>1.0</td>\n",
       "    </tr>\n",
       "    <tr>\n",
       "      <th>2</th>\n",
       "      <td>1003</td>\n",
       "      <td>15</td>\n",
       "      <td>0</td>\n",
       "      <td>2</td>\n",
       "      <td>3</td>\n",
       "      <td>4.210570</td>\n",
       "      <td>26</td>\n",
       "      <td>0</td>\n",
       "      <td>2</td>\n",
       "      <td>0</td>\n",
       "      <td>0</td>\n",
       "      <td>0</td>\n",
       "      <td>0</td>\n",
       "      <td>0.112602</td>\n",
       "      <td>4.0</td>\n",
       "    </tr>\n",
       "    <tr>\n",
       "      <th>3</th>\n",
       "      <td>1004</td>\n",
       "      <td>17</td>\n",
       "      <td>1</td>\n",
       "      <td>0</td>\n",
       "      <td>3</td>\n",
       "      <td>10.028829</td>\n",
       "      <td>14</td>\n",
       "      <td>0</td>\n",
       "      <td>3</td>\n",
       "      <td>1</td>\n",
       "      <td>0</td>\n",
       "      <td>0</td>\n",
       "      <td>0</td>\n",
       "      <td>2.054218</td>\n",
       "      <td>3.0</td>\n",
       "    </tr>\n",
       "    <tr>\n",
       "      <th>4</th>\n",
       "      <td>1005</td>\n",
       "      <td>17</td>\n",
       "      <td>1</td>\n",
       "      <td>0</td>\n",
       "      <td>2</td>\n",
       "      <td>4.672495</td>\n",
       "      <td>17</td>\n",
       "      <td>1</td>\n",
       "      <td>3</td>\n",
       "      <td>0</td>\n",
       "      <td>0</td>\n",
       "      <td>0</td>\n",
       "      <td>0</td>\n",
       "      <td>1.288061</td>\n",
       "      <td>4.0</td>\n",
       "    </tr>\n",
       "    <tr>\n",
       "      <th>5</th>\n",
       "      <td>1006</td>\n",
       "      <td>18</td>\n",
       "      <td>0</td>\n",
       "      <td>0</td>\n",
       "      <td>1</td>\n",
       "      <td>8.191219</td>\n",
       "      <td>0</td>\n",
       "      <td>0</td>\n",
       "      <td>1</td>\n",
       "      <td>1</td>\n",
       "      <td>0</td>\n",
       "      <td>0</td>\n",
       "      <td>0</td>\n",
       "      <td>3.084184</td>\n",
       "      <td>1.0</td>\n",
       "    </tr>\n",
       "    <tr>\n",
       "      <th>6</th>\n",
       "      <td>1007</td>\n",
       "      <td>15</td>\n",
       "      <td>0</td>\n",
       "      <td>1</td>\n",
       "      <td>1</td>\n",
       "      <td>15.601680</td>\n",
       "      <td>10</td>\n",
       "      <td>0</td>\n",
       "      <td>3</td>\n",
       "      <td>0</td>\n",
       "      <td>1</td>\n",
       "      <td>0</td>\n",
       "      <td>0</td>\n",
       "      <td>2.748237</td>\n",
       "      <td>2.0</td>\n",
       "    </tr>\n",
       "    <tr>\n",
       "      <th>7</th>\n",
       "      <td>1008</td>\n",
       "      <td>15</td>\n",
       "      <td>1</td>\n",
       "      <td>1</td>\n",
       "      <td>4</td>\n",
       "      <td>15.424496</td>\n",
       "      <td>22</td>\n",
       "      <td>1</td>\n",
       "      <td>1</td>\n",
       "      <td>1</td>\n",
       "      <td>0</td>\n",
       "      <td>0</td>\n",
       "      <td>0</td>\n",
       "      <td>1.360143</td>\n",
       "      <td>4.0</td>\n",
       "    </tr>\n",
       "    <tr>\n",
       "      <th>8</th>\n",
       "      <td>1009</td>\n",
       "      <td>17</td>\n",
       "      <td>0</td>\n",
       "      <td>0</td>\n",
       "      <td>0</td>\n",
       "      <td>4.562008</td>\n",
       "      <td>1</td>\n",
       "      <td>0</td>\n",
       "      <td>2</td>\n",
       "      <td>0</td>\n",
       "      <td>1</td>\n",
       "      <td>0</td>\n",
       "      <td>1</td>\n",
       "      <td>2.896819</td>\n",
       "      <td>2.0</td>\n",
       "    </tr>\n",
       "    <tr>\n",
       "      <th>9</th>\n",
       "      <td>1010</td>\n",
       "      <td>16</td>\n",
       "      <td>1</td>\n",
       "      <td>0</td>\n",
       "      <td>1</td>\n",
       "      <td>18.444466</td>\n",
       "      <td>0</td>\n",
       "      <td>0</td>\n",
       "      <td>3</td>\n",
       "      <td>1</td>\n",
       "      <td>0</td>\n",
       "      <td>0</td>\n",
       "      <td>0</td>\n",
       "      <td>3.573474</td>\n",
       "      <td>0.0</td>\n",
       "    </tr>\n",
       "  </tbody>\n",
       "</table>\n",
       "</div>"
      ],
      "text/plain": [
       "   StudentID  Age  Gender  Ethnicity  ParentalEducation  StudyTimeWeekly  \\\n",
       "0       1001   17       1          0                  2        19.833723   \n",
       "1       1002   18       0          0                  1        15.408756   \n",
       "2       1003   15       0          2                  3         4.210570   \n",
       "3       1004   17       1          0                  3        10.028829   \n",
       "4       1005   17       1          0                  2         4.672495   \n",
       "5       1006   18       0          0                  1         8.191219   \n",
       "6       1007   15       0          1                  1        15.601680   \n",
       "7       1008   15       1          1                  4        15.424496   \n",
       "8       1009   17       0          0                  0         4.562008   \n",
       "9       1010   16       1          0                  1        18.444466   \n",
       "\n",
       "   Absences  Tutoring  ParentalSupport  Extracurricular  Sports  Music  \\\n",
       "0         7         1                2                0       0      1   \n",
       "1         0         0                1                0       0      0   \n",
       "2        26         0                2                0       0      0   \n",
       "3        14         0                3                1       0      0   \n",
       "4        17         1                3                0       0      0   \n",
       "5         0         0                1                1       0      0   \n",
       "6        10         0                3                0       1      0   \n",
       "7        22         1                1                1       0      0   \n",
       "8         1         0                2                0       1      0   \n",
       "9         0         0                3                1       0      0   \n",
       "\n",
       "   Volunteering       GPA  GradeClass  \n",
       "0             0  2.929196         2.0  \n",
       "1             0  3.042915         1.0  \n",
       "2             0  0.112602         4.0  \n",
       "3             0  2.054218         3.0  \n",
       "4             0  1.288061         4.0  \n",
       "5             0  3.084184         1.0  \n",
       "6             0  2.748237         2.0  \n",
       "7             0  1.360143         4.0  \n",
       "8             1  2.896819         2.0  \n",
       "9             0  3.573474         0.0  "
      ]
     },
     "execution_count": 2,
     "metadata": {},
     "output_type": "execute_result"
    }
   ],
   "source": [
    "data = pd.read_csv(\"/kaggle/input/d/rabieelkharoua/students-performance-dataset/Student_performance_data _.csv\")\n",
    "data.head(10)"
   ]
  },
  {
   "cell_type": "markdown",
   "id": "d1793b97",
   "metadata": {
    "papermill": {
     "duration": 0.004149,
     "end_time": "2024-07-09T13:28:55.997076",
     "exception": false,
     "start_time": "2024-07-09T13:28:55.992927",
     "status": "completed"
    },
    "tags": []
   },
   "source": [
    "### Missing values"
   ]
  },
  {
   "cell_type": "code",
   "execution_count": 3,
   "id": "f59914f5",
   "metadata": {
    "execution": {
     "iopub.execute_input": "2024-07-09T13:28:56.007515Z",
     "iopub.status.busy": "2024-07-09T13:28:56.007127Z",
     "iopub.status.idle": "2024-07-09T13:28:56.017764Z",
     "shell.execute_reply": "2024-07-09T13:28:56.016779Z"
    },
    "papermill": {
     "duration": 0.018366,
     "end_time": "2024-07-09T13:28:56.019948",
     "exception": false,
     "start_time": "2024-07-09T13:28:56.001582",
     "status": "completed"
    },
    "tags": []
   },
   "outputs": [
    {
     "data": {
      "text/plain": [
       "StudentID            0\n",
       "Age                  0\n",
       "Gender               0\n",
       "Ethnicity            0\n",
       "ParentalEducation    0\n",
       "StudyTimeWeekly      0\n",
       "Absences             0\n",
       "Tutoring             0\n",
       "ParentalSupport      0\n",
       "Extracurricular      0\n",
       "Sports               0\n",
       "Music                0\n",
       "Volunteering         0\n",
       "GPA                  0\n",
       "GradeClass           0\n",
       "dtype: int64"
      ]
     },
     "execution_count": 3,
     "metadata": {},
     "output_type": "execute_result"
    }
   ],
   "source": [
    "data.isnull().sum()"
   ]
  },
  {
   "cell_type": "markdown",
   "id": "08d51cdc",
   "metadata": {
    "papermill": {
     "duration": 0.004242,
     "end_time": "2024-07-09T13:28:56.028816",
     "exception": false,
     "start_time": "2024-07-09T13:28:56.024574",
     "status": "completed"
    },
    "tags": []
   },
   "source": [
    "There are no missing values"
   ]
  },
  {
   "cell_type": "markdown",
   "id": "54fda9d1",
   "metadata": {
    "papermill": {
     "duration": 0.004165,
     "end_time": "2024-07-09T13:28:56.037527",
     "exception": false,
     "start_time": "2024-07-09T13:28:56.033362",
     "status": "completed"
    },
    "tags": []
   },
   "source": [
    "### Duplication"
   ]
  },
  {
   "cell_type": "code",
   "execution_count": 4,
   "id": "80fb7ec9",
   "metadata": {
    "execution": {
     "iopub.execute_input": "2024-07-09T13:28:56.048435Z",
     "iopub.status.busy": "2024-07-09T13:28:56.047506Z",
     "iopub.status.idle": "2024-07-09T13:28:56.059291Z",
     "shell.execute_reply": "2024-07-09T13:28:56.058304Z"
    },
    "papermill": {
     "duration": 0.019499,
     "end_time": "2024-07-09T13:28:56.061476",
     "exception": false,
     "start_time": "2024-07-09T13:28:56.041977",
     "status": "completed"
    },
    "tags": []
   },
   "outputs": [
    {
     "data": {
      "text/plain": [
       "0"
      ]
     },
     "execution_count": 4,
     "metadata": {},
     "output_type": "execute_result"
    }
   ],
   "source": [
    "sum(data.duplicated())"
   ]
  },
  {
   "cell_type": "markdown",
   "id": "06af0fd0",
   "metadata": {
    "papermill": {
     "duration": 0.004315,
     "end_time": "2024-07-09T13:28:56.070507",
     "exception": false,
     "start_time": "2024-07-09T13:28:56.066192",
     "status": "completed"
    },
    "tags": []
   },
   "source": [
    "There are no duplicated rows"
   ]
  },
  {
   "cell_type": "markdown",
   "id": "f8568013",
   "metadata": {
    "papermill": {
     "duration": 0.004325,
     "end_time": "2024-07-09T13:28:56.079460",
     "exception": false,
     "start_time": "2024-07-09T13:28:56.075135",
     "status": "completed"
    },
    "tags": []
   },
   "source": [
    "### Change data types"
   ]
  },
  {
   "cell_type": "code",
   "execution_count": 5,
   "id": "2b956542",
   "metadata": {
    "execution": {
     "iopub.execute_input": "2024-07-09T13:28:56.090553Z",
     "iopub.status.busy": "2024-07-09T13:28:56.089818Z",
     "iopub.status.idle": "2024-07-09T13:28:56.100643Z",
     "shell.execute_reply": "2024-07-09T13:28:56.099733Z"
    },
    "papermill": {
     "duration": 0.018719,
     "end_time": "2024-07-09T13:28:56.102825",
     "exception": false,
     "start_time": "2024-07-09T13:28:56.084106",
     "status": "completed"
    },
    "tags": []
   },
   "outputs": [
    {
     "data": {
      "text/plain": [
       "StudentID            2392\n",
       "Age                     4\n",
       "Gender                  2\n",
       "Ethnicity               4\n",
       "ParentalEducation       5\n",
       "StudyTimeWeekly      2392\n",
       "Absences               30\n",
       "Tutoring                2\n",
       "ParentalSupport         5\n",
       "Extracurricular         2\n",
       "Sports                  2\n",
       "Music                   2\n",
       "Volunteering            2\n",
       "GPA                  2371\n",
       "GradeClass              5\n",
       "dtype: int64"
      ]
     },
     "execution_count": 5,
     "metadata": {},
     "output_type": "execute_result"
    }
   ],
   "source": [
    "data.nunique()"
   ]
  },
  {
   "cell_type": "code",
   "execution_count": 6,
   "id": "64d9c184",
   "metadata": {
    "execution": {
     "iopub.execute_input": "2024-07-09T13:28:56.113991Z",
     "iopub.status.busy": "2024-07-09T13:28:56.113629Z",
     "iopub.status.idle": "2024-07-09T13:28:56.129987Z",
     "shell.execute_reply": "2024-07-09T13:28:56.128989Z"
    },
    "papermill": {
     "duration": 0.024777,
     "end_time": "2024-07-09T13:28:56.132464",
     "exception": false,
     "start_time": "2024-07-09T13:28:56.107687",
     "status": "completed"
    },
    "tags": []
   },
   "outputs": [],
   "source": [
    "data[\"Age\"] = data[\"Age\"].astype(\"category\")\n",
    "data[\"Ethnicity\"] = data[\"Ethnicity\"].astype(\"category\")\n",
    "data[\"ParentalEducation\"] = data[\"ParentalEducation\"].astype(\"category\")\n",
    "data[\"ParentalSupport\"] = data[\"ParentalSupport\"].astype(\"category\")\n",
    "data[\"GradeClass\"] = data[\"GradeClass\"].astype(\"category\")\n",
    "\n",
    "data[\"Gender\"] = data[\"Gender\"].astype(\"bool\")\n",
    "data[\"Tutoring\"] = data[\"Tutoring\"].astype(\"bool\")\n",
    "data[\"Extracurricular\"] = data[\"Extracurricular\"].astype(\"bool\")\n",
    "data[\"Sports\"] = data[\"Sports\"].astype(\"bool\")\n",
    "data[\"Music\"] = data[\"Music\"].astype(\"bool\")\n",
    "data[\"Volunteering\"] = data[\"Volunteering\"].astype(\"bool\")"
   ]
  },
  {
   "cell_type": "code",
   "execution_count": 7,
   "id": "c7756413",
   "metadata": {
    "execution": {
     "iopub.execute_input": "2024-07-09T13:28:56.144631Z",
     "iopub.status.busy": "2024-07-09T13:28:56.143570Z",
     "iopub.status.idle": "2024-07-09T13:28:56.166328Z",
     "shell.execute_reply": "2024-07-09T13:28:56.165172Z"
    },
    "papermill": {
     "duration": 0.031272,
     "end_time": "2024-07-09T13:28:56.168733",
     "exception": false,
     "start_time": "2024-07-09T13:28:56.137461",
     "status": "completed"
    },
    "tags": []
   },
   "outputs": [
    {
     "name": "stdout",
     "output_type": "stream",
     "text": [
      "<class 'pandas.core.frame.DataFrame'>\n",
      "RangeIndex: 2392 entries, 0 to 2391\n",
      "Data columns (total 15 columns):\n",
      " #   Column             Non-Null Count  Dtype   \n",
      "---  ------             --------------  -----   \n",
      " 0   StudentID          2392 non-null   int64   \n",
      " 1   Age                2392 non-null   category\n",
      " 2   Gender             2392 non-null   bool    \n",
      " 3   Ethnicity          2392 non-null   category\n",
      " 4   ParentalEducation  2392 non-null   category\n",
      " 5   StudyTimeWeekly    2392 non-null   float64 \n",
      " 6   Absences           2392 non-null   int64   \n",
      " 7   Tutoring           2392 non-null   bool    \n",
      " 8   ParentalSupport    2392 non-null   category\n",
      " 9   Extracurricular    2392 non-null   bool    \n",
      " 10  Sports             2392 non-null   bool    \n",
      " 11  Music              2392 non-null   bool    \n",
      " 12  Volunteering       2392 non-null   bool    \n",
      " 13  GPA                2392 non-null   float64 \n",
      " 14  GradeClass         2392 non-null   category\n",
      "dtypes: bool(6), category(5), float64(2), int64(2)\n",
      "memory usage: 101.6 KB\n"
     ]
    }
   ],
   "source": [
    "data.info()"
   ]
  },
  {
   "cell_type": "markdown",
   "id": "70cb91b0",
   "metadata": {
    "papermill": {
     "duration": 0.004589,
     "end_time": "2024-07-09T13:28:56.178350",
     "exception": false,
     "start_time": "2024-07-09T13:28:56.173761",
     "status": "completed"
    },
    "tags": []
   },
   "source": [
    "## Exploratory Data Analysis"
   ]
  },
  {
   "cell_type": "markdown",
   "id": "4564681d",
   "metadata": {
    "papermill": {
     "duration": 0.004531,
     "end_time": "2024-07-09T13:28:56.187741",
     "exception": false,
     "start_time": "2024-07-09T13:28:56.183210",
     "status": "completed"
    },
    "tags": []
   },
   "source": [
    "### Basic statistics"
   ]
  },
  {
   "cell_type": "code",
   "execution_count": 8,
   "id": "b084f8ef",
   "metadata": {
    "execution": {
     "iopub.execute_input": "2024-07-09T13:28:56.198999Z",
     "iopub.status.busy": "2024-07-09T13:28:56.198584Z",
     "iopub.status.idle": "2024-07-09T13:28:56.221032Z",
     "shell.execute_reply": "2024-07-09T13:28:56.219995Z"
    },
    "papermill": {
     "duration": 0.03099,
     "end_time": "2024-07-09T13:28:56.223512",
     "exception": false,
     "start_time": "2024-07-09T13:28:56.192522",
     "status": "completed"
    },
    "tags": []
   },
   "outputs": [
    {
     "data": {
      "text/html": [
       "<div>\n",
       "<style scoped>\n",
       "    .dataframe tbody tr th:only-of-type {\n",
       "        vertical-align: middle;\n",
       "    }\n",
       "\n",
       "    .dataframe tbody tr th {\n",
       "        vertical-align: top;\n",
       "    }\n",
       "\n",
       "    .dataframe thead th {\n",
       "        text-align: right;\n",
       "    }\n",
       "</style>\n",
       "<table border=\"1\" class=\"dataframe\">\n",
       "  <thead>\n",
       "    <tr style=\"text-align: right;\">\n",
       "      <th></th>\n",
       "      <th>StudentID</th>\n",
       "      <th>StudyTimeWeekly</th>\n",
       "      <th>Absences</th>\n",
       "      <th>GPA</th>\n",
       "    </tr>\n",
       "  </thead>\n",
       "  <tbody>\n",
       "    <tr>\n",
       "      <th>count</th>\n",
       "      <td>2392.000000</td>\n",
       "      <td>2392.000000</td>\n",
       "      <td>2392.000000</td>\n",
       "      <td>2392.000000</td>\n",
       "    </tr>\n",
       "    <tr>\n",
       "      <th>mean</th>\n",
       "      <td>2196.500000</td>\n",
       "      <td>9.771992</td>\n",
       "      <td>14.541388</td>\n",
       "      <td>1.906186</td>\n",
       "    </tr>\n",
       "    <tr>\n",
       "      <th>std</th>\n",
       "      <td>690.655244</td>\n",
       "      <td>5.652774</td>\n",
       "      <td>8.467417</td>\n",
       "      <td>0.915156</td>\n",
       "    </tr>\n",
       "    <tr>\n",
       "      <th>min</th>\n",
       "      <td>1001.000000</td>\n",
       "      <td>0.001057</td>\n",
       "      <td>0.000000</td>\n",
       "      <td>0.000000</td>\n",
       "    </tr>\n",
       "    <tr>\n",
       "      <th>25%</th>\n",
       "      <td>1598.750000</td>\n",
       "      <td>5.043079</td>\n",
       "      <td>7.000000</td>\n",
       "      <td>1.174803</td>\n",
       "    </tr>\n",
       "    <tr>\n",
       "      <th>50%</th>\n",
       "      <td>2196.500000</td>\n",
       "      <td>9.705363</td>\n",
       "      <td>15.000000</td>\n",
       "      <td>1.893393</td>\n",
       "    </tr>\n",
       "    <tr>\n",
       "      <th>75%</th>\n",
       "      <td>2794.250000</td>\n",
       "      <td>14.408410</td>\n",
       "      <td>22.000000</td>\n",
       "      <td>2.622216</td>\n",
       "    </tr>\n",
       "    <tr>\n",
       "      <th>max</th>\n",
       "      <td>3392.000000</td>\n",
       "      <td>19.978094</td>\n",
       "      <td>29.000000</td>\n",
       "      <td>4.000000</td>\n",
       "    </tr>\n",
       "  </tbody>\n",
       "</table>\n",
       "</div>"
      ],
      "text/plain": [
       "         StudentID  StudyTimeWeekly     Absences          GPA\n",
       "count  2392.000000      2392.000000  2392.000000  2392.000000\n",
       "mean   2196.500000         9.771992    14.541388     1.906186\n",
       "std     690.655244         5.652774     8.467417     0.915156\n",
       "min    1001.000000         0.001057     0.000000     0.000000\n",
       "25%    1598.750000         5.043079     7.000000     1.174803\n",
       "50%    2196.500000         9.705363    15.000000     1.893393\n",
       "75%    2794.250000        14.408410    22.000000     2.622216\n",
       "max    3392.000000        19.978094    29.000000     4.000000"
      ]
     },
     "execution_count": 8,
     "metadata": {},
     "output_type": "execute_result"
    }
   ],
   "source": [
    "data.describe()"
   ]
  }
 ],
 "metadata": {
  "kaggle": {
   "accelerator": "none",
   "dataSources": [
    {
     "datasetId": 5195702,
     "sourceId": 8677630,
     "sourceType": "datasetVersion"
    },
    {
     "sourceId": 183771850,
     "sourceType": "kernelVersion"
    }
   ],
   "dockerImageVersionId": 30732,
   "isGpuEnabled": false,
   "isInternetEnabled": true,
   "language": "python",
   "sourceType": "notebook"
  },
  "kernelspec": {
   "display_name": "Python 3",
   "language": "python",
   "name": "python3"
  },
  "language_info": {
   "codemirror_mode": {
    "name": "ipython",
    "version": 3
   },
   "file_extension": ".py",
   "mimetype": "text/x-python",
   "name": "python",
   "nbconvert_exporter": "python",
   "pygments_lexer": "ipython3",
   "version": "3.10.13"
  },
  "papermill": {
   "default_parameters": {},
   "duration": 4.235057,
   "end_time": "2024-07-09T13:28:56.648182",
   "environment_variables": {},
   "exception": null,
   "input_path": "__notebook__.ipynb",
   "output_path": "__notebook__.ipynb",
   "parameters": {},
   "start_time": "2024-07-09T13:28:52.413125",
   "version": "2.5.0"
  }
 },
 "nbformat": 4,
 "nbformat_minor": 5
}
