{
 "cells": [
  {
   "cell_type": "code",
   "execution_count": 1,
   "id": "1f69756d",
   "metadata": {
    "_cell_guid": "b1076dfc-b9ad-4769-8c92-a6c4dae69d19",
    "_uuid": "8f2839f25d086af736a60e9eeb907d3b93b6e0e5",
    "execution": {
     "iopub.execute_input": "2024-07-11T11:17:27.943984Z",
     "iopub.status.busy": "2024-07-11T11:17:27.943448Z",
     "iopub.status.idle": "2024-07-11T11:17:33.484228Z",
     "shell.execute_reply": "2024-07-11T11:17:33.482709Z"
    },
    "papermill": {
     "duration": 5.555379,
     "end_time": "2024-07-11T11:17:33.488530",
     "exception": false,
     "start_time": "2024-07-11T11:17:27.933151",
     "status": "completed"
    },
    "tags": []
   },
   "outputs": [],
   "source": [
    "import pandas as pd\n",
    "import matplotlib.pyplot as plt\n",
    "import seaborn as sns\n",
    "import statsmodels.api as sm\n",
    "from statsmodels.formula.api import ols"
   ]
  },
  {
   "cell_type": "markdown",
   "id": "40a7d71e",
   "metadata": {
    "papermill": {
     "duration": 0.010505,
     "end_time": "2024-07-11T11:17:33.510462",
     "exception": false,
     "start_time": "2024-07-11T11:17:33.499957",
     "status": "completed"
    },
    "tags": []
   },
   "source": [
    "## Data preparation"
   ]
  },
  {
   "cell_type": "markdown",
   "id": "bcb64a94",
   "metadata": {
    "papermill": {
     "duration": 0.007377,
     "end_time": "2024-07-11T11:17:33.527017",
     "exception": false,
     "start_time": "2024-07-11T11:17:33.519640",
     "status": "completed"
    },
    "tags": []
   },
   "source": [
    "### Import data"
   ]
  },
  {
   "cell_type": "code",
   "execution_count": 2,
   "id": "afc9dc16",
   "metadata": {
    "execution": {
     "iopub.execute_input": "2024-07-11T11:17:33.545603Z",
     "iopub.status.busy": "2024-07-11T11:17:33.544713Z",
     "iopub.status.idle": "2024-07-11T11:17:33.618690Z",
     "shell.execute_reply": "2024-07-11T11:17:33.617236Z"
    },
    "papermill": {
     "duration": 0.087015,
     "end_time": "2024-07-11T11:17:33.622055",
     "exception": false,
     "start_time": "2024-07-11T11:17:33.535040",
     "status": "completed"
    },
    "tags": []
   },
   "outputs": [
    {
     "data": {
      "text/html": [
       "<div>\n",
       "<style scoped>\n",
       "    .dataframe tbody tr th:only-of-type {\n",
       "        vertical-align: middle;\n",
       "    }\n",
       "\n",
       "    .dataframe tbody tr th {\n",
       "        vertical-align: top;\n",
       "    }\n",
       "\n",
       "    .dataframe thead th {\n",
       "        text-align: right;\n",
       "    }\n",
       "</style>\n",
       "<table border=\"1\" class=\"dataframe\">\n",
       "  <thead>\n",
       "    <tr style=\"text-align: right;\">\n",
       "      <th></th>\n",
       "      <th>StudentID</th>\n",
       "      <th>Age</th>\n",
       "      <th>Gender</th>\n",
       "      <th>Ethnicity</th>\n",
       "      <th>ParentalEducation</th>\n",
       "      <th>StudyTimeWeekly</th>\n",
       "      <th>Absences</th>\n",
       "      <th>Tutoring</th>\n",
       "      <th>ParentalSupport</th>\n",
       "      <th>Extracurricular</th>\n",
       "      <th>Sports</th>\n",
       "      <th>Music</th>\n",
       "      <th>Volunteering</th>\n",
       "      <th>GPA</th>\n",
       "      <th>GradeClass</th>\n",
       "    </tr>\n",
       "  </thead>\n",
       "  <tbody>\n",
       "    <tr>\n",
       "      <th>0</th>\n",
       "      <td>1001</td>\n",
       "      <td>17</td>\n",
       "      <td>1</td>\n",
       "      <td>0</td>\n",
       "      <td>2</td>\n",
       "      <td>19.833723</td>\n",
       "      <td>7</td>\n",
       "      <td>1</td>\n",
       "      <td>2</td>\n",
       "      <td>0</td>\n",
       "      <td>0</td>\n",
       "      <td>1</td>\n",
       "      <td>0</td>\n",
       "      <td>2.929196</td>\n",
       "      <td>2.0</td>\n",
       "    </tr>\n",
       "    <tr>\n",
       "      <th>1</th>\n",
       "      <td>1002</td>\n",
       "      <td>18</td>\n",
       "      <td>0</td>\n",
       "      <td>0</td>\n",
       "      <td>1</td>\n",
       "      <td>15.408756</td>\n",
       "      <td>0</td>\n",
       "      <td>0</td>\n",
       "      <td>1</td>\n",
       "      <td>0</td>\n",
       "      <td>0</td>\n",
       "      <td>0</td>\n",
       "      <td>0</td>\n",
       "      <td>3.042915</td>\n",
       "      <td>1.0</td>\n",
       "    </tr>\n",
       "    <tr>\n",
       "      <th>2</th>\n",
       "      <td>1003</td>\n",
       "      <td>15</td>\n",
       "      <td>0</td>\n",
       "      <td>2</td>\n",
       "      <td>3</td>\n",
       "      <td>4.210570</td>\n",
       "      <td>26</td>\n",
       "      <td>0</td>\n",
       "      <td>2</td>\n",
       "      <td>0</td>\n",
       "      <td>0</td>\n",
       "      <td>0</td>\n",
       "      <td>0</td>\n",
       "      <td>0.112602</td>\n",
       "      <td>4.0</td>\n",
       "    </tr>\n",
       "    <tr>\n",
       "      <th>3</th>\n",
       "      <td>1004</td>\n",
       "      <td>17</td>\n",
       "      <td>1</td>\n",
       "      <td>0</td>\n",
       "      <td>3</td>\n",
       "      <td>10.028829</td>\n",
       "      <td>14</td>\n",
       "      <td>0</td>\n",
       "      <td>3</td>\n",
       "      <td>1</td>\n",
       "      <td>0</td>\n",
       "      <td>0</td>\n",
       "      <td>0</td>\n",
       "      <td>2.054218</td>\n",
       "      <td>3.0</td>\n",
       "    </tr>\n",
       "    <tr>\n",
       "      <th>4</th>\n",
       "      <td>1005</td>\n",
       "      <td>17</td>\n",
       "      <td>1</td>\n",
       "      <td>0</td>\n",
       "      <td>2</td>\n",
       "      <td>4.672495</td>\n",
       "      <td>17</td>\n",
       "      <td>1</td>\n",
       "      <td>3</td>\n",
       "      <td>0</td>\n",
       "      <td>0</td>\n",
       "      <td>0</td>\n",
       "      <td>0</td>\n",
       "      <td>1.288061</td>\n",
       "      <td>4.0</td>\n",
       "    </tr>\n",
       "    <tr>\n",
       "      <th>5</th>\n",
       "      <td>1006</td>\n",
       "      <td>18</td>\n",
       "      <td>0</td>\n",
       "      <td>0</td>\n",
       "      <td>1</td>\n",
       "      <td>8.191219</td>\n",
       "      <td>0</td>\n",
       "      <td>0</td>\n",
       "      <td>1</td>\n",
       "      <td>1</td>\n",
       "      <td>0</td>\n",
       "      <td>0</td>\n",
       "      <td>0</td>\n",
       "      <td>3.084184</td>\n",
       "      <td>1.0</td>\n",
       "    </tr>\n",
       "    <tr>\n",
       "      <th>6</th>\n",
       "      <td>1007</td>\n",
       "      <td>15</td>\n",
       "      <td>0</td>\n",
       "      <td>1</td>\n",
       "      <td>1</td>\n",
       "      <td>15.601680</td>\n",
       "      <td>10</td>\n",
       "      <td>0</td>\n",
       "      <td>3</td>\n",
       "      <td>0</td>\n",
       "      <td>1</td>\n",
       "      <td>0</td>\n",
       "      <td>0</td>\n",
       "      <td>2.748237</td>\n",
       "      <td>2.0</td>\n",
       "    </tr>\n",
       "    <tr>\n",
       "      <th>7</th>\n",
       "      <td>1008</td>\n",
       "      <td>15</td>\n",
       "      <td>1</td>\n",
       "      <td>1</td>\n",
       "      <td>4</td>\n",
       "      <td>15.424496</td>\n",
       "      <td>22</td>\n",
       "      <td>1</td>\n",
       "      <td>1</td>\n",
       "      <td>1</td>\n",
       "      <td>0</td>\n",
       "      <td>0</td>\n",
       "      <td>0</td>\n",
       "      <td>1.360143</td>\n",
       "      <td>4.0</td>\n",
       "    </tr>\n",
       "    <tr>\n",
       "      <th>8</th>\n",
       "      <td>1009</td>\n",
       "      <td>17</td>\n",
       "      <td>0</td>\n",
       "      <td>0</td>\n",
       "      <td>0</td>\n",
       "      <td>4.562008</td>\n",
       "      <td>1</td>\n",
       "      <td>0</td>\n",
       "      <td>2</td>\n",
       "      <td>0</td>\n",
       "      <td>1</td>\n",
       "      <td>0</td>\n",
       "      <td>1</td>\n",
       "      <td>2.896819</td>\n",
       "      <td>2.0</td>\n",
       "    </tr>\n",
       "    <tr>\n",
       "      <th>9</th>\n",
       "      <td>1010</td>\n",
       "      <td>16</td>\n",
       "      <td>1</td>\n",
       "      <td>0</td>\n",
       "      <td>1</td>\n",
       "      <td>18.444466</td>\n",
       "      <td>0</td>\n",
       "      <td>0</td>\n",
       "      <td>3</td>\n",
       "      <td>1</td>\n",
       "      <td>0</td>\n",
       "      <td>0</td>\n",
       "      <td>0</td>\n",
       "      <td>3.573474</td>\n",
       "      <td>0.0</td>\n",
       "    </tr>\n",
       "  </tbody>\n",
       "</table>\n",
       "</div>"
      ],
      "text/plain": [
       "   StudentID  Age  Gender  Ethnicity  ParentalEducation  StudyTimeWeekly  \\\n",
       "0       1001   17       1          0                  2        19.833723   \n",
       "1       1002   18       0          0                  1        15.408756   \n",
       "2       1003   15       0          2                  3         4.210570   \n",
       "3       1004   17       1          0                  3        10.028829   \n",
       "4       1005   17       1          0                  2         4.672495   \n",
       "5       1006   18       0          0                  1         8.191219   \n",
       "6       1007   15       0          1                  1        15.601680   \n",
       "7       1008   15       1          1                  4        15.424496   \n",
       "8       1009   17       0          0                  0         4.562008   \n",
       "9       1010   16       1          0                  1        18.444466   \n",
       "\n",
       "   Absences  Tutoring  ParentalSupport  Extracurricular  Sports  Music  \\\n",
       "0         7         1                2                0       0      1   \n",
       "1         0         0                1                0       0      0   \n",
       "2        26         0                2                0       0      0   \n",
       "3        14         0                3                1       0      0   \n",
       "4        17         1                3                0       0      0   \n",
       "5         0         0                1                1       0      0   \n",
       "6        10         0                3                0       1      0   \n",
       "7        22         1                1                1       0      0   \n",
       "8         1         0                2                0       1      0   \n",
       "9         0         0                3                1       0      0   \n",
       "\n",
       "   Volunteering       GPA  GradeClass  \n",
       "0             0  2.929196         2.0  \n",
       "1             0  3.042915         1.0  \n",
       "2             0  0.112602         4.0  \n",
       "3             0  2.054218         3.0  \n",
       "4             0  1.288061         4.0  \n",
       "5             0  3.084184         1.0  \n",
       "6             0  2.748237         2.0  \n",
       "7             0  1.360143         4.0  \n",
       "8             1  2.896819         2.0  \n",
       "9             0  3.573474         0.0  "
      ]
     },
     "execution_count": 2,
     "metadata": {},
     "output_type": "execute_result"
    }
   ],
   "source": [
    "data = pd.read_csv(\"/kaggle/input/d/rabieelkharoua/students-performance-dataset/Student_performance_data _.csv\")\n",
    "data.head(10)"
   ]
  },
  {
   "cell_type": "code",
   "execution_count": 3,
   "id": "f097ca33",
   "metadata": {
    "execution": {
     "iopub.execute_input": "2024-07-11T11:17:33.641599Z",
     "iopub.status.busy": "2024-07-11T11:17:33.640999Z",
     "iopub.status.idle": "2024-07-11T11:17:33.655369Z",
     "shell.execute_reply": "2024-07-11T11:17:33.653991Z"
    },
    "papermill": {
     "duration": 0.028056,
     "end_time": "2024-07-11T11:17:33.658388",
     "exception": false,
     "start_time": "2024-07-11T11:17:33.630332",
     "status": "completed"
    },
    "tags": []
   },
   "outputs": [],
   "source": [
    "del data['StudentID']"
   ]
  },
  {
   "cell_type": "markdown",
   "id": "99b3e0aa",
   "metadata": {
    "papermill": {
     "duration": 0.007902,
     "end_time": "2024-07-11T11:17:33.674882",
     "exception": false,
     "start_time": "2024-07-11T11:17:33.666980",
     "status": "completed"
    },
    "tags": []
   },
   "source": [
    "### Missing values"
   ]
  },
  {
   "cell_type": "code",
   "execution_count": 4,
   "id": "56b3deb3",
   "metadata": {
    "execution": {
     "iopub.execute_input": "2024-07-11T11:17:33.695425Z",
     "iopub.status.busy": "2024-07-11T11:17:33.693500Z",
     "iopub.status.idle": "2024-07-11T11:17:33.710210Z",
     "shell.execute_reply": "2024-07-11T11:17:33.708743Z"
    },
    "papermill": {
     "duration": 0.029893,
     "end_time": "2024-07-11T11:17:33.713163",
     "exception": false,
     "start_time": "2024-07-11T11:17:33.683270",
     "status": "completed"
    },
    "tags": []
   },
   "outputs": [
    {
     "data": {
      "text/plain": [
       "Age                  0\n",
       "Gender               0\n",
       "Ethnicity            0\n",
       "ParentalEducation    0\n",
       "StudyTimeWeekly      0\n",
       "Absences             0\n",
       "Tutoring             0\n",
       "ParentalSupport      0\n",
       "Extracurricular      0\n",
       "Sports               0\n",
       "Music                0\n",
       "Volunteering         0\n",
       "GPA                  0\n",
       "GradeClass           0\n",
       "dtype: int64"
      ]
     },
     "execution_count": 4,
     "metadata": {},
     "output_type": "execute_result"
    }
   ],
   "source": [
    "data.isnull().sum()"
   ]
  },
  {
   "cell_type": "markdown",
   "id": "081f84ab",
   "metadata": {
    "papermill": {
     "duration": 0.008826,
     "end_time": "2024-07-11T11:17:33.730499",
     "exception": false,
     "start_time": "2024-07-11T11:17:33.721673",
     "status": "completed"
    },
    "tags": []
   },
   "source": [
    "There are no missing values"
   ]
  },
  {
   "cell_type": "markdown",
   "id": "a39c5438",
   "metadata": {
    "papermill": {
     "duration": 0.008048,
     "end_time": "2024-07-11T11:17:33.750407",
     "exception": false,
     "start_time": "2024-07-11T11:17:33.742359",
     "status": "completed"
    },
    "tags": []
   },
   "source": [
    "### Duplication"
   ]
  },
  {
   "cell_type": "code",
   "execution_count": 5,
   "id": "33feead4",
   "metadata": {
    "execution": {
     "iopub.execute_input": "2024-07-11T11:17:33.769923Z",
     "iopub.status.busy": "2024-07-11T11:17:33.768898Z",
     "iopub.status.idle": "2024-07-11T11:17:33.785557Z",
     "shell.execute_reply": "2024-07-11T11:17:33.784315Z"
    },
    "papermill": {
     "duration": 0.029526,
     "end_time": "2024-07-11T11:17:33.788379",
     "exception": false,
     "start_time": "2024-07-11T11:17:33.758853",
     "status": "completed"
    },
    "tags": []
   },
   "outputs": [
    {
     "data": {
      "text/plain": [
       "0"
      ]
     },
     "execution_count": 5,
     "metadata": {},
     "output_type": "execute_result"
    }
   ],
   "source": [
    "sum(data.duplicated())"
   ]
  },
  {
   "cell_type": "markdown",
   "id": "0319fd72",
   "metadata": {
    "papermill": {
     "duration": 0.008376,
     "end_time": "2024-07-11T11:17:33.805370",
     "exception": false,
     "start_time": "2024-07-11T11:17:33.796994",
     "status": "completed"
    },
    "tags": []
   },
   "source": [
    "There are no duplicated rows"
   ]
  },
  {
   "cell_type": "markdown",
   "id": "85e050b9",
   "metadata": {
    "papermill": {
     "duration": 0.008268,
     "end_time": "2024-07-11T11:17:33.822141",
     "exception": false,
     "start_time": "2024-07-11T11:17:33.813873",
     "status": "completed"
    },
    "tags": []
   },
   "source": [
    "### Change data types"
   ]
  },
  {
   "cell_type": "code",
   "execution_count": 6,
   "id": "d20a6de0",
   "metadata": {
    "execution": {
     "iopub.execute_input": "2024-07-11T11:17:33.841090Z",
     "iopub.status.busy": "2024-07-11T11:17:33.840573Z",
     "iopub.status.idle": "2024-07-11T11:17:33.857015Z",
     "shell.execute_reply": "2024-07-11T11:17:33.855411Z"
    },
    "papermill": {
     "duration": 0.02961,
     "end_time": "2024-07-11T11:17:33.860061",
     "exception": false,
     "start_time": "2024-07-11T11:17:33.830451",
     "status": "completed"
    },
    "tags": []
   },
   "outputs": [
    {
     "data": {
      "text/plain": [
       "Age                     4\n",
       "Gender                  2\n",
       "Ethnicity               4\n",
       "ParentalEducation       5\n",
       "StudyTimeWeekly      2392\n",
       "Absences               30\n",
       "Tutoring                2\n",
       "ParentalSupport         5\n",
       "Extracurricular         2\n",
       "Sports                  2\n",
       "Music                   2\n",
       "Volunteering            2\n",
       "GPA                  2371\n",
       "GradeClass              5\n",
       "dtype: int64"
      ]
     },
     "execution_count": 6,
     "metadata": {},
     "output_type": "execute_result"
    }
   ],
   "source": [
    "data.nunique()"
   ]
  },
  {
   "cell_type": "code",
   "execution_count": 7,
   "id": "d16250c1",
   "metadata": {
    "execution": {
     "iopub.execute_input": "2024-07-11T11:17:33.879847Z",
     "iopub.status.busy": "2024-07-11T11:17:33.879311Z",
     "iopub.status.idle": "2024-07-11T11:17:33.898975Z",
     "shell.execute_reply": "2024-07-11T11:17:33.897671Z"
    },
    "papermill": {
     "duration": 0.033235,
     "end_time": "2024-07-11T11:17:33.902206",
     "exception": false,
     "start_time": "2024-07-11T11:17:33.868971",
     "status": "completed"
    },
    "tags": []
   },
   "outputs": [],
   "source": [
    "data['Age'] = data['Age'].astype('category')\n",
    "data['Ethnicity'] = data['Ethnicity'].astype('category')\n",
    "data['ParentalEducation'] = data['ParentalEducation'].astype('category')\n",
    "data['ParentalSupport'] = data['ParentalSupport'].astype('category')\n",
    "data['GradeClass'] = data['GradeClass'].astype('category')\n",
    "\n",
    "data['Gender'] = data['Gender'].astype(bool)\n",
    "data['Tutoring'] = data['Tutoring'].astype(bool)\n",
    "data['Extracurricular'] = data['Extracurricular'].astype(bool)\n",
    "data['Sports'] = data['Sports'].astype(bool)\n",
    "data['Music'] = data['Music'].astype(bool)\n",
    "data['Volunteering'] = data['Volunteering'].astype(bool)"
   ]
  },
  {
   "cell_type": "code",
   "execution_count": 8,
   "id": "566fcc49",
   "metadata": {
    "execution": {
     "iopub.execute_input": "2024-07-11T11:17:33.922032Z",
     "iopub.status.busy": "2024-07-11T11:17:33.921340Z",
     "iopub.status.idle": "2024-07-11T11:17:33.952045Z",
     "shell.execute_reply": "2024-07-11T11:17:33.950749Z"
    },
    "papermill": {
     "duration": 0.044207,
     "end_time": "2024-07-11T11:17:33.955163",
     "exception": false,
     "start_time": "2024-07-11T11:17:33.910956",
     "status": "completed"
    },
    "tags": []
   },
   "outputs": [
    {
     "name": "stdout",
     "output_type": "stream",
     "text": [
      "<class 'pandas.core.frame.DataFrame'>\n",
      "RangeIndex: 2392 entries, 0 to 2391\n",
      "Data columns (total 14 columns):\n",
      " #   Column             Non-Null Count  Dtype   \n",
      "---  ------             --------------  -----   \n",
      " 0   Age                2392 non-null   category\n",
      " 1   Gender             2392 non-null   bool    \n",
      " 2   Ethnicity          2392 non-null   category\n",
      " 3   ParentalEducation  2392 non-null   category\n",
      " 4   StudyTimeWeekly    2392 non-null   float64 \n",
      " 5   Absences           2392 non-null   int64   \n",
      " 6   Tutoring           2392 non-null   bool    \n",
      " 7   ParentalSupport    2392 non-null   category\n",
      " 8   Extracurricular    2392 non-null   bool    \n",
      " 9   Sports             2392 non-null   bool    \n",
      " 10  Music              2392 non-null   bool    \n",
      " 11  Volunteering       2392 non-null   bool    \n",
      " 12  GPA                2392 non-null   float64 \n",
      " 13  GradeClass         2392 non-null   category\n",
      "dtypes: bool(6), category(5), float64(2), int64(1)\n",
      "memory usage: 82.9 KB\n"
     ]
    }
   ],
   "source": [
    "data.info()"
   ]
  },
  {
   "cell_type": "markdown",
   "id": "3e59170b",
   "metadata": {
    "papermill": {
     "duration": 0.01013,
     "end_time": "2024-07-11T11:17:33.974431",
     "exception": false,
     "start_time": "2024-07-11T11:17:33.964301",
     "status": "completed"
    },
    "tags": []
   },
   "source": [
    "## Exploratory Data Analysis"
   ]
  },
  {
   "cell_type": "markdown",
   "id": "b7b57038",
   "metadata": {
    "papermill": {
     "duration": 0.008352,
     "end_time": "2024-07-11T11:17:33.991919",
     "exception": false,
     "start_time": "2024-07-11T11:17:33.983567",
     "status": "completed"
    },
    "tags": []
   },
   "source": [
    "### Basic statistics"
   ]
  },
  {
   "cell_type": "code",
   "execution_count": 9,
   "id": "fc5edf67",
   "metadata": {
    "execution": {
     "iopub.execute_input": "2024-07-11T11:17:34.011691Z",
     "iopub.status.busy": "2024-07-11T11:17:34.011122Z",
     "iopub.status.idle": "2024-07-11T11:17:34.041234Z",
     "shell.execute_reply": "2024-07-11T11:17:34.039928Z"
    },
    "papermill": {
     "duration": 0.043586,
     "end_time": "2024-07-11T11:17:34.044262",
     "exception": false,
     "start_time": "2024-07-11T11:17:34.000676",
     "status": "completed"
    },
    "tags": []
   },
   "outputs": [
    {
     "data": {
      "text/html": [
       "<div>\n",
       "<style scoped>\n",
       "    .dataframe tbody tr th:only-of-type {\n",
       "        vertical-align: middle;\n",
       "    }\n",
       "\n",
       "    .dataframe tbody tr th {\n",
       "        vertical-align: top;\n",
       "    }\n",
       "\n",
       "    .dataframe thead th {\n",
       "        text-align: right;\n",
       "    }\n",
       "</style>\n",
       "<table border=\"1\" class=\"dataframe\">\n",
       "  <thead>\n",
       "    <tr style=\"text-align: right;\">\n",
       "      <th></th>\n",
       "      <th>StudyTimeWeekly</th>\n",
       "      <th>Absences</th>\n",
       "      <th>GPA</th>\n",
       "    </tr>\n",
       "  </thead>\n",
       "  <tbody>\n",
       "    <tr>\n",
       "      <th>count</th>\n",
       "      <td>2392.000000</td>\n",
       "      <td>2392.000000</td>\n",
       "      <td>2392.000000</td>\n",
       "    </tr>\n",
       "    <tr>\n",
       "      <th>mean</th>\n",
       "      <td>9.771992</td>\n",
       "      <td>14.541388</td>\n",
       "      <td>1.906186</td>\n",
       "    </tr>\n",
       "    <tr>\n",
       "      <th>std</th>\n",
       "      <td>5.652774</td>\n",
       "      <td>8.467417</td>\n",
       "      <td>0.915156</td>\n",
       "    </tr>\n",
       "    <tr>\n",
       "      <th>min</th>\n",
       "      <td>0.001057</td>\n",
       "      <td>0.000000</td>\n",
       "      <td>0.000000</td>\n",
       "    </tr>\n",
       "    <tr>\n",
       "      <th>25%</th>\n",
       "      <td>5.043079</td>\n",
       "      <td>7.000000</td>\n",
       "      <td>1.174803</td>\n",
       "    </tr>\n",
       "    <tr>\n",
       "      <th>50%</th>\n",
       "      <td>9.705363</td>\n",
       "      <td>15.000000</td>\n",
       "      <td>1.893393</td>\n",
       "    </tr>\n",
       "    <tr>\n",
       "      <th>75%</th>\n",
       "      <td>14.408410</td>\n",
       "      <td>22.000000</td>\n",
       "      <td>2.622216</td>\n",
       "    </tr>\n",
       "    <tr>\n",
       "      <th>max</th>\n",
       "      <td>19.978094</td>\n",
       "      <td>29.000000</td>\n",
       "      <td>4.000000</td>\n",
       "    </tr>\n",
       "  </tbody>\n",
       "</table>\n",
       "</div>"
      ],
      "text/plain": [
       "       StudyTimeWeekly     Absences          GPA\n",
       "count      2392.000000  2392.000000  2392.000000\n",
       "mean          9.771992    14.541388     1.906186\n",
       "std           5.652774     8.467417     0.915156\n",
       "min           0.001057     0.000000     0.000000\n",
       "25%           5.043079     7.000000     1.174803\n",
       "50%           9.705363    15.000000     1.893393\n",
       "75%          14.408410    22.000000     2.622216\n",
       "max          19.978094    29.000000     4.000000"
      ]
     },
     "execution_count": 9,
     "metadata": {},
     "output_type": "execute_result"
    }
   ],
   "source": [
    "data.describe()"
   ]
  },
  {
   "cell_type": "markdown",
   "id": "5e3da5a7",
   "metadata": {
    "papermill": {
     "duration": 0.00893,
     "end_time": "2024-07-11T11:17:34.063102",
     "exception": false,
     "start_time": "2024-07-11T11:17:34.054172",
     "status": "completed"
    },
    "tags": []
   },
   "source": [
    "### Visualization"
   ]
  },
  {
   "cell_type": "code",
   "execution_count": 10,
   "id": "6bd0a641",
   "metadata": {
    "execution": {
     "iopub.execute_input": "2024-07-11T11:17:34.083761Z",
     "iopub.status.busy": "2024-07-11T11:17:34.083267Z",
     "iopub.status.idle": "2024-07-11T11:17:34.089791Z",
     "shell.execute_reply": "2024-07-11T11:17:34.088411Z"
    },
    "papermill": {
     "duration": 0.020673,
     "end_time": "2024-07-11T11:17:34.092996",
     "exception": false,
     "start_time": "2024-07-11T11:17:34.072323",
     "status": "completed"
    },
    "tags": []
   },
   "outputs": [],
   "source": [
    "sns.set_palette('pastel')"
   ]
  },
  {
   "cell_type": "code",
   "execution_count": 11,
   "id": "062b7b5d",
   "metadata": {
    "execution": {
     "iopub.execute_input": "2024-07-11T11:17:34.115237Z",
     "iopub.status.busy": "2024-07-11T11:17:34.113899Z",
     "iopub.status.idle": "2024-07-11T11:17:34.123259Z",
     "shell.execute_reply": "2024-07-11T11:17:34.122158Z"
    },
    "papermill": {
     "duration": 0.023587,
     "end_time": "2024-07-11T11:17:34.126111",
     "exception": false,
     "start_time": "2024-07-11T11:17:34.102524",
     "status": "completed"
    },
    "tags": []
   },
   "outputs": [],
   "source": [
    "num_cols = data.select_dtypes(include=['int64','float64']).columns\n",
    "cat_cols = data.select_dtypes(include=['bool','category']).columns"
   ]
  },
  {
   "cell_type": "code",
   "execution_count": 12,
   "id": "83ab7318",
   "metadata": {
    "execution": {
     "iopub.execute_input": "2024-07-11T11:17:34.147561Z",
     "iopub.status.busy": "2024-07-11T11:17:34.147047Z",
     "iopub.status.idle": "2024-07-11T11:17:34.503427Z",
     "shell.execute_reply": "2024-07-11T11:17:34.501726Z"
    },
    "papermill": {
     "duration": 0.371338,
     "end_time": "2024-07-11T11:17:34.506797",
     "exception": false,
     "start_time": "2024-07-11T11:17:34.135459",
     "status": "completed"
    },
    "tags": []
   },
   "outputs": [
    {
     "data": {
      "image/png": "[encoded data removed]",
      "text/plain": [
       "<Figure size 700x500 with 1 Axes>"
      ]
     },
     "metadata": {},
     "output_type": "display_data"
    }
   ],
   "source": [
    "grade_counts = data['GradeClass'].value_counts()\n",
    "\n",
    "plt.figure(figsize=(7,5))\n",
    "plt.bar(grade_counts.index, grade_counts)\n",
    "plt.xlabel('GradeClass')\n",
    "plt.ylabel('Count')\n",
    "plt.title('Count plot of GradeClass')\n",
    "plt.show()"
   ]
  },
  {
   "cell_type": "code",
   "execution_count": 13,
   "id": "4c1749fb",
   "metadata": {
    "execution": {
     "iopub.execute_input": "2024-07-11T11:17:34.528853Z",
     "iopub.status.busy": "2024-07-11T11:17:34.528277Z",
     "iopub.status.idle": "2024-07-11T11:17:34.909966Z",
     "shell.execute_reply": "2024-07-11T11:17:34.908659Z"
    },
    "papermill": {
     "duration": 0.396992,
     "end_time": "2024-07-11T11:17:34.913699",
     "exception": false,
     "start_time": "2024-07-11T11:17:34.516707",
     "status": "completed"
    },
    "tags": []
   },
   "outputs": [
    {
     "data": {
      "text/plain": [
       "<Axes: >"
      ]
     },
     "execution_count": 13,
     "metadata": {},
     "output_type": "execute_result"
    },
    {
     "data": {
      "image/png": "[encoded data removed]",
      "text/plain": [
       "<Figure size 640x480 with 2 Axes>"
      ]
     },
     "metadata": {},
     "output_type": "display_data"
    }
   ],
   "source": [
    "sns.heatmap(data[num_cols].corr())"
   ]
  }
 ],
 "metadata": {
  "kaggle": {
   "accelerator": "none",
   "dataSources": [
    {
     "datasetId": 5195702,
     "sourceId": 8677630,
     "sourceType": "datasetVersion"
    },
    {
     "sourceId": 183771850,
     "sourceType": "kernelVersion"
    }
   ],
   "dockerImageVersionId": 30732,
   "isGpuEnabled": false,
   "isInternetEnabled": true,
   "language": "python",
   "sourceType": "notebook"
  },
  "kernelspec": {
   "display_name": "Python 3",
   "language": "python",
   "name": "python3"
  },
  "language_info": {
   "codemirror_mode": {
    "name": "ipython",
    "version": 3
   },
   "file_extension": ".py",
   "mimetype": "text/x-python",
   "name": "python",
   "nbconvert_exporter": "python",
   "pygments_lexer": "ipython3",
   "version": "3.10.13"
  },
  "papermill": {
   "default_parameters": {},
   "duration": 11.741444,
   "end_time": "2024-07-11T11:17:35.952049",
   "environment_variables": {},
   "exception": null,
   "input_path": "__notebook__.ipynb",
   "output_path": "__notebook__.ipynb",
   "parameters": {},
   "start_time": "2024-07-11T11:17:24.210605",
   "version": "2.5.0"
  }
 },
 "nbformat": 4,
 "nbformat_minor": 5
}
