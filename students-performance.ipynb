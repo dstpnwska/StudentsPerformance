{
 "cells": [
  {
   "cell_type": "markdown",
   "id": "dcfe2297",
   "metadata": {
    "papermill": {
     "duration": 0.006426,
     "end_time": "2024-08-07T08:18:42.868685",
     "exception": false,
     "start_time": "2024-08-07T08:18:42.862259",
     "status": "completed"
    },
    "tags": []
   },
   "source": [
    "## Project topic\n",
    "\n",
    "### About dataset\n",
    "\n",
    "### Process"
   ]
  },
  {
   "cell_type": "code",
   "execution_count": 1,
   "id": "7b84bc3d",
   "metadata": {
    "_cell_guid": "b1076dfc-b9ad-4769-8c92-a6c4dae69d19",
    "_uuid": "8f2839f25d086af736a60e9eeb907d3b93b6e0e5",
    "execution": {
     "iopub.execute_input": "2024-08-07T08:18:42.882518Z",
     "iopub.status.busy": "2024-08-07T08:18:42.882046Z",
     "iopub.status.idle": "2024-08-07T08:18:47.553618Z",
     "shell.execute_reply": "2024-08-07T08:18:47.552250Z"
    },
    "papermill": {
     "duration": 4.681953,
     "end_time": "2024-08-07T08:18:47.556738",
     "exception": false,
     "start_time": "2024-08-07T08:18:42.874785",
     "status": "completed"
    },
    "tags": []
   },
   "outputs": [],
   "source": [
    "import pandas as pd\n",
    "import matplotlib.pyplot as plt\n",
    "import seaborn as sns\n",
    "import statsmodels.api as sm\n",
    "from statsmodels.formula.api import ols\n",
    "from pandas.plotting import scatter_matrix\n",
    "from sklearn.preprocessing import StandardScaler"
   ]
  },
  {
   "cell_type": "markdown",
   "id": "51d9d224",
   "metadata": {
    "papermill": {
     "duration": 0.005625,
     "end_time": "2024-08-07T08:18:47.568562",
     "exception": false,
     "start_time": "2024-08-07T08:18:47.562937",
     "status": "completed"
    },
    "tags": []
   },
   "source": [
    "## Data preprocessing"
   ]
  },
  {
   "cell_type": "markdown",
   "id": "0268ea72",
   "metadata": {
    "papermill": {
     "duration": 0.005624,
     "end_time": "2024-08-07T08:18:47.580862",
     "exception": false,
     "start_time": "2024-08-07T08:18:47.575238",
     "status": "completed"
    },
    "tags": []
   },
   "source": [
    "### Import data"
   ]
  },
  {
   "cell_type": "code",
   "execution_count": 2,
   "id": "12fa445e",
   "metadata": {
    "execution": {
     "iopub.execute_input": "2024-08-07T08:18:47.594865Z",
     "iopub.status.busy": "2024-08-07T08:18:47.594111Z",
     "iopub.status.idle": "2024-08-07T08:18:47.658617Z",
     "shell.execute_reply": "2024-08-07T08:18:47.657266Z"
    },
    "papermill": {
     "duration": 0.074676,
     "end_time": "2024-08-07T08:18:47.661399",
     "exception": false,
     "start_time": "2024-08-07T08:18:47.586723",
     "status": "completed"
    },
    "tags": []
   },
   "outputs": [
    {
     "data": {
      "text/html": [
       "<div>\n",
       "<style scoped>\n",
       "    .dataframe tbody tr th:only-of-type {\n",
       "        vertical-align: middle;\n",
       "    }\n",
       "\n",
       "    .dataframe tbody tr th {\n",
       "        vertical-align: top;\n",
       "    }\n",
       "\n",
       "    .dataframe thead th {\n",
       "        text-align: right;\n",
       "    }\n",
       "</style>\n",
       "<table border=\"1\" class=\"dataframe\">\n",
       "  <thead>\n",
       "    <tr style=\"text-align: right;\">\n",
       "      <th></th>\n",
       "      <th>StudentID</th>\n",
       "      <th>Age</th>\n",
       "      <th>Gender</th>\n",
       "      <th>Ethnicity</th>\n",
       "      <th>ParentalEducation</th>\n",
       "      <th>StudyTimeWeekly</th>\n",
       "      <th>Absences</th>\n",
       "      <th>Tutoring</th>\n",
       "      <th>ParentalSupport</th>\n",
       "      <th>Extracurricular</th>\n",
       "      <th>Sports</th>\n",
       "      <th>Music</th>\n",
       "      <th>Volunteering</th>\n",
       "      <th>GPA</th>\n",
       "      <th>GradeClass</th>\n",
       "    </tr>\n",
       "  </thead>\n",
       "  <tbody>\n",
       "    <tr>\n",
       "      <th>0</th>\n",
       "      <td>1001</td>\n",
       "      <td>17</td>\n",
       "      <td>1</td>\n",
       "      <td>0</td>\n",
       "      <td>2</td>\n",
       "      <td>19.833723</td>\n",
       "      <td>7</td>\n",
       "      <td>1</td>\n",
       "      <td>2</td>\n",
       "      <td>0</td>\n",
       "      <td>0</td>\n",
       "      <td>1</td>\n",
       "      <td>0</td>\n",
       "      <td>2.929196</td>\n",
       "      <td>2.0</td>\n",
       "    </tr>\n",
       "    <tr>\n",
       "      <th>1</th>\n",
       "      <td>1002</td>\n",
       "      <td>18</td>\n",
       "      <td>0</td>\n",
       "      <td>0</td>\n",
       "      <td>1</td>\n",
       "      <td>15.408756</td>\n",
       "      <td>0</td>\n",
       "      <td>0</td>\n",
       "      <td>1</td>\n",
       "      <td>0</td>\n",
       "      <td>0</td>\n",
       "      <td>0</td>\n",
       "      <td>0</td>\n",
       "      <td>3.042915</td>\n",
       "      <td>1.0</td>\n",
       "    </tr>\n",
       "    <tr>\n",
       "      <th>2</th>\n",
       "      <td>1003</td>\n",
       "      <td>15</td>\n",
       "      <td>0</td>\n",
       "      <td>2</td>\n",
       "      <td>3</td>\n",
       "      <td>4.210570</td>\n",
       "      <td>26</td>\n",
       "      <td>0</td>\n",
       "      <td>2</td>\n",
       "      <td>0</td>\n",
       "      <td>0</td>\n",
       "      <td>0</td>\n",
       "      <td>0</td>\n",
       "      <td>0.112602</td>\n",
       "      <td>4.0</td>\n",
       "    </tr>\n",
       "    <tr>\n",
       "      <th>3</th>\n",
       "      <td>1004</td>\n",
       "      <td>17</td>\n",
       "      <td>1</td>\n",
       "      <td>0</td>\n",
       "      <td>3</td>\n",
       "      <td>10.028829</td>\n",
       "      <td>14</td>\n",
       "      <td>0</td>\n",
       "      <td>3</td>\n",
       "      <td>1</td>\n",
       "      <td>0</td>\n",
       "      <td>0</td>\n",
       "      <td>0</td>\n",
       "      <td>2.054218</td>\n",
       "      <td>3.0</td>\n",
       "    </tr>\n",
       "    <tr>\n",
       "      <th>4</th>\n",
       "      <td>1005</td>\n",
       "      <td>17</td>\n",
       "      <td>1</td>\n",
       "      <td>0</td>\n",
       "      <td>2</td>\n",
       "      <td>4.672495</td>\n",
       "      <td>17</td>\n",
       "      <td>1</td>\n",
       "      <td>3</td>\n",
       "      <td>0</td>\n",
       "      <td>0</td>\n",
       "      <td>0</td>\n",
       "      <td>0</td>\n",
       "      <td>1.288061</td>\n",
       "      <td>4.0</td>\n",
       "    </tr>\n",
       "    <tr>\n",
       "      <th>5</th>\n",
       "      <td>1006</td>\n",
       "      <td>18</td>\n",
       "      <td>0</td>\n",
       "      <td>0</td>\n",
       "      <td>1</td>\n",
       "      <td>8.191219</td>\n",
       "      <td>0</td>\n",
       "      <td>0</td>\n",
       "      <td>1</td>\n",
       "      <td>1</td>\n",
       "      <td>0</td>\n",
       "      <td>0</td>\n",
       "      <td>0</td>\n",
       "      <td>3.084184</td>\n",
       "      <td>1.0</td>\n",
       "    </tr>\n",
       "    <tr>\n",
       "      <th>6</th>\n",
       "      <td>1007</td>\n",
       "      <td>15</td>\n",
       "      <td>0</td>\n",
       "      <td>1</td>\n",
       "      <td>1</td>\n",
       "      <td>15.601680</td>\n",
       "      <td>10</td>\n",
       "      <td>0</td>\n",
       "      <td>3</td>\n",
       "      <td>0</td>\n",
       "      <td>1</td>\n",
       "      <td>0</td>\n",
       "      <td>0</td>\n",
       "      <td>2.748237</td>\n",
       "      <td>2.0</td>\n",
       "    </tr>\n",
       "    <tr>\n",
       "      <th>7</th>\n",
       "      <td>1008</td>\n",
       "      <td>15</td>\n",
       "      <td>1</td>\n",
       "      <td>1</td>\n",
       "      <td>4</td>\n",
       "      <td>15.424496</td>\n",
       "      <td>22</td>\n",
       "      <td>1</td>\n",
       "      <td>1</td>\n",
       "      <td>1</td>\n",
       "      <td>0</td>\n",
       "      <td>0</td>\n",
       "      <td>0</td>\n",
       "      <td>1.360143</td>\n",
       "      <td>4.0</td>\n",
       "    </tr>\n",
       "    <tr>\n",
       "      <th>8</th>\n",
       "      <td>1009</td>\n",
       "      <td>17</td>\n",
       "      <td>0</td>\n",
       "      <td>0</td>\n",
       "      <td>0</td>\n",
       "      <td>4.562008</td>\n",
       "      <td>1</td>\n",
       "      <td>0</td>\n",
       "      <td>2</td>\n",
       "      <td>0</td>\n",
       "      <td>1</td>\n",
       "      <td>0</td>\n",
       "      <td>1</td>\n",
       "      <td>2.896819</td>\n",
       "      <td>2.0</td>\n",
       "    </tr>\n",
       "    <tr>\n",
       "      <th>9</th>\n",
       "      <td>1010</td>\n",
       "      <td>16</td>\n",
       "      <td>1</td>\n",
       "      <td>0</td>\n",
       "      <td>1</td>\n",
       "      <td>18.444466</td>\n",
       "      <td>0</td>\n",
       "      <td>0</td>\n",
       "      <td>3</td>\n",
       "      <td>1</td>\n",
       "      <td>0</td>\n",
       "      <td>0</td>\n",
       "      <td>0</td>\n",
       "      <td>3.573474</td>\n",
       "      <td>0.0</td>\n",
       "    </tr>\n",
       "  </tbody>\n",
       "</table>\n",
       "</div>"
      ],
      "text/plain": [
       "   StudentID  Age  Gender  Ethnicity  ParentalEducation  StudyTimeWeekly  \\\n",
       "0       1001   17       1          0                  2        19.833723   \n",
       "1       1002   18       0          0                  1        15.408756   \n",
       "2       1003   15       0          2                  3         4.210570   \n",
       "3       1004   17       1          0                  3        10.028829   \n",
       "4       1005   17       1          0                  2         4.672495   \n",
       "5       1006   18       0          0                  1         8.191219   \n",
       "6       1007   15       0          1                  1        15.601680   \n",
       "7       1008   15       1          1                  4        15.424496   \n",
       "8       1009   17       0          0                  0         4.562008   \n",
       "9       1010   16       1          0                  1        18.444466   \n",
       "\n",
       "   Absences  Tutoring  ParentalSupport  Extracurricular  Sports  Music  \\\n",
       "0         7         1                2                0       0      1   \n",
       "1         0         0                1                0       0      0   \n",
       "2        26         0                2                0       0      0   \n",
       "3        14         0                3                1       0      0   \n",
       "4        17         1                3                0       0      0   \n",
       "5         0         0                1                1       0      0   \n",
       "6        10         0                3                0       1      0   \n",
       "7        22         1                1                1       0      0   \n",
       "8         1         0                2                0       1      0   \n",
       "9         0         0                3                1       0      0   \n",
       "\n",
       "   Volunteering       GPA  GradeClass  \n",
       "0             0  2.929196         2.0  \n",
       "1             0  3.042915         1.0  \n",
       "2             0  0.112602         4.0  \n",
       "3             0  2.054218         3.0  \n",
       "4             0  1.288061         4.0  \n",
       "5             0  3.084184         1.0  \n",
       "6             0  2.748237         2.0  \n",
       "7             0  1.360143         4.0  \n",
       "8             1  2.896819         2.0  \n",
       "9             0  3.573474         0.0  "
      ]
     },
     "execution_count": 2,
     "metadata": {},
     "output_type": "execute_result"
    }
   ],
   "source": [
    "data = pd.read_csv(\"/kaggle/input/d/rabieelkharoua/students-performance-dataset/Student_performance_data _.csv\")\n",
    "data.head(10)"
   ]
  },
  {
   "cell_type": "markdown",
   "id": "a013355f",
   "metadata": {
    "papermill": {
     "duration": 0.005987,
     "end_time": "2024-08-07T08:18:47.673777",
     "exception": false,
     "start_time": "2024-08-07T08:18:47.667790",
     "status": "completed"
    },
    "tags": []
   },
   "source": [
    "StudentID is unique and it doesn't influence student's GradeClass, so this variable isn't useful. "
   ]
  },
  {
   "cell_type": "code",
   "execution_count": 3,
   "id": "71097081",
   "metadata": {
    "execution": {
     "iopub.execute_input": "2024-08-07T08:18:47.688588Z",
     "iopub.status.busy": "2024-08-07T08:18:47.688082Z",
     "iopub.status.idle": "2024-08-07T08:18:47.700825Z",
     "shell.execute_reply": "2024-08-07T08:18:47.699515Z"
    },
    "papermill": {
     "duration": 0.023477,
     "end_time": "2024-08-07T08:18:47.703631",
     "exception": false,
     "start_time": "2024-08-07T08:18:47.680154",
     "status": "completed"
    },
    "tags": []
   },
   "outputs": [],
   "source": [
    "data = data.drop(columns = 'StudentID')"
   ]
  },
  {
   "cell_type": "markdown",
   "id": "7a24e9f9",
   "metadata": {
    "papermill": {
     "duration": 0.00609,
     "end_time": "2024-08-07T08:18:47.716168",
     "exception": false,
     "start_time": "2024-08-07T08:18:47.710078",
     "status": "completed"
    },
    "tags": []
   },
   "source": [
    "### Missing values"
   ]
  },
  {
   "cell_type": "code",
   "execution_count": 4,
   "id": "791c5e24",
   "metadata": {
    "execution": {
     "iopub.execute_input": "2024-08-07T08:18:47.731034Z",
     "iopub.status.busy": "2024-08-07T08:18:47.730609Z",
     "iopub.status.idle": "2024-08-07T08:18:47.742212Z",
     "shell.execute_reply": "2024-08-07T08:18:47.740864Z"
    },
    "papermill": {
     "duration": 0.022765,
     "end_time": "2024-08-07T08:18:47.745426",
     "exception": false,
     "start_time": "2024-08-07T08:18:47.722661",
     "status": "completed"
    },
    "tags": []
   },
   "outputs": [
    {
     "data": {
      "text/plain": [
       "Age                  0\n",
       "Gender               0\n",
       "Ethnicity            0\n",
       "ParentalEducation    0\n",
       "StudyTimeWeekly      0\n",
       "Absences             0\n",
       "Tutoring             0\n",
       "ParentalSupport      0\n",
       "Extracurricular      0\n",
       "Sports               0\n",
       "Music                0\n",
       "Volunteering         0\n",
       "GPA                  0\n",
       "GradeClass           0\n",
       "dtype: int64"
      ]
     },
     "execution_count": 4,
     "metadata": {},
     "output_type": "execute_result"
    }
   ],
   "source": [
    "data.isnull().sum()"
   ]
  },
  {
   "cell_type": "markdown",
   "id": "1ae90870",
   "metadata": {
    "papermill": {
     "duration": 0.006351,
     "end_time": "2024-08-07T08:18:47.758401",
     "exception": false,
     "start_time": "2024-08-07T08:18:47.752050",
     "status": "completed"
    },
    "tags": []
   },
   "source": [
    "There are no missing values"
   ]
  },
  {
   "cell_type": "markdown",
   "id": "34527ce3",
   "metadata": {
    "papermill": {
     "duration": 0.006735,
     "end_time": "2024-08-07T08:18:47.771670",
     "exception": false,
     "start_time": "2024-08-07T08:18:47.764935",
     "status": "completed"
    },
    "tags": []
   },
   "source": [
    "### Duplication"
   ]
  },
  {
   "cell_type": "code",
   "execution_count": 5,
   "id": "f19eebcf",
   "metadata": {
    "execution": {
     "iopub.execute_input": "2024-08-07T08:18:47.786913Z",
     "iopub.status.busy": "2024-08-07T08:18:47.786448Z",
     "iopub.status.idle": "2024-08-07T08:18:47.800911Z",
     "shell.execute_reply": "2024-08-07T08:18:47.799771Z"
    },
    "papermill": {
     "duration": 0.025272,
     "end_time": "2024-08-07T08:18:47.803465",
     "exception": false,
     "start_time": "2024-08-07T08:18:47.778193",
     "status": "completed"
    },
    "tags": []
   },
   "outputs": [
    {
     "data": {
      "text/plain": [
       "0"
      ]
     },
     "execution_count": 5,
     "metadata": {},
     "output_type": "execute_result"
    }
   ],
   "source": [
    "sum(data.duplicated())"
   ]
  },
  {
   "cell_type": "markdown",
   "id": "6133fdc8",
   "metadata": {
    "papermill": {
     "duration": 0.006383,
     "end_time": "2024-08-07T08:18:47.816665",
     "exception": false,
     "start_time": "2024-08-07T08:18:47.810282",
     "status": "completed"
    },
    "tags": []
   },
   "source": [
    "There are no duplicated rows"
   ]
  },
  {
   "cell_type": "markdown",
   "id": "a54ecfa9",
   "metadata": {
    "papermill": {
     "duration": 0.007554,
     "end_time": "2024-08-07T08:18:47.831009",
     "exception": false,
     "start_time": "2024-08-07T08:18:47.823455",
     "status": "completed"
    },
    "tags": []
   },
   "source": [
    "### Basic statistics"
   ]
  },
  {
   "cell_type": "code",
   "execution_count": 6,
   "id": "f9caa56b",
   "metadata": {
    "execution": {
     "iopub.execute_input": "2024-08-07T08:18:47.847269Z",
     "iopub.status.busy": "2024-08-07T08:18:47.846816Z",
     "iopub.status.idle": "2024-08-07T08:18:47.873574Z",
     "shell.execute_reply": "2024-08-07T08:18:47.872412Z"
    },
    "papermill": {
     "duration": 0.038696,
     "end_time": "2024-08-07T08:18:47.876598",
     "exception": false,
     "start_time": "2024-08-07T08:18:47.837902",
     "status": "completed"
    },
    "tags": []
   },
   "outputs": [
    {
     "data": {
      "text/html": [
       "<div>\n",
       "<style scoped>\n",
       "    .dataframe tbody tr th:only-of-type {\n",
       "        vertical-align: middle;\n",
       "    }\n",
       "\n",
       "    .dataframe tbody tr th {\n",
       "        vertical-align: top;\n",
       "    }\n",
       "\n",
       "    .dataframe thead th {\n",
       "        text-align: right;\n",
       "    }\n",
       "</style>\n",
       "<table border=\"1\" class=\"dataframe\">\n",
       "  <thead>\n",
       "    <tr style=\"text-align: right;\">\n",
       "      <th></th>\n",
       "      <th>StudyTimeWeekly</th>\n",
       "      <th>Absences</th>\n",
       "      <th>GPA</th>\n",
       "    </tr>\n",
       "  </thead>\n",
       "  <tbody>\n",
       "    <tr>\n",
       "      <th>count</th>\n",
       "      <td>2392.000000</td>\n",
       "      <td>2392.000000</td>\n",
       "      <td>2392.000000</td>\n",
       "    </tr>\n",
       "    <tr>\n",
       "      <th>mean</th>\n",
       "      <td>9.771992</td>\n",
       "      <td>14.541388</td>\n",
       "      <td>1.906186</td>\n",
       "    </tr>\n",
       "    <tr>\n",
       "      <th>std</th>\n",
       "      <td>5.652774</td>\n",
       "      <td>8.467417</td>\n",
       "      <td>0.915156</td>\n",
       "    </tr>\n",
       "    <tr>\n",
       "      <th>min</th>\n",
       "      <td>0.001057</td>\n",
       "      <td>0.000000</td>\n",
       "      <td>0.000000</td>\n",
       "    </tr>\n",
       "    <tr>\n",
       "      <th>25%</th>\n",
       "      <td>5.043079</td>\n",
       "      <td>7.000000</td>\n",
       "      <td>1.174803</td>\n",
       "    </tr>\n",
       "    <tr>\n",
       "      <th>50%</th>\n",
       "      <td>9.705363</td>\n",
       "      <td>15.000000</td>\n",
       "      <td>1.893393</td>\n",
       "    </tr>\n",
       "    <tr>\n",
       "      <th>75%</th>\n",
       "      <td>14.408410</td>\n",
       "      <td>22.000000</td>\n",
       "      <td>2.622216</td>\n",
       "    </tr>\n",
       "    <tr>\n",
       "      <th>max</th>\n",
       "      <td>19.978094</td>\n",
       "      <td>29.000000</td>\n",
       "      <td>4.000000</td>\n",
       "    </tr>\n",
       "  </tbody>\n",
       "</table>\n",
       "</div>"
      ],
      "text/plain": [
       "       StudyTimeWeekly     Absences          GPA\n",
       "count      2392.000000  2392.000000  2392.000000\n",
       "mean          9.771992    14.541388     1.906186\n",
       "std           5.652774     8.467417     0.915156\n",
       "min           0.001057     0.000000     0.000000\n",
       "25%           5.043079     7.000000     1.174803\n",
       "50%           9.705363    15.000000     1.893393\n",
       "75%          14.408410    22.000000     2.622216\n",
       "max          19.978094    29.000000     4.000000"
      ]
     },
     "execution_count": 6,
     "metadata": {},
     "output_type": "execute_result"
    }
   ],
   "source": [
    "data[['StudyTimeWeekly','Absences','GPA']].describe()"
   ]
  },
  {
   "cell_type": "markdown",
   "id": "8c003773",
   "metadata": {
    "papermill": {
     "duration": 0.008562,
     "end_time": "2024-08-07T08:18:47.892523",
     "exception": false,
     "start_time": "2024-08-07T08:18:47.883961",
     "status": "completed"
    },
    "tags": []
   },
   "source": [
    "### Feature distribution"
   ]
  },
  {
   "cell_type": "code",
   "execution_count": 7,
   "id": "016ffeff",
   "metadata": {
    "execution": {
     "iopub.execute_input": "2024-08-07T08:18:47.908445Z",
     "iopub.status.busy": "2024-08-07T08:18:47.907984Z",
     "iopub.status.idle": "2024-08-07T08:18:47.913760Z",
     "shell.execute_reply": "2024-08-07T08:18:47.912430Z"
    },
    "papermill": {
     "duration": 0.016712,
     "end_time": "2024-08-07T08:18:47.916258",
     "exception": false,
     "start_time": "2024-08-07T08:18:47.899546",
     "status": "completed"
    },
    "tags": []
   },
   "outputs": [],
   "source": [
    "sns.set_palette('pastel')"
   ]
  },
  {
   "cell_type": "code",
   "execution_count": 8,
   "id": "8067f426",
   "metadata": {
    "execution": {
     "iopub.execute_input": "2024-08-07T08:18:47.932617Z",
     "iopub.status.busy": "2024-08-07T08:18:47.932128Z",
     "iopub.status.idle": "2024-08-07T08:18:50.339662Z",
     "shell.execute_reply": "2024-08-07T08:18:50.338470Z"
    },
    "papermill": {
     "duration": 2.41961,
     "end_time": "2024-08-07T08:18:50.342993",
     "exception": false,
     "start_time": "2024-08-07T08:18:47.923383",
     "status": "completed"
    },
    "tags": []
   },
   "outputs": [
    {
     "data": {
      "image/png": "[encoded data removed]",
      "text/plain": [
       "<Figure size 1000x1000 with 16 Axes>"
      ]
     },
     "metadata": {},
     "output_type": "display_data"
    }
   ],
   "source": [
    "data.hist(figsize = (10,10))\n",
    "plt.show()"
   ]
  },
  {
   "cell_type": "markdown",
   "id": "ffd982ed",
   "metadata": {
    "papermill": {
     "duration": 0.007313,
     "end_time": "2024-08-07T08:18:50.358208",
     "exception": false,
     "start_time": "2024-08-07T08:18:50.350895",
     "status": "completed"
    },
    "tags": []
   },
   "source": [
    "We can see that there are 3 numerical variables: StudyTimeWeekly, Absences and GPA. "
   ]
  },
  {
   "cell_type": "markdown",
   "id": "4e64a060",
   "metadata": {
    "papermill": {
     "duration": 0.007641,
     "end_time": "2024-08-07T08:18:50.373688",
     "exception": false,
     "start_time": "2024-08-07T08:18:50.366047",
     "status": "completed"
    },
    "tags": []
   },
   "source": [
    "### Correlation"
   ]
  },
  {
   "cell_type": "code",
   "execution_count": 9,
   "id": "41512cc9",
   "metadata": {
    "execution": {
     "iopub.execute_input": "2024-08-07T08:18:50.390895Z",
     "iopub.status.busy": "2024-08-07T08:18:50.390460Z",
     "iopub.status.idle": "2024-08-07T08:18:50.512952Z",
     "shell.execute_reply": "2024-08-07T08:18:50.511756Z"
    },
    "papermill": {
     "duration": 0.133687,
     "end_time": "2024-08-07T08:18:50.515166",
     "exception": false,
     "start_time": "2024-08-07T08:18:50.381479",
     "status": "completed"
    },
    "tags": []
   },
   "outputs": [
    {
     "data": {
      "text/html": [
       "<style type=\"text/css\">\n",
       "#T_d10e7_row0_col0, #T_d10e7_row1_col1, #T_d10e7_row2_col2, #T_d10e7_row3_col3, #T_d10e7_row4_col4, #T_d10e7_row5_col5, #T_d10e7_row6_col6, #T_d10e7_row7_col7, #T_d10e7_row8_col8, #T_d10e7_row9_col9, #T_d10e7_row10_col10, #T_d10e7_row11_col11, #T_d10e7_row12_col12, #T_d10e7_row13_col13 {\n",
       "  background-color: #b40426;\n",
       "  color: #f1f1f1;\n",
       "}\n",
       "#T_d10e7_row0_col1, #T_d10e7_row1_col6, #T_d10e7_row3_col8, #T_d10e7_row3_col10, #T_d10e7_row10_col3, #T_d10e7_row13_col12 {\n",
       "  background-color: #506bda;\n",
       "  color: #f1f1f1;\n",
       "}\n",
       "#T_d10e7_row0_col2, #T_d10e7_row0_col9, #T_d10e7_row5_col2, #T_d10e7_row5_col12, #T_d10e7_row6_col1, #T_d10e7_row6_col11, #T_d10e7_row9_col0, #T_d10e7_row12_col3, #T_d10e7_row12_col5, #T_d10e7_row12_col13, #T_d10e7_row13_col4, #T_d10e7_row13_col6, #T_d10e7_row13_col7, #T_d10e7_row13_col8, #T_d10e7_row13_col10 {\n",
       "  background-color: #3b4cc0;\n",
       "  color: #f1f1f1;\n",
       "}\n",
       "#T_d10e7_row0_col3, #T_d10e7_row0_col11, #T_d10e7_row1_col8, #T_d10e7_row2_col11, #T_d10e7_row3_col2, #T_d10e7_row3_col11, #T_d10e7_row13_col11 {\n",
       "  background-color: #4c66d6;\n",
       "  color: #f1f1f1;\n",
       "}\n",
       "#T_d10e7_row0_col4, #T_d10e7_row8_col7 {\n",
       "  background-color: #5d7ce6;\n",
       "  color: #f1f1f1;\n",
       "}\n",
       "#T_d10e7_row0_col5, #T_d10e7_row10_col5 {\n",
       "  background-color: #d6dce4;\n",
       "  color: #000000;\n",
       "}\n",
       "#T_d10e7_row0_col6, #T_d10e7_row1_col0, #T_d10e7_row5_col6 {\n",
       "  background-color: #5572df;\n",
       "  color: #f1f1f1;\n",
       "}\n",
       "#T_d10e7_row0_col7, #T_d10e7_row4_col7, #T_d10e7_row7_col4, #T_d10e7_row10_col7 {\n",
       "  background-color: #6a8bef;\n",
       "  color: #f1f1f1;\n",
       "}\n",
       "#T_d10e7_row0_col8, #T_d10e7_row1_col3, #T_d10e7_row1_col10, #T_d10e7_row2_col9, #T_d10e7_row4_col1, #T_d10e7_row4_col10, #T_d10e7_row7_col11, #T_d10e7_row8_col3, #T_d10e7_row8_col11, #T_d10e7_row10_col0, #T_d10e7_row11_col2, #T_d10e7_row11_col9 {\n",
       "  background-color: #465ecf;\n",
       "  color: #f1f1f1;\n",
       "}\n",
       "#T_d10e7_row0_col10, #T_d10e7_row4_col2, #T_d10e7_row4_col11, #T_d10e7_row5_col0, #T_d10e7_row6_col0, #T_d10e7_row8_col9 {\n",
       "  background-color: #445acc;\n",
       "  color: #f1f1f1;\n",
       "}\n",
       "#T_d10e7_row0_col12, #T_d10e7_row7_col5, #T_d10e7_row8_col5 {\n",
       "  background-color: #d7dce3;\n",
       "  color: #000000;\n",
       "}\n",
       "#T_d10e7_row0_col13 {\n",
       "  background-color: #cbd8ee;\n",
       "  color: #000000;\n",
       "}\n",
       "#T_d10e7_row1_col2, #T_d10e7_row2_col1, #T_d10e7_row3_col9, #T_d10e7_row4_col8, #T_d10e7_row9_col11, #T_d10e7_row11_col3, #T_d10e7_row12_col0 {\n",
       "  background-color: #485fd1;\n",
       "  color: #f1f1f1;\n",
       "}\n",
       "#T_d10e7_row1_col4, #T_d10e7_row1_col7, #T_d10e7_row4_col6, #T_d10e7_row5_col4, #T_d10e7_row10_col4 {\n",
       "  background-color: #6282ea;\n",
       "  color: #f1f1f1;\n",
       "}\n",
       "#T_d10e7_row1_col5 {\n",
       "  background-color: #dadce0;\n",
       "  color: #000000;\n",
       "}\n",
       "#T_d10e7_row1_col9, #T_d10e7_row3_col1, #T_d10e7_row4_col0, #T_d10e7_row7_col1, #T_d10e7_row7_col9, #T_d10e7_row9_col3, #T_d10e7_row10_col1, #T_d10e7_row13_col0 {\n",
       "  background-color: #455cce;\n",
       "  color: #f1f1f1;\n",
       "}\n",
       "#T_d10e7_row1_col11, #T_d10e7_row6_col9, #T_d10e7_row7_col2 {\n",
       "  background-color: #4961d2;\n",
       "  color: #f1f1f1;\n",
       "}\n",
       "#T_d10e7_row1_col12, #T_d10e7_row6_col5, #T_d10e7_row11_col5 {\n",
       "  background-color: #d5dbe5;\n",
       "  color: #000000;\n",
       "}\n",
       "#T_d10e7_row1_col13 {\n",
       "  background-color: #cfdaea;\n",
       "  color: #000000;\n",
       "}\n",
       "#T_d10e7_row2_col0, #T_d10e7_row6_col3, #T_d10e7_row7_col3, #T_d10e7_row8_col2, #T_d10e7_row12_col1, #T_d10e7_row13_col9 {\n",
       "  background-color: #3f53c6;\n",
       "  color: #f1f1f1;\n",
       "}\n",
       "#T_d10e7_row2_col3, #T_d10e7_row3_col0, #T_d10e7_row5_col3, #T_d10e7_row6_col8, #T_d10e7_row7_col10 {\n",
       "  background-color: #4f69d9;\n",
       "  color: #f1f1f1;\n",
       "}\n",
       "#T_d10e7_row2_col4, #T_d10e7_row5_col7, #T_d10e7_row9_col4 {\n",
       "  background-color: #6180e9;\n",
       "  color: #f1f1f1;\n",
       "}\n",
       "#T_d10e7_row2_col5 {\n",
       "  background-color: #d4dbe6;\n",
       "  color: #000000;\n",
       "}\n",
       "#T_d10e7_row2_col6, #T_d10e7_row3_col6, #T_d10e7_row5_col9 {\n",
       "  background-color: #5470de;\n",
       "  color: #f1f1f1;\n",
       "}\n",
       "#T_d10e7_row2_col7 {\n",
       "  background-color: #6687ed;\n",
       "  color: #f1f1f1;\n",
       "}\n",
       "#T_d10e7_row2_col8, #T_d10e7_row7_col8, #T_d10e7_row11_col0, #T_d10e7_row11_col6, #T_d10e7_row11_col8 {\n",
       "  background-color: #4b64d5;\n",
       "  color: #f1f1f1;\n",
       "}\n",
       "#T_d10e7_row2_col10, #T_d10e7_row8_col0, #T_d10e7_row8_col10, #T_d10e7_row9_col1, #T_d10e7_row9_col2 {\n",
       "  background-color: #4055c8;\n",
       "  color: #f1f1f1;\n",
       "}\n",
       "#T_d10e7_row2_col12 {\n",
       "  background-color: #dbdcde;\n",
       "  color: #000000;\n",
       "}\n",
       "#T_d10e7_row2_col13 {\n",
       "  background-color: #c9d7f0;\n",
       "  color: #000000;\n",
       "}\n",
       "#T_d10e7_row3_col4, #T_d10e7_row9_col6, #T_d10e7_row12_col10 {\n",
       "  background-color: #5b7ae5;\n",
       "  color: #f1f1f1;\n",
       "}\n",
       "#T_d10e7_row3_col5 {\n",
       "  background-color: #dcdddd;\n",
       "  color: #000000;\n",
       "}\n",
       "#T_d10e7_row3_col7, #T_d10e7_row8_col6, #T_d10e7_row11_col4 {\n",
       "  background-color: #5a78e4;\n",
       "  color: #f1f1f1;\n",
       "}\n",
       "#T_d10e7_row3_col12 {\n",
       "  background-color: #d2dbe8;\n",
       "  color: #000000;\n",
       "}\n",
       "#T_d10e7_row3_col13 {\n",
       "  background-color: #d3dbe7;\n",
       "  color: #000000;\n",
       "}\n",
       "#T_d10e7_row4_col3, #T_d10e7_row5_col10, #T_d10e7_row6_col10, #T_d10e7_row8_col1, #T_d10e7_row10_col9 {\n",
       "  background-color: #4257c9;\n",
       "  color: #f1f1f1;\n",
       "}\n",
       "#T_d10e7_row4_col5, #T_d10e7_row11_col12 {\n",
       "  background-color: #d8dce2;\n",
       "  color: #000000;\n",
       "}\n",
       "#T_d10e7_row4_col9, #T_d10e7_row5_col1, #T_d10e7_row9_col8, #T_d10e7_row10_col8, #T_d10e7_row11_col10, #T_d10e7_row12_col2, #T_d10e7_row12_col11, #T_d10e7_row13_col1 {\n",
       "  background-color: #4a63d3;\n",
       "  color: #f1f1f1;\n",
       "}\n",
       "#T_d10e7_row4_col12 {\n",
       "  background-color: #edd1c2;\n",
       "  color: #000000;\n",
       "}\n",
       "#T_d10e7_row4_col13 {\n",
       "  background-color: #b5cdfa;\n",
       "  color: #000000;\n",
       "}\n",
       "#T_d10e7_row5_col8, #T_d10e7_row10_col11 {\n",
       "  background-color: #4e68d8;\n",
       "  color: #f1f1f1;\n",
       "}\n",
       "#T_d10e7_row5_col11, #T_d10e7_row11_col1 {\n",
       "  background-color: #4358cb;\n",
       "  color: #f1f1f1;\n",
       "}\n",
       "#T_d10e7_row5_col13 {\n",
       "  background-color: #e36c55;\n",
       "  color: #f1f1f1;\n",
       "}\n",
       "#T_d10e7_row6_col2 {\n",
       "  background-color: #3d50c3;\n",
       "  color: #f1f1f1;\n",
       "}\n",
       "#T_d10e7_row6_col4 {\n",
       "  background-color: #6788ee;\n",
       "  color: #f1f1f1;\n",
       "}\n",
       "#T_d10e7_row6_col7 {\n",
       "  background-color: #5f7fe8;\n",
       "  color: #f1f1f1;\n",
       "}\n",
       "#T_d10e7_row6_col12 {\n",
       "  background-color: #ead5c9;\n",
       "  color: #000000;\n",
       "}\n",
       "#T_d10e7_row6_col13 {\n",
       "  background-color: #b9d0f9;\n",
       "  color: #000000;\n",
       "}\n",
       "#T_d10e7_row7_col0, #T_d10e7_row13_col3 {\n",
       "  background-color: #516ddb;\n",
       "  color: #f1f1f1;\n",
       "}\n",
       "#T_d10e7_row7_col6, #T_d10e7_row8_col4, #T_d10e7_row12_col9 {\n",
       "  background-color: #5977e3;\n",
       "  color: #f1f1f1;\n",
       "}\n",
       "#T_d10e7_row7_col12 {\n",
       "  background-color: #efcfbf;\n",
       "  color: #000000;\n",
       "}\n",
       "#T_d10e7_row7_col13 {\n",
       "  background-color: #b3cdfb;\n",
       "  color: #000000;\n",
       "}\n",
       "#T_d10e7_row8_col12 {\n",
       "  background-color: #e4d9d2;\n",
       "  color: #000000;\n",
       "}\n",
       "#T_d10e7_row8_col13 {\n",
       "  background-color: #c0d4f5;\n",
       "  color: #000000;\n",
       "}\n",
       "#T_d10e7_row9_col5 {\n",
       "  background-color: #dddcdc;\n",
       "  color: #000000;\n",
       "}\n",
       "#T_d10e7_row9_col7, #T_d10e7_row11_col7 {\n",
       "  background-color: #5e7de7;\n",
       "  color: #f1f1f1;\n",
       "}\n",
       "#T_d10e7_row9_col10, #T_d10e7_row10_col2 {\n",
       "  background-color: #3e51c5;\n",
       "  color: #f1f1f1;\n",
       "}\n",
       "#T_d10e7_row9_col12 {\n",
       "  background-color: #dfdbd9;\n",
       "  color: #000000;\n",
       "}\n",
       "#T_d10e7_row9_col13 {\n",
       "  background-color: #c7d7f0;\n",
       "  color: #000000;\n",
       "}\n",
       "#T_d10e7_row10_col6 {\n",
       "  background-color: #5673e0;\n",
       "  color: #f1f1f1;\n",
       "}\n",
       "#T_d10e7_row10_col12 {\n",
       "  background-color: #e1dad6;\n",
       "  color: #000000;\n",
       "}\n",
       "#T_d10e7_row10_col13 {\n",
       "  background-color: #c6d6f1;\n",
       "  color: #000000;\n",
       "}\n",
       "#T_d10e7_row11_col13 {\n",
       "  background-color: #cedaeb;\n",
       "  color: #000000;\n",
       "}\n",
       "#T_d10e7_row12_col4 {\n",
       "  background-color: #96b7ff;\n",
       "  color: #000000;\n",
       "}\n",
       "#T_d10e7_row12_col6 {\n",
       "  background-color: #86a9fc;\n",
       "  color: #f1f1f1;\n",
       "}\n",
       "#T_d10e7_row12_col7 {\n",
       "  background-color: #9abbff;\n",
       "  color: #000000;\n",
       "}\n",
       "#T_d10e7_row12_col8 {\n",
       "  background-color: #6b8df0;\n",
       "  color: #f1f1f1;\n",
       "}\n",
       "#T_d10e7_row13_col2 {\n",
       "  background-color: #3c4ec2;\n",
       "  color: #f1f1f1;\n",
       "}\n",
       "#T_d10e7_row13_col5 {\n",
       "  background-color: #e26952;\n",
       "  color: #f1f1f1;\n",
       "}\n",
       "</style>\n",
       "<table id=\"T_d10e7\">\n",
       "  <thead>\n",
       "    <tr>\n",
       "      <th class=\"blank level0\" >&nbsp;</th>\n",
       "      <th id=\"T_d10e7_level0_col0\" class=\"col_heading level0 col0\" >Age</th>\n",
       "      <th id=\"T_d10e7_level0_col1\" class=\"col_heading level0 col1\" >Gender</th>\n",
       "      <th id=\"T_d10e7_level0_col2\" class=\"col_heading level0 col2\" >Ethnicity</th>\n",
       "      <th id=\"T_d10e7_level0_col3\" class=\"col_heading level0 col3\" >ParentalEducation</th>\n",
       "      <th id=\"T_d10e7_level0_col4\" class=\"col_heading level0 col4\" >StudyTimeWeekly</th>\n",
       "      <th id=\"T_d10e7_level0_col5\" class=\"col_heading level0 col5\" >Absences</th>\n",
       "      <th id=\"T_d10e7_level0_col6\" class=\"col_heading level0 col6\" >Tutoring</th>\n",
       "      <th id=\"T_d10e7_level0_col7\" class=\"col_heading level0 col7\" >ParentalSupport</th>\n",
       "      <th id=\"T_d10e7_level0_col8\" class=\"col_heading level0 col8\" >Extracurricular</th>\n",
       "      <th id=\"T_d10e7_level0_col9\" class=\"col_heading level0 col9\" >Sports</th>\n",
       "      <th id=\"T_d10e7_level0_col10\" class=\"col_heading level0 col10\" >Music</th>\n",
       "      <th id=\"T_d10e7_level0_col11\" class=\"col_heading level0 col11\" >Volunteering</th>\n",
       "      <th id=\"T_d10e7_level0_col12\" class=\"col_heading level0 col12\" >GPA</th>\n",
       "      <th id=\"T_d10e7_level0_col13\" class=\"col_heading level0 col13\" >GradeClass</th>\n",
       "    </tr>\n",
       "  </thead>\n",
       "  <tbody>\n",
       "    <tr>\n",
       "      <th id=\"T_d10e7_level0_row0\" class=\"row_heading level0 row0\" >Age</th>\n",
       "      <td id=\"T_d10e7_row0_col0\" class=\"data row0 col0\" >1.00</td>\n",
       "      <td id=\"T_d10e7_row0_col1\" class=\"data row0 col1\" >0.04</td>\n",
       "      <td id=\"T_d10e7_row0_col2\" class=\"data row0 col2\" >-0.03</td>\n",
       "      <td id=\"T_d10e7_row0_col3\" class=\"data row0 col3\" >0.03</td>\n",
       "      <td id=\"T_d10e7_row0_col4\" class=\"data row0 col4\" >-0.01</td>\n",
       "      <td id=\"T_d10e7_row0_col5\" class=\"data row0 col5\" >-0.01</td>\n",
       "      <td id=\"T_d10e7_row0_col6\" class=\"data row0 col6\" >-0.01</td>\n",
       "      <td id=\"T_d10e7_row0_col7\" class=\"data row0 col7\" >0.03</td>\n",
       "      <td id=\"T_d10e7_row0_col8\" class=\"data row0 col8\" >-0.03</td>\n",
       "      <td id=\"T_d10e7_row0_col9\" class=\"data row0 col9\" >-0.05</td>\n",
       "      <td id=\"T_d10e7_row0_col10\" class=\"data row0 col10\" >-0.00</td>\n",
       "      <td id=\"T_d10e7_row0_col11\" class=\"data row0 col11\" >0.01</td>\n",
       "      <td id=\"T_d10e7_row0_col12\" class=\"data row0 col12\" >0.00</td>\n",
       "      <td id=\"T_d10e7_row0_col13\" class=\"data row0 col13\" >-0.01</td>\n",
       "    </tr>\n",
       "    <tr>\n",
       "      <th id=\"T_d10e7_level0_row1\" class=\"row_heading level0 row1\" >Gender</th>\n",
       "      <td id=\"T_d10e7_row1_col0\" class=\"data row1 col0\" >0.04</td>\n",
       "      <td id=\"T_d10e7_row1_col1\" class=\"data row1 col1\" >1.00</td>\n",
       "      <td id=\"T_d10e7_row1_col2\" class=\"data row1 col2\" >0.02</td>\n",
       "      <td id=\"T_d10e7_row1_col3\" class=\"data row1 col3\" >0.01</td>\n",
       "      <td id=\"T_d10e7_row1_col4\" class=\"data row1 col4\" >0.01</td>\n",
       "      <td id=\"T_d10e7_row1_col5\" class=\"data row1 col5\" >0.02</td>\n",
       "      <td id=\"T_d10e7_row1_col6\" class=\"data row1 col6\" >-0.03</td>\n",
       "      <td id=\"T_d10e7_row1_col7\" class=\"data row1 col7\" >0.01</td>\n",
       "      <td id=\"T_d10e7_row1_col8\" class=\"data row1 col8\" >-0.01</td>\n",
       "      <td id=\"T_d10e7_row1_col9\" class=\"data row1 col9\" >-0.01</td>\n",
       "      <td id=\"T_d10e7_row1_col10\" class=\"data row1 col10\" >0.01</td>\n",
       "      <td id=\"T_d10e7_row1_col11\" class=\"data row1 col11\" >-0.00</td>\n",
       "      <td id=\"T_d10e7_row1_col12\" class=\"data row1 col12\" >-0.01</td>\n",
       "      <td id=\"T_d10e7_row1_col13\" class=\"data row1 col13\" >0.02</td>\n",
       "    </tr>\n",
       "    <tr>\n",
       "      <th id=\"T_d10e7_level0_row2\" class=\"row_heading level0 row2\" >Ethnicity</th>\n",
       "      <td id=\"T_d10e7_row2_col0\" class=\"data row2 col0\" >-0.03</td>\n",
       "      <td id=\"T_d10e7_row2_col1\" class=\"data row2 col1\" >0.02</td>\n",
       "      <td id=\"T_d10e7_row2_col2\" class=\"data row2 col2\" >1.00</td>\n",
       "      <td id=\"T_d10e7_row2_col3\" class=\"data row2 col3\" >0.03</td>\n",
       "      <td id=\"T_d10e7_row2_col4\" class=\"data row2 col4\" >0.01</td>\n",
       "      <td id=\"T_d10e7_row2_col5\" class=\"data row2 col5\" >-0.03</td>\n",
       "      <td id=\"T_d10e7_row2_col6\" class=\"data row2 col6\" >-0.02</td>\n",
       "      <td id=\"T_d10e7_row2_col7\" class=\"data row2 col7\" >0.02</td>\n",
       "      <td id=\"T_d10e7_row2_col8\" class=\"data row2 col8\" >-0.01</td>\n",
       "      <td id=\"T_d10e7_row2_col9\" class=\"data row2 col9\" >-0.00</td>\n",
       "      <td id=\"T_d10e7_row2_col10\" class=\"data row2 col10\" >-0.01</td>\n",
       "      <td id=\"T_d10e7_row2_col11\" class=\"data row2 col11\" >0.01</td>\n",
       "      <td id=\"T_d10e7_row2_col12\" class=\"data row2 col12\" >0.03</td>\n",
       "      <td id=\"T_d10e7_row2_col13\" class=\"data row2 col13\" >-0.02</td>\n",
       "    </tr>\n",
       "    <tr>\n",
       "      <th id=\"T_d10e7_level0_row3\" class=\"row_heading level0 row3\" >ParentalEducation</th>\n",
       "      <td id=\"T_d10e7_row3_col0\" class=\"data row3 col0\" >0.03</td>\n",
       "      <td id=\"T_d10e7_row3_col1\" class=\"data row3 col1\" >0.01</td>\n",
       "      <td id=\"T_d10e7_row3_col2\" class=\"data row3 col2\" >0.03</td>\n",
       "      <td id=\"T_d10e7_row3_col3\" class=\"data row3 col3\" >1.00</td>\n",
       "      <td id=\"T_d10e7_row3_col4\" class=\"data row3 col4\" >-0.01</td>\n",
       "      <td id=\"T_d10e7_row3_col5\" class=\"data row3 col5\" >0.04</td>\n",
       "      <td id=\"T_d10e7_row3_col6\" class=\"data row3 col6\" >-0.02</td>\n",
       "      <td id=\"T_d10e7_row3_col7\" class=\"data row3 col7\" >-0.02</td>\n",
       "      <td id=\"T_d10e7_row3_col8\" class=\"data row3 col8\" >0.01</td>\n",
       "      <td id=\"T_d10e7_row3_col9\" class=\"data row3 col9\" >0.00</td>\n",
       "      <td id=\"T_d10e7_row3_col10\" class=\"data row3 col10\" >0.04</td>\n",
       "      <td id=\"T_d10e7_row3_col11\" class=\"data row3 col11\" >0.01</td>\n",
       "      <td id=\"T_d10e7_row3_col12\" class=\"data row3 col12\" >-0.04</td>\n",
       "      <td id=\"T_d10e7_row3_col13\" class=\"data row3 col13\" >0.04</td>\n",
       "    </tr>\n",
       "    <tr>\n",
       "      <th id=\"T_d10e7_level0_row4\" class=\"row_heading level0 row4\" >StudyTimeWeekly</th>\n",
       "      <td id=\"T_d10e7_row4_col0\" class=\"data row4 col0\" >-0.01</td>\n",
       "      <td id=\"T_d10e7_row4_col1\" class=\"data row4 col1\" >0.01</td>\n",
       "      <td id=\"T_d10e7_row4_col2\" class=\"data row4 col2\" >0.01</td>\n",
       "      <td id=\"T_d10e7_row4_col3\" class=\"data row4 col3\" >-0.01</td>\n",
       "      <td id=\"T_d10e7_row4_col4\" class=\"data row4 col4\" >1.00</td>\n",
       "      <td id=\"T_d10e7_row4_col5\" class=\"data row4 col5\" >0.01</td>\n",
       "      <td id=\"T_d10e7_row4_col6\" class=\"data row4 col6\" >0.03</td>\n",
       "      <td id=\"T_d10e7_row4_col7\" class=\"data row4 col7\" >0.04</td>\n",
       "      <td id=\"T_d10e7_row4_col8\" class=\"data row4 col8\" >-0.02</td>\n",
       "      <td id=\"T_d10e7_row4_col9\" class=\"data row4 col9\" >0.01</td>\n",
       "      <td id=\"T_d10e7_row4_col10\" class=\"data row4 col10\" >0.01</td>\n",
       "      <td id=\"T_d10e7_row4_col11\" class=\"data row4 col11\" >-0.02</td>\n",
       "      <td id=\"T_d10e7_row4_col12\" class=\"data row4 col12\" >0.18</td>\n",
       "      <td id=\"T_d10e7_row4_col13\" class=\"data row4 col13\" >-0.13</td>\n",
       "    </tr>\n",
       "    <tr>\n",
       "      <th id=\"T_d10e7_level0_row5\" class=\"row_heading level0 row5\" >Absences</th>\n",
       "      <td id=\"T_d10e7_row5_col0\" class=\"data row5 col0\" >-0.01</td>\n",
       "      <td id=\"T_d10e7_row5_col1\" class=\"data row5 col1\" >0.02</td>\n",
       "      <td id=\"T_d10e7_row5_col2\" class=\"data row5 col2\" >-0.03</td>\n",
       "      <td id=\"T_d10e7_row5_col3\" class=\"data row5 col3\" >0.04</td>\n",
       "      <td id=\"T_d10e7_row5_col4\" class=\"data row5 col4\" >0.01</td>\n",
       "      <td id=\"T_d10e7_row5_col5\" class=\"data row5 col5\" >1.00</td>\n",
       "      <td id=\"T_d10e7_row5_col6\" class=\"data row5 col6\" >-0.02</td>\n",
       "      <td id=\"T_d10e7_row5_col7\" class=\"data row5 col7\" >0.00</td>\n",
       "      <td id=\"T_d10e7_row5_col8\" class=\"data row5 col8\" >0.00</td>\n",
       "      <td id=\"T_d10e7_row5_col9\" class=\"data row5 col9\" >0.04</td>\n",
       "      <td id=\"T_d10e7_row5_col10\" class=\"data row5 col10\" >-0.01</td>\n",
       "      <td id=\"T_d10e7_row5_col11\" class=\"data row5 col11\" >-0.02</td>\n",
       "      <td id=\"T_d10e7_row5_col12\" class=\"data row5 col12\" >-0.92</td>\n",
       "      <td id=\"T_d10e7_row5_col13\" class=\"data row5 col13\" >0.73</td>\n",
       "    </tr>\n",
       "    <tr>\n",
       "      <th id=\"T_d10e7_level0_row6\" class=\"row_heading level0 row6\" >Tutoring</th>\n",
       "      <td id=\"T_d10e7_row6_col0\" class=\"data row6 col0\" >-0.01</td>\n",
       "      <td id=\"T_d10e7_row6_col1\" class=\"data row6 col1\" >-0.03</td>\n",
       "      <td id=\"T_d10e7_row6_col2\" class=\"data row6 col2\" >-0.02</td>\n",
       "      <td id=\"T_d10e7_row6_col3\" class=\"data row6 col3\" >-0.02</td>\n",
       "      <td id=\"T_d10e7_row6_col4\" class=\"data row6 col4\" >0.03</td>\n",
       "      <td id=\"T_d10e7_row6_col5\" class=\"data row6 col5\" >-0.02</td>\n",
       "      <td id=\"T_d10e7_row6_col6\" class=\"data row6 col6\" >1.00</td>\n",
       "      <td id=\"T_d10e7_row6_col7\" class=\"data row6 col7\" >-0.00</td>\n",
       "      <td id=\"T_d10e7_row6_col8\" class=\"data row6 col8\" >0.00</td>\n",
       "      <td id=\"T_d10e7_row6_col9\" class=\"data row6 col9\" >0.01</td>\n",
       "      <td id=\"T_d10e7_row6_col10\" class=\"data row6 col10\" >-0.01</td>\n",
       "      <td id=\"T_d10e7_row6_col11\" class=\"data row6 col11\" >-0.05</td>\n",
       "      <td id=\"T_d10e7_row6_col12\" class=\"data row6 col12\" >0.15</td>\n",
       "      <td id=\"T_d10e7_row6_col13\" class=\"data row6 col13\" >-0.11</td>\n",
       "    </tr>\n",
       "    <tr>\n",
       "      <th id=\"T_d10e7_level0_row7\" class=\"row_heading level0 row7\" >ParentalSupport</th>\n",
       "      <td id=\"T_d10e7_row7_col0\" class=\"data row7 col0\" >0.03</td>\n",
       "      <td id=\"T_d10e7_row7_col1\" class=\"data row7 col1\" >0.01</td>\n",
       "      <td id=\"T_d10e7_row7_col2\" class=\"data row7 col2\" >0.02</td>\n",
       "      <td id=\"T_d10e7_row7_col3\" class=\"data row7 col3\" >-0.02</td>\n",
       "      <td id=\"T_d10e7_row7_col4\" class=\"data row7 col4\" >0.04</td>\n",
       "      <td id=\"T_d10e7_row7_col5\" class=\"data row7 col5\" >0.00</td>\n",
       "      <td id=\"T_d10e7_row7_col6\" class=\"data row7 col6\" >-0.00</td>\n",
       "      <td id=\"T_d10e7_row7_col7\" class=\"data row7 col7\" >1.00</td>\n",
       "      <td id=\"T_d10e7_row7_col8\" class=\"data row7 col8\" >-0.01</td>\n",
       "      <td id=\"T_d10e7_row7_col9\" class=\"data row7 col9\" >-0.01</td>\n",
       "      <td id=\"T_d10e7_row7_col10\" class=\"data row7 col10\" >0.04</td>\n",
       "      <td id=\"T_d10e7_row7_col11\" class=\"data row7 col11\" >-0.01</td>\n",
       "      <td id=\"T_d10e7_row7_col12\" class=\"data row7 col12\" >0.19</td>\n",
       "      <td id=\"T_d10e7_row7_col13\" class=\"data row7 col13\" >-0.14</td>\n",
       "    </tr>\n",
       "    <tr>\n",
       "      <th id=\"T_d10e7_level0_row8\" class=\"row_heading level0 row8\" >Extracurricular</th>\n",
       "      <td id=\"T_d10e7_row8_col0\" class=\"data row8 col0\" >-0.03</td>\n",
       "      <td id=\"T_d10e7_row8_col1\" class=\"data row8 col1\" >-0.01</td>\n",
       "      <td id=\"T_d10e7_row8_col2\" class=\"data row8 col2\" >-0.01</td>\n",
       "      <td id=\"T_d10e7_row8_col3\" class=\"data row8 col3\" >0.01</td>\n",
       "      <td id=\"T_d10e7_row8_col4\" class=\"data row8 col4\" >-0.02</td>\n",
       "      <td id=\"T_d10e7_row8_col5\" class=\"data row8 col5\" >0.00</td>\n",
       "      <td id=\"T_d10e7_row8_col6\" class=\"data row8 col6\" >0.00</td>\n",
       "      <td id=\"T_d10e7_row8_col7\" class=\"data row8 col7\" >-0.01</td>\n",
       "      <td id=\"T_d10e7_row8_col8\" class=\"data row8 col8\" >1.00</td>\n",
       "      <td id=\"T_d10e7_row8_col9\" class=\"data row8 col9\" >-0.01</td>\n",
       "      <td id=\"T_d10e7_row8_col10\" class=\"data row8 col10\" >-0.01</td>\n",
       "      <td id=\"T_d10e7_row8_col11\" class=\"data row8 col11\" >-0.01</td>\n",
       "      <td id=\"T_d10e7_row8_col12\" class=\"data row8 col12\" >0.09</td>\n",
       "      <td id=\"T_d10e7_row8_col13\" class=\"data row8 col13\" >-0.07</td>\n",
       "    </tr>\n",
       "    <tr>\n",
       "      <th id=\"T_d10e7_level0_row9\" class=\"row_heading level0 row9\" >Sports</th>\n",
       "      <td id=\"T_d10e7_row9_col0\" class=\"data row9 col0\" >-0.05</td>\n",
       "      <td id=\"T_d10e7_row9_col1\" class=\"data row9 col1\" >-0.01</td>\n",
       "      <td id=\"T_d10e7_row9_col2\" class=\"data row9 col2\" >-0.00</td>\n",
       "      <td id=\"T_d10e7_row9_col3\" class=\"data row9 col3\" >0.00</td>\n",
       "      <td id=\"T_d10e7_row9_col4\" class=\"data row9 col4\" >0.01</td>\n",
       "      <td id=\"T_d10e7_row9_col5\" class=\"data row9 col5\" >0.04</td>\n",
       "      <td id=\"T_d10e7_row9_col6\" class=\"data row9 col6\" >0.01</td>\n",
       "      <td id=\"T_d10e7_row9_col7\" class=\"data row9 col7\" >-0.01</td>\n",
       "      <td id=\"T_d10e7_row9_col8\" class=\"data row9 col8\" >-0.01</td>\n",
       "      <td id=\"T_d10e7_row9_col9\" class=\"data row9 col9\" >1.00</td>\n",
       "      <td id=\"T_d10e7_row9_col10\" class=\"data row9 col10\" >-0.02</td>\n",
       "      <td id=\"T_d10e7_row9_col11\" class=\"data row9 col11\" >-0.00</td>\n",
       "      <td id=\"T_d10e7_row9_col12\" class=\"data row9 col12\" >0.06</td>\n",
       "      <td id=\"T_d10e7_row9_col13\" class=\"data row9 col13\" >-0.03</td>\n",
       "    </tr>\n",
       "    <tr>\n",
       "      <th id=\"T_d10e7_level0_row10\" class=\"row_heading level0 row10\" >Music</th>\n",
       "      <td id=\"T_d10e7_row10_col0\" class=\"data row10 col0\" >-0.00</td>\n",
       "      <td id=\"T_d10e7_row10_col1\" class=\"data row10 col1\" >0.01</td>\n",
       "      <td id=\"T_d10e7_row10_col2\" class=\"data row10 col2\" >-0.01</td>\n",
       "      <td id=\"T_d10e7_row10_col3\" class=\"data row10 col3\" >0.04</td>\n",
       "      <td id=\"T_d10e7_row10_col4\" class=\"data row10 col4\" >0.01</td>\n",
       "      <td id=\"T_d10e7_row10_col5\" class=\"data row10 col5\" >-0.01</td>\n",
       "      <td id=\"T_d10e7_row10_col6\" class=\"data row10 col6\" >-0.01</td>\n",
       "      <td id=\"T_d10e7_row10_col7\" class=\"data row10 col7\" >0.04</td>\n",
       "      <td id=\"T_d10e7_row10_col8\" class=\"data row10 col8\" >-0.01</td>\n",
       "      <td id=\"T_d10e7_row10_col9\" class=\"data row10 col9\" >-0.02</td>\n",
       "      <td id=\"T_d10e7_row10_col10\" class=\"data row10 col10\" >1.00</td>\n",
       "      <td id=\"T_d10e7_row10_col11\" class=\"data row10 col11\" >0.02</td>\n",
       "      <td id=\"T_d10e7_row10_col12\" class=\"data row10 col12\" >0.07</td>\n",
       "      <td id=\"T_d10e7_row10_col13\" class=\"data row10 col13\" >-0.04</td>\n",
       "    </tr>\n",
       "    <tr>\n",
       "      <th id=\"T_d10e7_level0_row11\" class=\"row_heading level0 row11\" >Volunteering</th>\n",
       "      <td id=\"T_d10e7_row11_col0\" class=\"data row11 col0\" >0.01</td>\n",
       "      <td id=\"T_d10e7_row11_col1\" class=\"data row11 col1\" >-0.00</td>\n",
       "      <td id=\"T_d10e7_row11_col2\" class=\"data row11 col2\" >0.01</td>\n",
       "      <td id=\"T_d10e7_row11_col3\" class=\"data row11 col3\" >0.01</td>\n",
       "      <td id=\"T_d10e7_row11_col4\" class=\"data row11 col4\" >-0.02</td>\n",
       "      <td id=\"T_d10e7_row11_col5\" class=\"data row11 col5\" >-0.02</td>\n",
       "      <td id=\"T_d10e7_row11_col6\" class=\"data row11 col6\" >-0.05</td>\n",
       "      <td id=\"T_d10e7_row11_col7\" class=\"data row11 col7\" >-0.01</td>\n",
       "      <td id=\"T_d10e7_row11_col8\" class=\"data row11 col8\" >-0.01</td>\n",
       "      <td id=\"T_d10e7_row11_col9\" class=\"data row11 col9\" >-0.00</td>\n",
       "      <td id=\"T_d10e7_row11_col10\" class=\"data row11 col10\" >0.02</td>\n",
       "      <td id=\"T_d10e7_row11_col11\" class=\"data row11 col11\" >1.00</td>\n",
       "      <td id=\"T_d10e7_row11_col12\" class=\"data row11 col12\" >0.00</td>\n",
       "      <td id=\"T_d10e7_row11_col13\" class=\"data row11 col13\" >0.01</td>\n",
       "    </tr>\n",
       "    <tr>\n",
       "      <th id=\"T_d10e7_level0_row12\" class=\"row_heading level0 row12\" >GPA</th>\n",
       "      <td id=\"T_d10e7_row12_col0\" class=\"data row12 col0\" >0.00</td>\n",
       "      <td id=\"T_d10e7_row12_col1\" class=\"data row12 col1\" >-0.01</td>\n",
       "      <td id=\"T_d10e7_row12_col2\" class=\"data row12 col2\" >0.03</td>\n",
       "      <td id=\"T_d10e7_row12_col3\" class=\"data row12 col3\" >-0.04</td>\n",
       "      <td id=\"T_d10e7_row12_col4\" class=\"data row12 col4\" >0.18</td>\n",
       "      <td id=\"T_d10e7_row12_col5\" class=\"data row12 col5\" >-0.92</td>\n",
       "      <td id=\"T_d10e7_row12_col6\" class=\"data row12 col6\" >0.15</td>\n",
       "      <td id=\"T_d10e7_row12_col7\" class=\"data row12 col7\" >0.19</td>\n",
       "      <td id=\"T_d10e7_row12_col8\" class=\"data row12 col8\" >0.09</td>\n",
       "      <td id=\"T_d10e7_row12_col9\" class=\"data row12 col9\" >0.06</td>\n",
       "      <td id=\"T_d10e7_row12_col10\" class=\"data row12 col10\" >0.07</td>\n",
       "      <td id=\"T_d10e7_row12_col11\" class=\"data row12 col11\" >0.00</td>\n",
       "      <td id=\"T_d10e7_row12_col12\" class=\"data row12 col12\" >1.00</td>\n",
       "      <td id=\"T_d10e7_row12_col13\" class=\"data row12 col13\" >-0.78</td>\n",
       "    </tr>\n",
       "    <tr>\n",
       "      <th id=\"T_d10e7_level0_row13\" class=\"row_heading level0 row13\" >GradeClass</th>\n",
       "      <td id=\"T_d10e7_row13_col0\" class=\"data row13 col0\" >-0.01</td>\n",
       "      <td id=\"T_d10e7_row13_col1\" class=\"data row13 col1\" >0.02</td>\n",
       "      <td id=\"T_d10e7_row13_col2\" class=\"data row13 col2\" >-0.02</td>\n",
       "      <td id=\"T_d10e7_row13_col3\" class=\"data row13 col3\" >0.04</td>\n",
       "      <td id=\"T_d10e7_row13_col4\" class=\"data row13 col4\" >-0.13</td>\n",
       "      <td id=\"T_d10e7_row13_col5\" class=\"data row13 col5\" >0.73</td>\n",
       "      <td id=\"T_d10e7_row13_col6\" class=\"data row13 col6\" >-0.11</td>\n",
       "      <td id=\"T_d10e7_row13_col7\" class=\"data row13 col7\" >-0.14</td>\n",
       "      <td id=\"T_d10e7_row13_col8\" class=\"data row13 col8\" >-0.07</td>\n",
       "      <td id=\"T_d10e7_row13_col9\" class=\"data row13 col9\" >-0.03</td>\n",
       "      <td id=\"T_d10e7_row13_col10\" class=\"data row13 col10\" >-0.04</td>\n",
       "      <td id=\"T_d10e7_row13_col11\" class=\"data row13 col11\" >0.01</td>\n",
       "      <td id=\"T_d10e7_row13_col12\" class=\"data row13 col12\" >-0.78</td>\n",
       "      <td id=\"T_d10e7_row13_col13\" class=\"data row13 col13\" >1.00</td>\n",
       "    </tr>\n",
       "  </tbody>\n",
       "</table>\n"
      ],
      "text/plain": [
       "<pandas.io.formats.style.Styler at 0x78d1fda57310>"
      ]
     },
     "execution_count": 9,
     "metadata": {},
     "output_type": "execute_result"
    }
   ],
   "source": [
    "corr_matrix = data.corr()\n",
    "corr_matrix.style.background_gradient(cmap = 'coolwarm').format(precision = 2)"
   ]
  },
  {
   "cell_type": "markdown",
   "id": "1fd59413",
   "metadata": {
    "papermill": {
     "duration": 0.00906,
     "end_time": "2024-08-07T08:18:50.532843",
     "exception": false,
     "start_time": "2024-08-07T08:18:50.523783",
     "status": "completed"
    },
    "tags": []
   },
   "source": [
    "### Change data types"
   ]
  },
  {
   "cell_type": "code",
   "execution_count": 10,
   "id": "b5fe594e",
   "metadata": {
    "execution": {
     "iopub.execute_input": "2024-08-07T08:18:50.553969Z",
     "iopub.status.busy": "2024-08-07T08:18:50.553412Z",
     "iopub.status.idle": "2024-08-07T08:18:50.567273Z",
     "shell.execute_reply": "2024-08-07T08:18:50.565872Z"
    },
    "papermill": {
     "duration": 0.02808,
     "end_time": "2024-08-07T08:18:50.570198",
     "exception": false,
     "start_time": "2024-08-07T08:18:50.542118",
     "status": "completed"
    },
    "tags": []
   },
   "outputs": [
    {
     "data": {
      "text/plain": [
       "Age                     4\n",
       "Gender                  2\n",
       "Ethnicity               4\n",
       "ParentalEducation       5\n",
       "StudyTimeWeekly      2392\n",
       "Absences               30\n",
       "Tutoring                2\n",
       "ParentalSupport         5\n",
       "Extracurricular         2\n",
       "Sports                  2\n",
       "Music                   2\n",
       "Volunteering            2\n",
       "GPA                  2371\n",
       "GradeClass              5\n",
       "dtype: int64"
      ]
     },
     "execution_count": 10,
     "metadata": {},
     "output_type": "execute_result"
    }
   ],
   "source": [
    "data.nunique()"
   ]
  },
  {
   "cell_type": "code",
   "execution_count": 11,
   "id": "d2725027",
   "metadata": {
    "execution": {
     "iopub.execute_input": "2024-08-07T08:18:50.591024Z",
     "iopub.status.busy": "2024-08-07T08:18:50.590641Z",
     "iopub.status.idle": "2024-08-07T08:18:50.606239Z",
     "shell.execute_reply": "2024-08-07T08:18:50.604796Z"
    },
    "papermill": {
     "duration": 0.029119,
     "end_time": "2024-08-07T08:18:50.608638",
     "exception": false,
     "start_time": "2024-08-07T08:18:50.579519",
     "status": "completed"
    },
    "tags": []
   },
   "outputs": [],
   "source": [
    "data['Age'] = data['Age'].astype('category')\n",
    "data['Ethnicity'] = data['Ethnicity'].astype('category')\n",
    "data['ParentalEducation'] = data['ParentalEducation'].astype('category')\n",
    "data['ParentalSupport'] = data['ParentalSupport'].astype('category')\n",
    "data['GradeClass'] = data['GradeClass'].astype('category')\n",
    "\n",
    "data['Gender'] = data['Gender'].astype(bool)\n",
    "data['Tutoring'] = data['Tutoring'].astype(bool)\n",
    "data['Extracurricular'] = data['Extracurricular'].astype(bool)\n",
    "data['Sports'] = data['Sports'].astype(bool)\n",
    "data['Music'] = data['Music'].astype(bool)\n",
    "data['Volunteering'] = data['Volunteering'].astype(bool)"
   ]
  },
  {
   "cell_type": "code",
   "execution_count": 12,
   "id": "c33a34a6",
   "metadata": {
    "execution": {
     "iopub.execute_input": "2024-08-07T08:18:50.628597Z",
     "iopub.status.busy": "2024-08-07T08:18:50.628205Z",
     "iopub.status.idle": "2024-08-07T08:18:50.652992Z",
     "shell.execute_reply": "2024-08-07T08:18:50.651303Z"
    },
    "papermill": {
     "duration": 0.0379,
     "end_time": "2024-08-07T08:18:50.655531",
     "exception": false,
     "start_time": "2024-08-07T08:18:50.617631",
     "status": "completed"
    },
    "tags": []
   },
   "outputs": [
    {
     "name": "stdout",
     "output_type": "stream",
     "text": [
      "<class 'pandas.core.frame.DataFrame'>\n",
      "RangeIndex: 2392 entries, 0 to 2391\n",
      "Data columns (total 14 columns):\n",
      " #   Column             Non-Null Count  Dtype   \n",
      "---  ------             --------------  -----   \n",
      " 0   Age                2392 non-null   category\n",
      " 1   Gender             2392 non-null   bool    \n",
      " 2   Ethnicity          2392 non-null   category\n",
      " 3   ParentalEducation  2392 non-null   category\n",
      " 4   StudyTimeWeekly    2392 non-null   float64 \n",
      " 5   Absences           2392 non-null   int64   \n",
      " 6   Tutoring           2392 non-null   bool    \n",
      " 7   ParentalSupport    2392 non-null   category\n",
      " 8   Extracurricular    2392 non-null   bool    \n",
      " 9   Sports             2392 non-null   bool    \n",
      " 10  Music              2392 non-null   bool    \n",
      " 11  Volunteering       2392 non-null   bool    \n",
      " 12  GPA                2392 non-null   float64 \n",
      " 13  GradeClass         2392 non-null   category\n",
      "dtypes: bool(6), category(5), float64(2), int64(1)\n",
      "memory usage: 82.9 KB\n"
     ]
    }
   ],
   "source": [
    "data.info()"
   ]
  },
  {
   "cell_type": "markdown",
   "id": "bfd014bc",
   "metadata": {
    "papermill": {
     "duration": 0.008688,
     "end_time": "2024-08-07T08:18:50.673164",
     "exception": false,
     "start_time": "2024-08-07T08:18:50.664476",
     "status": "completed"
    },
    "tags": []
   },
   "source": [
    "### Standarization"
   ]
  },
  {
   "cell_type": "code",
   "execution_count": 13,
   "id": "6ce0330d",
   "metadata": {
    "execution": {
     "iopub.execute_input": "2024-08-07T08:18:50.693804Z",
     "iopub.status.busy": "2024-08-07T08:18:50.693336Z",
     "iopub.status.idle": "2024-08-07T08:18:50.706998Z",
     "shell.execute_reply": "2024-08-07T08:18:50.705592Z"
    },
    "papermill": {
     "duration": 0.02692,
     "end_time": "2024-08-07T08:18:50.709833",
     "exception": false,
     "start_time": "2024-08-07T08:18:50.682913",
     "status": "completed"
    },
    "tags": []
   },
   "outputs": [],
   "source": [
    "cols_to_scale = ['StudyTimeWeekly','Absences']\n",
    "std_scaler = StandardScaler()\n",
    "data[cols_to_scale] = std_scaler.fit_transform(data[cols_to_scale])"
   ]
  },
  {
   "cell_type": "markdown",
   "id": "e2782625",
   "metadata": {
    "papermill": {
     "duration": 0.010122,
     "end_time": "2024-08-07T08:18:50.728947",
     "exception": false,
     "start_time": "2024-08-07T08:18:50.718825",
     "status": "completed"
    },
    "tags": []
   },
   "source": [
    "## Visualization"
   ]
  },
  {
   "cell_type": "code",
   "execution_count": 14,
   "id": "0e757a28",
   "metadata": {
    "execution": {
     "iopub.execute_input": "2024-08-07T08:18:50.749179Z",
     "iopub.status.busy": "2024-08-07T08:18:50.748760Z",
     "iopub.status.idle": "2024-08-07T08:18:51.008706Z",
     "shell.execute_reply": "2024-08-07T08:18:51.007215Z"
    },
    "papermill": {
     "duration": 0.273461,
     "end_time": "2024-08-07T08:18:51.011841",
     "exception": false,
     "start_time": "2024-08-07T08:18:50.738380",
     "status": "completed"
    },
    "tags": []
   },
   "outputs": [
    {
     "data": {
      "image/png": "[encoded data removed]",
      "text/plain": [
       "<Figure size 700x500 with 1 Axes>"
      ]
     },
     "metadata": {},
     "output_type": "display_data"
    }
   ],
   "source": [
    "grade_counts = data['GradeClass'].value_counts()\n",
    "\n",
    "plt.figure(figsize=(7,5))\n",
    "plt.bar(grade_counts.index, grade_counts)\n",
    "plt.xlabel('GradeClass')\n",
    "plt.ylabel('Count')\n",
    "plt.title('Count plot of GradeClass')\n",
    "plt.show()"
   ]
  }
 ],
 "metadata": {
  "kaggle": {
   "accelerator": "none",
   "dataSources": [
    {
     "datasetId": 5195702,
     "sourceId": 8677630,
     "sourceType": "datasetVersion"
    },
    {
     "sourceId": 183771850,
     "sourceType": "kernelVersion"
    }
   ],
   "dockerImageVersionId": 30732,
   "isGpuEnabled": false,
   "isInternetEnabled": true,
   "language": "python",
   "sourceType": "notebook"
  },
  "kernelspec": {
   "display_name": "Python 3",
   "language": "python",
   "name": "python3"
  },
  "language_info": {
   "codemirror_mode": {
    "name": "ipython",
    "version": 3
   },
   "file_extension": ".py",
   "mimetype": "text/x-python",
   "name": "python",
   "nbconvert_exporter": "python",
   "pygments_lexer": "ipython3",
   "version": "3.10.13"
  },
  "papermill": {
   "default_parameters": {},
   "duration": 12.478309,
   "end_time": "2024-08-07T08:18:52.046425",
   "environment_variables": {},
   "exception": null,
   "input_path": "__notebook__.ipynb",
   "output_path": "__notebook__.ipynb",
   "parameters": {},
   "start_time": "2024-08-07T08:18:39.568116",
   "version": "2.5.0"
  }
 },
 "nbformat": 4,
 "nbformat_minor": 5
}
