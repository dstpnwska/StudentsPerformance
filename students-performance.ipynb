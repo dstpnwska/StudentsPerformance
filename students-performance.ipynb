{
 "cells": [
  {
   "cell_type": "markdown",
   "id": "893693b8",
   "metadata": {
    "papermill": {
     "duration": 0.010362,
     "end_time": "2024-08-20T11:28:46.118098",
     "exception": false,
     "start_time": "2024-08-20T11:28:46.107736",
     "status": "completed"
    },
    "tags": []
   },
   "source": [
    "## Project topic\n",
    "\n",
    "The aim of the project is to predict high school students' ```GradeClass``` based on their demographics, study habits, parental involvement, extracurricular activities, and academic performance. "
   ]
  },
  {
   "cell_type": "code",
   "execution_count": 1,
   "id": "e11bffc7",
   "metadata": {
    "_cell_guid": "b1076dfc-b9ad-4769-8c92-a6c4dae69d19",
    "_uuid": "8f2839f25d086af736a60e9eeb907d3b93b6e0e5",
    "execution": {
     "iopub.execute_input": "2024-08-20T11:28:46.140040Z",
     "iopub.status.busy": "2024-08-20T11:28:46.139672Z",
     "iopub.status.idle": "2024-08-20T11:28:50.036727Z",
     "shell.execute_reply": "2024-08-20T11:28:50.035650Z"
    },
    "papermill": {
     "duration": 3.910925,
     "end_time": "2024-08-20T11:28:50.039286",
     "exception": false,
     "start_time": "2024-08-20T11:28:46.128361",
     "status": "completed"
    },
    "tags": []
   },
   "outputs": [],
   "source": [
    "import numpy as np\n",
    "import pandas as pd\n",
    "import matplotlib.pyplot as plt\n",
    "import seaborn as sns\n",
    "import statsmodels.api as sm\n",
    "from statsmodels.formula.api import ols\n",
    "from pandas.plotting import scatter_matrix\n",
    "from sklearn.preprocessing import StandardScaler\n",
    "from sklearn.model_selection import train_test_split\n",
    "from sklearn.model_selection import RepeatedStratifiedKFold\n",
    "from sklearn.model_selection import cross_val_score\n",
    "from sklearn.model_selection import GridSearchCV\n",
    "from sklearn.linear_model import LogisticRegression\n",
    "from sklearn.tree import DecisionTreeClassifier\n",
    "from sklearn.ensemble import RandomForestClassifier\n",
    "from sklearn.neighbors import KNeighborsClassifier\n",
    "from sklearn.svm import SVC\n",
    "from sklearn.naive_bayes import GaussianNB\n",
    "from sklearn.ensemble import GradientBoostingClassifier\n",
    "from sklearn import metrics\n",
    "from sklearn.metrics import confusion_matrix\n",
    "from mpl_toolkits.mplot3d import Axes3D\n",
    "import warnings\n",
    "warnings.filterwarnings('ignore', category = FutureWarning)\n",
    "from tabulate import tabulate"
   ]
  },
  {
   "cell_type": "markdown",
   "id": "e6388d5a",
   "metadata": {
    "papermill": {
     "duration": 0.009968,
     "end_time": "2024-08-20T11:28:50.059460",
     "exception": false,
     "start_time": "2024-08-20T11:28:50.049492",
     "status": "completed"
    },
    "tags": []
   },
   "source": [
    "## Data preprocessing"
   ]
  },
  {
   "cell_type": "markdown",
   "id": "8dad7f2e",
   "metadata": {
    "papermill": {
     "duration": 0.009755,
     "end_time": "2024-08-20T11:28:50.079354",
     "exception": false,
     "start_time": "2024-08-20T11:28:50.069599",
     "status": "completed"
    },
    "tags": []
   },
   "source": [
    "### Import data"
   ]
  },
  {
   "cell_type": "code",
   "execution_count": 2,
   "id": "e789461a",
   "metadata": {
    "execution": {
     "iopub.execute_input": "2024-08-20T11:28:50.101535Z",
     "iopub.status.busy": "2024-08-20T11:28:50.100918Z",
     "iopub.status.idle": "2024-08-20T11:28:50.167471Z",
     "shell.execute_reply": "2024-08-20T11:28:50.166452Z"
    },
    "papermill": {
     "duration": 0.080574,
     "end_time": "2024-08-20T11:28:50.169850",
     "exception": false,
     "start_time": "2024-08-20T11:28:50.089276",
     "status": "completed"
    },
    "tags": []
   },
   "outputs": [
    {
     "data": {
      "text/html": [
       "<div>\n",
       "<style scoped>\n",
       "    .dataframe tbody tr th:only-of-type {\n",
       "        vertical-align: middle;\n",
       "    }\n",
       "\n",
       "    .dataframe tbody tr th {\n",
       "        vertical-align: top;\n",
       "    }\n",
       "\n",
       "    .dataframe thead th {\n",
       "        text-align: right;\n",
       "    }\n",
       "</style>\n",
       "<table border=\"1\" class=\"dataframe\">\n",
       "  <thead>\n",
       "    <tr style=\"text-align: right;\">\n",
       "      <th></th>\n",
       "      <th>StudentID</th>\n",
       "      <th>Age</th>\n",
       "      <th>Gender</th>\n",
       "      <th>Ethnicity</th>\n",
       "      <th>ParentalEducation</th>\n",
       "      <th>StudyTimeWeekly</th>\n",
       "      <th>Absences</th>\n",
       "      <th>Tutoring</th>\n",
       "      <th>ParentalSupport</th>\n",
       "      <th>Extracurricular</th>\n",
       "      <th>Sports</th>\n",
       "      <th>Music</th>\n",
       "      <th>Volunteering</th>\n",
       "      <th>GPA</th>\n",
       "      <th>GradeClass</th>\n",
       "    </tr>\n",
       "  </thead>\n",
       "  <tbody>\n",
       "    <tr>\n",
       "      <th>0</th>\n",
       "      <td>1001</td>\n",
       "      <td>17</td>\n",
       "      <td>1</td>\n",
       "      <td>0</td>\n",
       "      <td>2</td>\n",
       "      <td>19.833723</td>\n",
       "      <td>7</td>\n",
       "      <td>1</td>\n",
       "      <td>2</td>\n",
       "      <td>0</td>\n",
       "      <td>0</td>\n",
       "      <td>1</td>\n",
       "      <td>0</td>\n",
       "      <td>2.929196</td>\n",
       "      <td>2.0</td>\n",
       "    </tr>\n",
       "    <tr>\n",
       "      <th>1</th>\n",
       "      <td>1002</td>\n",
       "      <td>18</td>\n",
       "      <td>0</td>\n",
       "      <td>0</td>\n",
       "      <td>1</td>\n",
       "      <td>15.408756</td>\n",
       "      <td>0</td>\n",
       "      <td>0</td>\n",
       "      <td>1</td>\n",
       "      <td>0</td>\n",
       "      <td>0</td>\n",
       "      <td>0</td>\n",
       "      <td>0</td>\n",
       "      <td>3.042915</td>\n",
       "      <td>1.0</td>\n",
       "    </tr>\n",
       "    <tr>\n",
       "      <th>2</th>\n",
       "      <td>1003</td>\n",
       "      <td>15</td>\n",
       "      <td>0</td>\n",
       "      <td>2</td>\n",
       "      <td>3</td>\n",
       "      <td>4.210570</td>\n",
       "      <td>26</td>\n",
       "      <td>0</td>\n",
       "      <td>2</td>\n",
       "      <td>0</td>\n",
       "      <td>0</td>\n",
       "      <td>0</td>\n",
       "      <td>0</td>\n",
       "      <td>0.112602</td>\n",
       "      <td>4.0</td>\n",
       "    </tr>\n",
       "    <tr>\n",
       "      <th>3</th>\n",
       "      <td>1004</td>\n",
       "      <td>17</td>\n",
       "      <td>1</td>\n",
       "      <td>0</td>\n",
       "      <td>3</td>\n",
       "      <td>10.028829</td>\n",
       "      <td>14</td>\n",
       "      <td>0</td>\n",
       "      <td>3</td>\n",
       "      <td>1</td>\n",
       "      <td>0</td>\n",
       "      <td>0</td>\n",
       "      <td>0</td>\n",
       "      <td>2.054218</td>\n",
       "      <td>3.0</td>\n",
       "    </tr>\n",
       "    <tr>\n",
       "      <th>4</th>\n",
       "      <td>1005</td>\n",
       "      <td>17</td>\n",
       "      <td>1</td>\n",
       "      <td>0</td>\n",
       "      <td>2</td>\n",
       "      <td>4.672495</td>\n",
       "      <td>17</td>\n",
       "      <td>1</td>\n",
       "      <td>3</td>\n",
       "      <td>0</td>\n",
       "      <td>0</td>\n",
       "      <td>0</td>\n",
       "      <td>0</td>\n",
       "      <td>1.288061</td>\n",
       "      <td>4.0</td>\n",
       "    </tr>\n",
       "    <tr>\n",
       "      <th>5</th>\n",
       "      <td>1006</td>\n",
       "      <td>18</td>\n",
       "      <td>0</td>\n",
       "      <td>0</td>\n",
       "      <td>1</td>\n",
       "      <td>8.191219</td>\n",
       "      <td>0</td>\n",
       "      <td>0</td>\n",
       "      <td>1</td>\n",
       "      <td>1</td>\n",
       "      <td>0</td>\n",
       "      <td>0</td>\n",
       "      <td>0</td>\n",
       "      <td>3.084184</td>\n",
       "      <td>1.0</td>\n",
       "    </tr>\n",
       "    <tr>\n",
       "      <th>6</th>\n",
       "      <td>1007</td>\n",
       "      <td>15</td>\n",
       "      <td>0</td>\n",
       "      <td>1</td>\n",
       "      <td>1</td>\n",
       "      <td>15.601680</td>\n",
       "      <td>10</td>\n",
       "      <td>0</td>\n",
       "      <td>3</td>\n",
       "      <td>0</td>\n",
       "      <td>1</td>\n",
       "      <td>0</td>\n",
       "      <td>0</td>\n",
       "      <td>2.748237</td>\n",
       "      <td>2.0</td>\n",
       "    </tr>\n",
       "    <tr>\n",
       "      <th>7</th>\n",
       "      <td>1008</td>\n",
       "      <td>15</td>\n",
       "      <td>1</td>\n",
       "      <td>1</td>\n",
       "      <td>4</td>\n",
       "      <td>15.424496</td>\n",
       "      <td>22</td>\n",
       "      <td>1</td>\n",
       "      <td>1</td>\n",
       "      <td>1</td>\n",
       "      <td>0</td>\n",
       "      <td>0</td>\n",
       "      <td>0</td>\n",
       "      <td>1.360143</td>\n",
       "      <td>4.0</td>\n",
       "    </tr>\n",
       "    <tr>\n",
       "      <th>8</th>\n",
       "      <td>1009</td>\n",
       "      <td>17</td>\n",
       "      <td>0</td>\n",
       "      <td>0</td>\n",
       "      <td>0</td>\n",
       "      <td>4.562008</td>\n",
       "      <td>1</td>\n",
       "      <td>0</td>\n",
       "      <td>2</td>\n",
       "      <td>0</td>\n",
       "      <td>1</td>\n",
       "      <td>0</td>\n",
       "      <td>1</td>\n",
       "      <td>2.896819</td>\n",
       "      <td>2.0</td>\n",
       "    </tr>\n",
       "    <tr>\n",
       "      <th>9</th>\n",
       "      <td>1010</td>\n",
       "      <td>16</td>\n",
       "      <td>1</td>\n",
       "      <td>0</td>\n",
       "      <td>1</td>\n",
       "      <td>18.444466</td>\n",
       "      <td>0</td>\n",
       "      <td>0</td>\n",
       "      <td>3</td>\n",
       "      <td>1</td>\n",
       "      <td>0</td>\n",
       "      <td>0</td>\n",
       "      <td>0</td>\n",
       "      <td>3.573474</td>\n",
       "      <td>0.0</td>\n",
       "    </tr>\n",
       "  </tbody>\n",
       "</table>\n",
       "</div>"
      ],
      "text/plain": [
       "   StudentID  Age  Gender  Ethnicity  ParentalEducation  StudyTimeWeekly  \\\n",
       "0       1001   17       1          0                  2        19.833723   \n",
       "1       1002   18       0          0                  1        15.408756   \n",
       "2       1003   15       0          2                  3         4.210570   \n",
       "3       1004   17       1          0                  3        10.028829   \n",
       "4       1005   17       1          0                  2         4.672495   \n",
       "5       1006   18       0          0                  1         8.191219   \n",
       "6       1007   15       0          1                  1        15.601680   \n",
       "7       1008   15       1          1                  4        15.424496   \n",
       "8       1009   17       0          0                  0         4.562008   \n",
       "9       1010   16       1          0                  1        18.444466   \n",
       "\n",
       "   Absences  Tutoring  ParentalSupport  Extracurricular  Sports  Music  \\\n",
       "0         7         1                2                0       0      1   \n",
       "1         0         0                1                0       0      0   \n",
       "2        26         0                2                0       0      0   \n",
       "3        14         0                3                1       0      0   \n",
       "4        17         1                3                0       0      0   \n",
       "5         0         0                1                1       0      0   \n",
       "6        10         0                3                0       1      0   \n",
       "7        22         1                1                1       0      0   \n",
       "8         1         0                2                0       1      0   \n",
       "9         0         0                3                1       0      0   \n",
       "\n",
       "   Volunteering       GPA  GradeClass  \n",
       "0             0  2.929196         2.0  \n",
       "1             0  3.042915         1.0  \n",
       "2             0  0.112602         4.0  \n",
       "3             0  2.054218         3.0  \n",
       "4             0  1.288061         4.0  \n",
       "5             0  3.084184         1.0  \n",
       "6             0  2.748237         2.0  \n",
       "7             0  1.360143         4.0  \n",
       "8             1  2.896819         2.0  \n",
       "9             0  3.573474         0.0  "
      ]
     },
     "execution_count": 2,
     "metadata": {},
     "output_type": "execute_result"
    }
   ],
   "source": [
    "data = pd.read_csv(\"/kaggle/input/d/rabieelkharoua/students-performance-dataset/Student_performance_data _.csv\")\n",
    "data.head(10)"
   ]
  },
  {
   "cell_type": "markdown",
   "id": "09f76b16",
   "metadata": {
    "papermill": {
     "duration": 0.010258,
     "end_time": "2024-08-20T11:28:50.190832",
     "exception": false,
     "start_time": "2024-08-20T11:28:50.180574",
     "status": "completed"
    },
    "tags": []
   },
   "source": [
    "```StudentID``` is unique and it doesn't influence student's ```GradeClass```, so this variable isn't useful. "
   ]
  },
  {
   "cell_type": "code",
   "execution_count": 3,
   "id": "7c76c3cd",
   "metadata": {
    "execution": {
     "iopub.execute_input": "2024-08-20T11:28:50.213650Z",
     "iopub.status.busy": "2024-08-20T11:28:50.213139Z",
     "iopub.status.idle": "2024-08-20T11:28:50.222470Z",
     "shell.execute_reply": "2024-08-20T11:28:50.221425Z"
    },
    "papermill": {
     "duration": 0.023526,
     "end_time": "2024-08-20T11:28:50.224830",
     "exception": false,
     "start_time": "2024-08-20T11:28:50.201304",
     "status": "completed"
    },
    "tags": []
   },
   "outputs": [],
   "source": [
    "data = data.drop(columns = 'StudentID')"
   ]
  },
  {
   "cell_type": "markdown",
   "id": "dd786433",
   "metadata": {
    "papermill": {
     "duration": 0.010434,
     "end_time": "2024-08-20T11:28:50.245975",
     "exception": false,
     "start_time": "2024-08-20T11:28:50.235541",
     "status": "completed"
    },
    "tags": []
   },
   "source": [
    "### Missing values"
   ]
  },
  {
   "cell_type": "code",
   "execution_count": 4,
   "id": "bb3d6a94",
   "metadata": {
    "execution": {
     "iopub.execute_input": "2024-08-20T11:28:50.268901Z",
     "iopub.status.busy": "2024-08-20T11:28:50.268504Z",
     "iopub.status.idle": "2024-08-20T11:28:50.277503Z",
     "shell.execute_reply": "2024-08-20T11:28:50.276532Z"
    },
    "papermill": {
     "duration": 0.022953,
     "end_time": "2024-08-20T11:28:50.279639",
     "exception": false,
     "start_time": "2024-08-20T11:28:50.256686",
     "status": "completed"
    },
    "tags": []
   },
   "outputs": [
    {
     "data": {
      "text/plain": [
       "Age                  0\n",
       "Gender               0\n",
       "Ethnicity            0\n",
       "ParentalEducation    0\n",
       "StudyTimeWeekly      0\n",
       "Absences             0\n",
       "Tutoring             0\n",
       "ParentalSupport      0\n",
       "Extracurricular      0\n",
       "Sports               0\n",
       "Music                0\n",
       "Volunteering         0\n",
       "GPA                  0\n",
       "GradeClass           0\n",
       "dtype: int64"
      ]
     },
     "execution_count": 4,
     "metadata": {},
     "output_type": "execute_result"
    }
   ],
   "source": [
    "data.isnull().sum()"
   ]
  },
  {
   "cell_type": "markdown",
   "id": "ffba9681",
   "metadata": {
    "papermill": {
     "duration": 0.010512,
     "end_time": "2024-08-20T11:28:50.301022",
     "exception": false,
     "start_time": "2024-08-20T11:28:50.290510",
     "status": "completed"
    },
    "tags": []
   },
   "source": [
    "There are no missing values"
   ]
  },
  {
   "cell_type": "markdown",
   "id": "8bc68788",
   "metadata": {
    "papermill": {
     "duration": 0.01069,
     "end_time": "2024-08-20T11:28:50.322331",
     "exception": false,
     "start_time": "2024-08-20T11:28:50.311641",
     "status": "completed"
    },
    "tags": []
   },
   "source": [
    "### Duplication"
   ]
  },
  {
   "cell_type": "code",
   "execution_count": 5,
   "id": "82691c8f",
   "metadata": {
    "execution": {
     "iopub.execute_input": "2024-08-20T11:28:50.345399Z",
     "iopub.status.busy": "2024-08-20T11:28:50.345005Z",
     "iopub.status.idle": "2024-08-20T11:28:50.357206Z",
     "shell.execute_reply": "2024-08-20T11:28:50.356232Z"
    },
    "papermill": {
     "duration": 0.026413,
     "end_time": "2024-08-20T11:28:50.359362",
     "exception": false,
     "start_time": "2024-08-20T11:28:50.332949",
     "status": "completed"
    },
    "tags": []
   },
   "outputs": [
    {
     "data": {
      "text/plain": [
       "0"
      ]
     },
     "execution_count": 5,
     "metadata": {},
     "output_type": "execute_result"
    }
   ],
   "source": [
    "sum(data.duplicated())"
   ]
  },
  {
   "cell_type": "markdown",
   "id": "c8d7f6e6",
   "metadata": {
    "papermill": {
     "duration": 0.010479,
     "end_time": "2024-08-20T11:28:50.380564",
     "exception": false,
     "start_time": "2024-08-20T11:28:50.370085",
     "status": "completed"
    },
    "tags": []
   },
   "source": [
    "There are no duplicated rows"
   ]
  },
  {
   "cell_type": "markdown",
   "id": "c3f21133",
   "metadata": {
    "papermill": {
     "duration": 0.011615,
     "end_time": "2024-08-20T11:28:50.403012",
     "exception": false,
     "start_time": "2024-08-20T11:28:50.391397",
     "status": "completed"
    },
    "tags": []
   },
   "source": [
    "### Basic statistics"
   ]
  },
  {
   "cell_type": "code",
   "execution_count": 6,
   "id": "a052eb82",
   "metadata": {
    "execution": {
     "iopub.execute_input": "2024-08-20T11:28:50.426329Z",
     "iopub.status.busy": "2024-08-20T11:28:50.425488Z",
     "iopub.status.idle": "2024-08-20T11:28:50.447724Z",
     "shell.execute_reply": "2024-08-20T11:28:50.446700Z"
    },
    "papermill": {
     "duration": 0.036548,
     "end_time": "2024-08-20T11:28:50.450244",
     "exception": false,
     "start_time": "2024-08-20T11:28:50.413696",
     "status": "completed"
    },
    "tags": []
   },
   "outputs": [
    {
     "data": {
      "text/html": [
       "<div>\n",
       "<style scoped>\n",
       "    .dataframe tbody tr th:only-of-type {\n",
       "        vertical-align: middle;\n",
       "    }\n",
       "\n",
       "    .dataframe tbody tr th {\n",
       "        vertical-align: top;\n",
       "    }\n",
       "\n",
       "    .dataframe thead th {\n",
       "        text-align: right;\n",
       "    }\n",
       "</style>\n",
       "<table border=\"1\" class=\"dataframe\">\n",
       "  <thead>\n",
       "    <tr style=\"text-align: right;\">\n",
       "      <th></th>\n",
       "      <th>StudyTimeWeekly</th>\n",
       "      <th>Absences</th>\n",
       "      <th>GPA</th>\n",
       "    </tr>\n",
       "  </thead>\n",
       "  <tbody>\n",
       "    <tr>\n",
       "      <th>count</th>\n",
       "      <td>2392.000</td>\n",
       "      <td>2392.000</td>\n",
       "      <td>2392.000</td>\n",
       "    </tr>\n",
       "    <tr>\n",
       "      <th>mean</th>\n",
       "      <td>9.772</td>\n",
       "      <td>14.541</td>\n",
       "      <td>1.906</td>\n",
       "    </tr>\n",
       "    <tr>\n",
       "      <th>std</th>\n",
       "      <td>5.653</td>\n",
       "      <td>8.467</td>\n",
       "      <td>0.915</td>\n",
       "    </tr>\n",
       "    <tr>\n",
       "      <th>min</th>\n",
       "      <td>0.001</td>\n",
       "      <td>0.000</td>\n",
       "      <td>0.000</td>\n",
       "    </tr>\n",
       "    <tr>\n",
       "      <th>25%</th>\n",
       "      <td>5.043</td>\n",
       "      <td>7.000</td>\n",
       "      <td>1.175</td>\n",
       "    </tr>\n",
       "    <tr>\n",
       "      <th>50%</th>\n",
       "      <td>9.705</td>\n",
       "      <td>15.000</td>\n",
       "      <td>1.893</td>\n",
       "    </tr>\n",
       "    <tr>\n",
       "      <th>75%</th>\n",
       "      <td>14.408</td>\n",
       "      <td>22.000</td>\n",
       "      <td>2.622</td>\n",
       "    </tr>\n",
       "    <tr>\n",
       "      <th>max</th>\n",
       "      <td>19.978</td>\n",
       "      <td>29.000</td>\n",
       "      <td>4.000</td>\n",
       "    </tr>\n",
       "  </tbody>\n",
       "</table>\n",
       "</div>"
      ],
      "text/plain": [
       "       StudyTimeWeekly  Absences       GPA\n",
       "count         2392.000  2392.000  2392.000\n",
       "mean             9.772    14.541     1.906\n",
       "std              5.653     8.467     0.915\n",
       "min              0.001     0.000     0.000\n",
       "25%              5.043     7.000     1.175\n",
       "50%              9.705    15.000     1.893\n",
       "75%             14.408    22.000     2.622\n",
       "max             19.978    29.000     4.000"
      ]
     },
     "execution_count": 6,
     "metadata": {},
     "output_type": "execute_result"
    }
   ],
   "source": [
    "round(data[['StudyTimeWeekly','Absences','GPA']].describe(),3)"
   ]
  },
  {
   "cell_type": "markdown",
   "id": "03ff9f19",
   "metadata": {
    "papermill": {
     "duration": 0.010865,
     "end_time": "2024-08-20T11:28:50.472333",
     "exception": false,
     "start_time": "2024-08-20T11:28:50.461468",
     "status": "completed"
    },
    "tags": []
   },
   "source": [
    "### Feature distribution"
   ]
  },
  {
   "cell_type": "code",
   "execution_count": 7,
   "id": "6782c156",
   "metadata": {
    "execution": {
     "iopub.execute_input": "2024-08-20T11:28:50.496443Z",
     "iopub.status.busy": "2024-08-20T11:28:50.495629Z",
     "iopub.status.idle": "2024-08-20T11:28:50.500568Z",
     "shell.execute_reply": "2024-08-20T11:28:50.499520Z"
    },
    "papermill": {
     "duration": 0.019475,
     "end_time": "2024-08-20T11:28:50.502815",
     "exception": false,
     "start_time": "2024-08-20T11:28:50.483340",
     "status": "completed"
    },
    "tags": []
   },
   "outputs": [],
   "source": [
    "sns.set_palette('pastel')"
   ]
  },
  {
   "cell_type": "code",
   "execution_count": 8,
   "id": "8bbfb4c6",
   "metadata": {
    "execution": {
     "iopub.execute_input": "2024-08-20T11:28:50.526815Z",
     "iopub.status.busy": "2024-08-20T11:28:50.526459Z",
     "iopub.status.idle": "2024-08-20T11:28:52.642774Z",
     "shell.execute_reply": "2024-08-20T11:28:52.641655Z"
    },
    "papermill": {
     "duration": 2.13079,
     "end_time": "2024-08-20T11:28:52.645025",
     "exception": false,
     "start_time": "2024-08-20T11:28:50.514235",
     "status": "completed"
    },
    "tags": []
   },
   "outputs": [
    {
     "data": {
      "image/png": "[encoded data removed]",
      "text/plain": [
       "<Figure size 1000x1000 with 16 Axes>"
      ]
     },
     "metadata": {},
     "output_type": "display_data"
    }
   ],
   "source": [
    "data.hist(figsize = (10,10))\n",
    "plt.show()"
   ]
  },
  {
   "cell_type": "markdown",
   "id": "4c5f95a3",
   "metadata": {
    "papermill": {
     "duration": 0.012084,
     "end_time": "2024-08-20T11:28:52.669349",
     "exception": false,
     "start_time": "2024-08-20T11:28:52.657265",
     "status": "completed"
    },
    "tags": []
   },
   "source": [
    "We can see that there are 3 numerical variables: ```StudyTimeWeekly```, ```Absences``` and ```GPA```. The remaining variables are either categorical or boolean."
   ]
  },
  {
   "cell_type": "markdown",
   "id": "cc12bc76",
   "metadata": {
    "papermill": {
     "duration": 0.01178,
     "end_time": "2024-08-20T11:28:52.693404",
     "exception": false,
     "start_time": "2024-08-20T11:28:52.681624",
     "status": "completed"
    },
    "tags": []
   },
   "source": [
    "### Correlation"
   ]
  },
  {
   "cell_type": "code",
   "execution_count": 9,
   "id": "19b63ef6",
   "metadata": {
    "execution": {
     "iopub.execute_input": "2024-08-20T11:28:52.719383Z",
     "iopub.status.busy": "2024-08-20T11:28:52.718504Z",
     "iopub.status.idle": "2024-08-20T11:28:52.839411Z",
     "shell.execute_reply": "2024-08-20T11:28:52.838431Z"
    },
    "papermill": {
     "duration": 0.13627,
     "end_time": "2024-08-20T11:28:52.841729",
     "exception": false,
     "start_time": "2024-08-20T11:28:52.705459",
     "status": "completed"
    },
    "tags": []
   },
   "outputs": [
    {
     "data": {
      "text/html": [
       "<style type=\"text/css\">\n",
       "#T_170f0_row0_col0, #T_170f0_row1_col1, #T_170f0_row2_col2, #T_170f0_row3_col3, #T_170f0_row4_col4, #T_170f0_row5_col5, #T_170f0_row6_col6, #T_170f0_row7_col7, #T_170f0_row8_col8, #T_170f0_row9_col9, #T_170f0_row10_col10, #T_170f0_row11_col11, #T_170f0_row12_col12, #T_170f0_row13_col13 {\n",
       "  background-color: #b40426;\n",
       "  color: #f1f1f1;\n",
       "}\n",
       "#T_170f0_row0_col1, #T_170f0_row1_col6, #T_170f0_row3_col8, #T_170f0_row3_col10, #T_170f0_row10_col3, #T_170f0_row13_col12 {\n",
       "  background-color: #506bda;\n",
       "  color: #f1f1f1;\n",
       "}\n",
       "#T_170f0_row0_col2, #T_170f0_row0_col9, #T_170f0_row5_col2, #T_170f0_row5_col12, #T_170f0_row6_col1, #T_170f0_row6_col11, #T_170f0_row9_col0, #T_170f0_row12_col3, #T_170f0_row12_col5, #T_170f0_row12_col13, #T_170f0_row13_col4, #T_170f0_row13_col6, #T_170f0_row13_col7, #T_170f0_row13_col8, #T_170f0_row13_col10 {\n",
       "  background-color: #3b4cc0;\n",
       "  color: #f1f1f1;\n",
       "}\n",
       "#T_170f0_row0_col3, #T_170f0_row0_col11, #T_170f0_row1_col8, #T_170f0_row2_col11, #T_170f0_row3_col2, #T_170f0_row3_col11, #T_170f0_row13_col11 {\n",
       "  background-color: #4c66d6;\n",
       "  color: #f1f1f1;\n",
       "}\n",
       "#T_170f0_row0_col4, #T_170f0_row8_col7 {\n",
       "  background-color: #5d7ce6;\n",
       "  color: #f1f1f1;\n",
       "}\n",
       "#T_170f0_row0_col5, #T_170f0_row10_col5 {\n",
       "  background-color: #d6dce4;\n",
       "  color: #000000;\n",
       "}\n",
       "#T_170f0_row0_col6, #T_170f0_row1_col0, #T_170f0_row5_col6 {\n",
       "  background-color: #5572df;\n",
       "  color: #f1f1f1;\n",
       "}\n",
       "#T_170f0_row0_col7, #T_170f0_row4_col7, #T_170f0_row7_col4, #T_170f0_row10_col7 {\n",
       "  background-color: #6a8bef;\n",
       "  color: #f1f1f1;\n",
       "}\n",
       "#T_170f0_row0_col8, #T_170f0_row1_col3, #T_170f0_row1_col10, #T_170f0_row2_col9, #T_170f0_row4_col1, #T_170f0_row4_col10, #T_170f0_row7_col11, #T_170f0_row8_col3, #T_170f0_row8_col11, #T_170f0_row10_col0, #T_170f0_row11_col2, #T_170f0_row11_col9 {\n",
       "  background-color: #465ecf;\n",
       "  color: #f1f1f1;\n",
       "}\n",
       "#T_170f0_row0_col10, #T_170f0_row4_col2, #T_170f0_row4_col11, #T_170f0_row5_col0, #T_170f0_row6_col0, #T_170f0_row8_col9 {\n",
       "  background-color: #445acc;\n",
       "  color: #f1f1f1;\n",
       "}\n",
       "#T_170f0_row0_col12, #T_170f0_row7_col5, #T_170f0_row8_col5 {\n",
       "  background-color: #d7dce3;\n",
       "  color: #000000;\n",
       "}\n",
       "#T_170f0_row0_col13 {\n",
       "  background-color: #cbd8ee;\n",
       "  color: #000000;\n",
       "}\n",
       "#T_170f0_row1_col2, #T_170f0_row2_col1, #T_170f0_row3_col9, #T_170f0_row4_col8, #T_170f0_row9_col11, #T_170f0_row11_col3, #T_170f0_row12_col0 {\n",
       "  background-color: #485fd1;\n",
       "  color: #f1f1f1;\n",
       "}\n",
       "#T_170f0_row1_col4, #T_170f0_row1_col7, #T_170f0_row4_col6, #T_170f0_row5_col4, #T_170f0_row10_col4 {\n",
       "  background-color: #6282ea;\n",
       "  color: #f1f1f1;\n",
       "}\n",
       "#T_170f0_row1_col5 {\n",
       "  background-color: #dadce0;\n",
       "  color: #000000;\n",
       "}\n",
       "#T_170f0_row1_col9, #T_170f0_row3_col1, #T_170f0_row4_col0, #T_170f0_row7_col1, #T_170f0_row7_col9, #T_170f0_row9_col3, #T_170f0_row10_col1, #T_170f0_row13_col0 {\n",
       "  background-color: #455cce;\n",
       "  color: #f1f1f1;\n",
       "}\n",
       "#T_170f0_row1_col11, #T_170f0_row6_col9, #T_170f0_row7_col2 {\n",
       "  background-color: #4961d2;\n",
       "  color: #f1f1f1;\n",
       "}\n",
       "#T_170f0_row1_col12, #T_170f0_row6_col5, #T_170f0_row11_col5 {\n",
       "  background-color: #d5dbe5;\n",
       "  color: #000000;\n",
       "}\n",
       "#T_170f0_row1_col13 {\n",
       "  background-color: #cfdaea;\n",
       "  color: #000000;\n",
       "}\n",
       "#T_170f0_row2_col0, #T_170f0_row6_col3, #T_170f0_row7_col3, #T_170f0_row8_col2, #T_170f0_row12_col1, #T_170f0_row13_col9 {\n",
       "  background-color: #3f53c6;\n",
       "  color: #f1f1f1;\n",
       "}\n",
       "#T_170f0_row2_col3, #T_170f0_row3_col0, #T_170f0_row5_col3, #T_170f0_row6_col8, #T_170f0_row7_col10 {\n",
       "  background-color: #4f69d9;\n",
       "  color: #f1f1f1;\n",
       "}\n",
       "#T_170f0_row2_col4, #T_170f0_row5_col7, #T_170f0_row9_col4 {\n",
       "  background-color: #6180e9;\n",
       "  color: #f1f1f1;\n",
       "}\n",
       "#T_170f0_row2_col5 {\n",
       "  background-color: #d4dbe6;\n",
       "  color: #000000;\n",
       "}\n",
       "#T_170f0_row2_col6, #T_170f0_row3_col6, #T_170f0_row5_col9 {\n",
       "  background-color: #5470de;\n",
       "  color: #f1f1f1;\n",
       "}\n",
       "#T_170f0_row2_col7 {\n",
       "  background-color: #6687ed;\n",
       "  color: #f1f1f1;\n",
       "}\n",
       "#T_170f0_row2_col8, #T_170f0_row7_col8, #T_170f0_row11_col0, #T_170f0_row11_col6, #T_170f0_row11_col8 {\n",
       "  background-color: #4b64d5;\n",
       "  color: #f1f1f1;\n",
       "}\n",
       "#T_170f0_row2_col10, #T_170f0_row8_col0, #T_170f0_row8_col10, #T_170f0_row9_col1, #T_170f0_row9_col2 {\n",
       "  background-color: #4055c8;\n",
       "  color: #f1f1f1;\n",
       "}\n",
       "#T_170f0_row2_col12 {\n",
       "  background-color: #dbdcde;\n",
       "  color: #000000;\n",
       "}\n",
       "#T_170f0_row2_col13 {\n",
       "  background-color: #c9d7f0;\n",
       "  color: #000000;\n",
       "}\n",
       "#T_170f0_row3_col4, #T_170f0_row9_col6, #T_170f0_row12_col10 {\n",
       "  background-color: #5b7ae5;\n",
       "  color: #f1f1f1;\n",
       "}\n",
       "#T_170f0_row3_col5 {\n",
       "  background-color: #dcdddd;\n",
       "  color: #000000;\n",
       "}\n",
       "#T_170f0_row3_col7, #T_170f0_row8_col6, #T_170f0_row11_col4 {\n",
       "  background-color: #5a78e4;\n",
       "  color: #f1f1f1;\n",
       "}\n",
       "#T_170f0_row3_col12 {\n",
       "  background-color: #d2dbe8;\n",
       "  color: #000000;\n",
       "}\n",
       "#T_170f0_row3_col13 {\n",
       "  background-color: #d3dbe7;\n",
       "  color: #000000;\n",
       "}\n",
       "#T_170f0_row4_col3, #T_170f0_row5_col10, #T_170f0_row6_col10, #T_170f0_row8_col1, #T_170f0_row10_col9 {\n",
       "  background-color: #4257c9;\n",
       "  color: #f1f1f1;\n",
       "}\n",
       "#T_170f0_row4_col5, #T_170f0_row11_col12 {\n",
       "  background-color: #d8dce2;\n",
       "  color: #000000;\n",
       "}\n",
       "#T_170f0_row4_col9, #T_170f0_row5_col1, #T_170f0_row9_col8, #T_170f0_row10_col8, #T_170f0_row11_col10, #T_170f0_row12_col2, #T_170f0_row12_col11, #T_170f0_row13_col1 {\n",
       "  background-color: #4a63d3;\n",
       "  color: #f1f1f1;\n",
       "}\n",
       "#T_170f0_row4_col12 {\n",
       "  background-color: #edd1c2;\n",
       "  color: #000000;\n",
       "}\n",
       "#T_170f0_row4_col13 {\n",
       "  background-color: #b5cdfa;\n",
       "  color: #000000;\n",
       "}\n",
       "#T_170f0_row5_col8, #T_170f0_row10_col11 {\n",
       "  background-color: #4e68d8;\n",
       "  color: #f1f1f1;\n",
       "}\n",
       "#T_170f0_row5_col11, #T_170f0_row11_col1 {\n",
       "  background-color: #4358cb;\n",
       "  color: #f1f1f1;\n",
       "}\n",
       "#T_170f0_row5_col13 {\n",
       "  background-color: #e36c55;\n",
       "  color: #f1f1f1;\n",
       "}\n",
       "#T_170f0_row6_col2 {\n",
       "  background-color: #3d50c3;\n",
       "  color: #f1f1f1;\n",
       "}\n",
       "#T_170f0_row6_col4 {\n",
       "  background-color: #6788ee;\n",
       "  color: #f1f1f1;\n",
       "}\n",
       "#T_170f0_row6_col7 {\n",
       "  background-color: #5f7fe8;\n",
       "  color: #f1f1f1;\n",
       "}\n",
       "#T_170f0_row6_col12 {\n",
       "  background-color: #ead5c9;\n",
       "  color: #000000;\n",
       "}\n",
       "#T_170f0_row6_col13 {\n",
       "  background-color: #b9d0f9;\n",
       "  color: #000000;\n",
       "}\n",
       "#T_170f0_row7_col0, #T_170f0_row13_col3 {\n",
       "  background-color: #516ddb;\n",
       "  color: #f1f1f1;\n",
       "}\n",
       "#T_170f0_row7_col6, #T_170f0_row8_col4, #T_170f0_row12_col9 {\n",
       "  background-color: #5977e3;\n",
       "  color: #f1f1f1;\n",
       "}\n",
       "#T_170f0_row7_col12 {\n",
       "  background-color: #efcfbf;\n",
       "  color: #000000;\n",
       "}\n",
       "#T_170f0_row7_col13 {\n",
       "  background-color: #b3cdfb;\n",
       "  color: #000000;\n",
       "}\n",
       "#T_170f0_row8_col12 {\n",
       "  background-color: #e4d9d2;\n",
       "  color: #000000;\n",
       "}\n",
       "#T_170f0_row8_col13 {\n",
       "  background-color: #c0d4f5;\n",
       "  color: #000000;\n",
       "}\n",
       "#T_170f0_row9_col5 {\n",
       "  background-color: #dddcdc;\n",
       "  color: #000000;\n",
       "}\n",
       "#T_170f0_row9_col7, #T_170f0_row11_col7 {\n",
       "  background-color: #5e7de7;\n",
       "  color: #f1f1f1;\n",
       "}\n",
       "#T_170f0_row9_col10, #T_170f0_row10_col2 {\n",
       "  background-color: #3e51c5;\n",
       "  color: #f1f1f1;\n",
       "}\n",
       "#T_170f0_row9_col12 {\n",
       "  background-color: #dfdbd9;\n",
       "  color: #000000;\n",
       "}\n",
       "#T_170f0_row9_col13 {\n",
       "  background-color: #c7d7f0;\n",
       "  color: #000000;\n",
       "}\n",
       "#T_170f0_row10_col6 {\n",
       "  background-color: #5673e0;\n",
       "  color: #f1f1f1;\n",
       "}\n",
       "#T_170f0_row10_col12 {\n",
       "  background-color: #e1dad6;\n",
       "  color: #000000;\n",
       "}\n",
       "#T_170f0_row10_col13 {\n",
       "  background-color: #c6d6f1;\n",
       "  color: #000000;\n",
       "}\n",
       "#T_170f0_row11_col13 {\n",
       "  background-color: #cedaeb;\n",
       "  color: #000000;\n",
       "}\n",
       "#T_170f0_row12_col4 {\n",
       "  background-color: #96b7ff;\n",
       "  color: #000000;\n",
       "}\n",
       "#T_170f0_row12_col6 {\n",
       "  background-color: #86a9fc;\n",
       "  color: #f1f1f1;\n",
       "}\n",
       "#T_170f0_row12_col7 {\n",
       "  background-color: #9abbff;\n",
       "  color: #000000;\n",
       "}\n",
       "#T_170f0_row12_col8 {\n",
       "  background-color: #6b8df0;\n",
       "  color: #f1f1f1;\n",
       "}\n",
       "#T_170f0_row13_col2 {\n",
       "  background-color: #3c4ec2;\n",
       "  color: #f1f1f1;\n",
       "}\n",
       "#T_170f0_row13_col5 {\n",
       "  background-color: #e26952;\n",
       "  color: #f1f1f1;\n",
       "}\n",
       "</style>\n",
       "<table id=\"T_170f0\">\n",
       "  <thead>\n",
       "    <tr>\n",
       "      <th class=\"blank level0\" >&nbsp;</th>\n",
       "      <th id=\"T_170f0_level0_col0\" class=\"col_heading level0 col0\" >Age</th>\n",
       "      <th id=\"T_170f0_level0_col1\" class=\"col_heading level0 col1\" >Gender</th>\n",
       "      <th id=\"T_170f0_level0_col2\" class=\"col_heading level0 col2\" >Ethnicity</th>\n",
       "      <th id=\"T_170f0_level0_col3\" class=\"col_heading level0 col3\" >ParentalEducation</th>\n",
       "      <th id=\"T_170f0_level0_col4\" class=\"col_heading level0 col4\" >StudyTimeWeekly</th>\n",
       "      <th id=\"T_170f0_level0_col5\" class=\"col_heading level0 col5\" >Absences</th>\n",
       "      <th id=\"T_170f0_level0_col6\" class=\"col_heading level0 col6\" >Tutoring</th>\n",
       "      <th id=\"T_170f0_level0_col7\" class=\"col_heading level0 col7\" >ParentalSupport</th>\n",
       "      <th id=\"T_170f0_level0_col8\" class=\"col_heading level0 col8\" >Extracurricular</th>\n",
       "      <th id=\"T_170f0_level0_col9\" class=\"col_heading level0 col9\" >Sports</th>\n",
       "      <th id=\"T_170f0_level0_col10\" class=\"col_heading level0 col10\" >Music</th>\n",
       "      <th id=\"T_170f0_level0_col11\" class=\"col_heading level0 col11\" >Volunteering</th>\n",
       "      <th id=\"T_170f0_level0_col12\" class=\"col_heading level0 col12\" >GPA</th>\n",
       "      <th id=\"T_170f0_level0_col13\" class=\"col_heading level0 col13\" >GradeClass</th>\n",
       "    </tr>\n",
       "  </thead>\n",
       "  <tbody>\n",
       "    <tr>\n",
       "      <th id=\"T_170f0_level0_row0\" class=\"row_heading level0 row0\" >Age</th>\n",
       "      <td id=\"T_170f0_row0_col0\" class=\"data row0 col0\" >1.00</td>\n",
       "      <td id=\"T_170f0_row0_col1\" class=\"data row0 col1\" >0.04</td>\n",
       "      <td id=\"T_170f0_row0_col2\" class=\"data row0 col2\" >-0.03</td>\n",
       "      <td id=\"T_170f0_row0_col3\" class=\"data row0 col3\" >0.03</td>\n",
       "      <td id=\"T_170f0_row0_col4\" class=\"data row0 col4\" >-0.01</td>\n",
       "      <td id=\"T_170f0_row0_col5\" class=\"data row0 col5\" >-0.01</td>\n",
       "      <td id=\"T_170f0_row0_col6\" class=\"data row0 col6\" >-0.01</td>\n",
       "      <td id=\"T_170f0_row0_col7\" class=\"data row0 col7\" >0.03</td>\n",
       "      <td id=\"T_170f0_row0_col8\" class=\"data row0 col8\" >-0.03</td>\n",
       "      <td id=\"T_170f0_row0_col9\" class=\"data row0 col9\" >-0.05</td>\n",
       "      <td id=\"T_170f0_row0_col10\" class=\"data row0 col10\" >-0.00</td>\n",
       "      <td id=\"T_170f0_row0_col11\" class=\"data row0 col11\" >0.01</td>\n",
       "      <td id=\"T_170f0_row0_col12\" class=\"data row0 col12\" >0.00</td>\n",
       "      <td id=\"T_170f0_row0_col13\" class=\"data row0 col13\" >-0.01</td>\n",
       "    </tr>\n",
       "    <tr>\n",
       "      <th id=\"T_170f0_level0_row1\" class=\"row_heading level0 row1\" >Gender</th>\n",
       "      <td id=\"T_170f0_row1_col0\" class=\"data row1 col0\" >0.04</td>\n",
       "      <td id=\"T_170f0_row1_col1\" class=\"data row1 col1\" >1.00</td>\n",
       "      <td id=\"T_170f0_row1_col2\" class=\"data row1 col2\" >0.02</td>\n",
       "      <td id=\"T_170f0_row1_col3\" class=\"data row1 col3\" >0.01</td>\n",
       "      <td id=\"T_170f0_row1_col4\" class=\"data row1 col4\" >0.01</td>\n",
       "      <td id=\"T_170f0_row1_col5\" class=\"data row1 col5\" >0.02</td>\n",
       "      <td id=\"T_170f0_row1_col6\" class=\"data row1 col6\" >-0.03</td>\n",
       "      <td id=\"T_170f0_row1_col7\" class=\"data row1 col7\" >0.01</td>\n",
       "      <td id=\"T_170f0_row1_col8\" class=\"data row1 col8\" >-0.01</td>\n",
       "      <td id=\"T_170f0_row1_col9\" class=\"data row1 col9\" >-0.01</td>\n",
       "      <td id=\"T_170f0_row1_col10\" class=\"data row1 col10\" >0.01</td>\n",
       "      <td id=\"T_170f0_row1_col11\" class=\"data row1 col11\" >-0.00</td>\n",
       "      <td id=\"T_170f0_row1_col12\" class=\"data row1 col12\" >-0.01</td>\n",
       "      <td id=\"T_170f0_row1_col13\" class=\"data row1 col13\" >0.02</td>\n",
       "    </tr>\n",
       "    <tr>\n",
       "      <th id=\"T_170f0_level0_row2\" class=\"row_heading level0 row2\" >Ethnicity</th>\n",
       "      <td id=\"T_170f0_row2_col0\" class=\"data row2 col0\" >-0.03</td>\n",
       "      <td id=\"T_170f0_row2_col1\" class=\"data row2 col1\" >0.02</td>\n",
       "      <td id=\"T_170f0_row2_col2\" class=\"data row2 col2\" >1.00</td>\n",
       "      <td id=\"T_170f0_row2_col3\" class=\"data row2 col3\" >0.03</td>\n",
       "      <td id=\"T_170f0_row2_col4\" class=\"data row2 col4\" >0.01</td>\n",
       "      <td id=\"T_170f0_row2_col5\" class=\"data row2 col5\" >-0.03</td>\n",
       "      <td id=\"T_170f0_row2_col6\" class=\"data row2 col6\" >-0.02</td>\n",
       "      <td id=\"T_170f0_row2_col7\" class=\"data row2 col7\" >0.02</td>\n",
       "      <td id=\"T_170f0_row2_col8\" class=\"data row2 col8\" >-0.01</td>\n",
       "      <td id=\"T_170f0_row2_col9\" class=\"data row2 col9\" >-0.00</td>\n",
       "      <td id=\"T_170f0_row2_col10\" class=\"data row2 col10\" >-0.01</td>\n",
       "      <td id=\"T_170f0_row2_col11\" class=\"data row2 col11\" >0.01</td>\n",
       "      <td id=\"T_170f0_row2_col12\" class=\"data row2 col12\" >0.03</td>\n",
       "      <td id=\"T_170f0_row2_col13\" class=\"data row2 col13\" >-0.02</td>\n",
       "    </tr>\n",
       "    <tr>\n",
       "      <th id=\"T_170f0_level0_row3\" class=\"row_heading level0 row3\" >ParentalEducation</th>\n",
       "      <td id=\"T_170f0_row3_col0\" class=\"data row3 col0\" >0.03</td>\n",
       "      <td id=\"T_170f0_row3_col1\" class=\"data row3 col1\" >0.01</td>\n",
       "      <td id=\"T_170f0_row3_col2\" class=\"data row3 col2\" >0.03</td>\n",
       "      <td id=\"T_170f0_row3_col3\" class=\"data row3 col3\" >1.00</td>\n",
       "      <td id=\"T_170f0_row3_col4\" class=\"data row3 col4\" >-0.01</td>\n",
       "      <td id=\"T_170f0_row3_col5\" class=\"data row3 col5\" >0.04</td>\n",
       "      <td id=\"T_170f0_row3_col6\" class=\"data row3 col6\" >-0.02</td>\n",
       "      <td id=\"T_170f0_row3_col7\" class=\"data row3 col7\" >-0.02</td>\n",
       "      <td id=\"T_170f0_row3_col8\" class=\"data row3 col8\" >0.01</td>\n",
       "      <td id=\"T_170f0_row3_col9\" class=\"data row3 col9\" >0.00</td>\n",
       "      <td id=\"T_170f0_row3_col10\" class=\"data row3 col10\" >0.04</td>\n",
       "      <td id=\"T_170f0_row3_col11\" class=\"data row3 col11\" >0.01</td>\n",
       "      <td id=\"T_170f0_row3_col12\" class=\"data row3 col12\" >-0.04</td>\n",
       "      <td id=\"T_170f0_row3_col13\" class=\"data row3 col13\" >0.04</td>\n",
       "    </tr>\n",
       "    <tr>\n",
       "      <th id=\"T_170f0_level0_row4\" class=\"row_heading level0 row4\" >StudyTimeWeekly</th>\n",
       "      <td id=\"T_170f0_row4_col0\" class=\"data row4 col0\" >-0.01</td>\n",
       "      <td id=\"T_170f0_row4_col1\" class=\"data row4 col1\" >0.01</td>\n",
       "      <td id=\"T_170f0_row4_col2\" class=\"data row4 col2\" >0.01</td>\n",
       "      <td id=\"T_170f0_row4_col3\" class=\"data row4 col3\" >-0.01</td>\n",
       "      <td id=\"T_170f0_row4_col4\" class=\"data row4 col4\" >1.00</td>\n",
       "      <td id=\"T_170f0_row4_col5\" class=\"data row4 col5\" >0.01</td>\n",
       "      <td id=\"T_170f0_row4_col6\" class=\"data row4 col6\" >0.03</td>\n",
       "      <td id=\"T_170f0_row4_col7\" class=\"data row4 col7\" >0.04</td>\n",
       "      <td id=\"T_170f0_row4_col8\" class=\"data row4 col8\" >-0.02</td>\n",
       "      <td id=\"T_170f0_row4_col9\" class=\"data row4 col9\" >0.01</td>\n",
       "      <td id=\"T_170f0_row4_col10\" class=\"data row4 col10\" >0.01</td>\n",
       "      <td id=\"T_170f0_row4_col11\" class=\"data row4 col11\" >-0.02</td>\n",
       "      <td id=\"T_170f0_row4_col12\" class=\"data row4 col12\" >0.18</td>\n",
       "      <td id=\"T_170f0_row4_col13\" class=\"data row4 col13\" >-0.13</td>\n",
       "    </tr>\n",
       "    <tr>\n",
       "      <th id=\"T_170f0_level0_row5\" class=\"row_heading level0 row5\" >Absences</th>\n",
       "      <td id=\"T_170f0_row5_col0\" class=\"data row5 col0\" >-0.01</td>\n",
       "      <td id=\"T_170f0_row5_col1\" class=\"data row5 col1\" >0.02</td>\n",
       "      <td id=\"T_170f0_row5_col2\" class=\"data row5 col2\" >-0.03</td>\n",
       "      <td id=\"T_170f0_row5_col3\" class=\"data row5 col3\" >0.04</td>\n",
       "      <td id=\"T_170f0_row5_col4\" class=\"data row5 col4\" >0.01</td>\n",
       "      <td id=\"T_170f0_row5_col5\" class=\"data row5 col5\" >1.00</td>\n",
       "      <td id=\"T_170f0_row5_col6\" class=\"data row5 col6\" >-0.02</td>\n",
       "      <td id=\"T_170f0_row5_col7\" class=\"data row5 col7\" >0.00</td>\n",
       "      <td id=\"T_170f0_row5_col8\" class=\"data row5 col8\" >0.00</td>\n",
       "      <td id=\"T_170f0_row5_col9\" class=\"data row5 col9\" >0.04</td>\n",
       "      <td id=\"T_170f0_row5_col10\" class=\"data row5 col10\" >-0.01</td>\n",
       "      <td id=\"T_170f0_row5_col11\" class=\"data row5 col11\" >-0.02</td>\n",
       "      <td id=\"T_170f0_row5_col12\" class=\"data row5 col12\" >-0.92</td>\n",
       "      <td id=\"T_170f0_row5_col13\" class=\"data row5 col13\" >0.73</td>\n",
       "    </tr>\n",
       "    <tr>\n",
       "      <th id=\"T_170f0_level0_row6\" class=\"row_heading level0 row6\" >Tutoring</th>\n",
       "      <td id=\"T_170f0_row6_col0\" class=\"data row6 col0\" >-0.01</td>\n",
       "      <td id=\"T_170f0_row6_col1\" class=\"data row6 col1\" >-0.03</td>\n",
       "      <td id=\"T_170f0_row6_col2\" class=\"data row6 col2\" >-0.02</td>\n",
       "      <td id=\"T_170f0_row6_col3\" class=\"data row6 col3\" >-0.02</td>\n",
       "      <td id=\"T_170f0_row6_col4\" class=\"data row6 col4\" >0.03</td>\n",
       "      <td id=\"T_170f0_row6_col5\" class=\"data row6 col5\" >-0.02</td>\n",
       "      <td id=\"T_170f0_row6_col6\" class=\"data row6 col6\" >1.00</td>\n",
       "      <td id=\"T_170f0_row6_col7\" class=\"data row6 col7\" >-0.00</td>\n",
       "      <td id=\"T_170f0_row6_col8\" class=\"data row6 col8\" >0.00</td>\n",
       "      <td id=\"T_170f0_row6_col9\" class=\"data row6 col9\" >0.01</td>\n",
       "      <td id=\"T_170f0_row6_col10\" class=\"data row6 col10\" >-0.01</td>\n",
       "      <td id=\"T_170f0_row6_col11\" class=\"data row6 col11\" >-0.05</td>\n",
       "      <td id=\"T_170f0_row6_col12\" class=\"data row6 col12\" >0.15</td>\n",
       "      <td id=\"T_170f0_row6_col13\" class=\"data row6 col13\" >-0.11</td>\n",
       "    </tr>\n",
       "    <tr>\n",
       "      <th id=\"T_170f0_level0_row7\" class=\"row_heading level0 row7\" >ParentalSupport</th>\n",
       "      <td id=\"T_170f0_row7_col0\" class=\"data row7 col0\" >0.03</td>\n",
       "      <td id=\"T_170f0_row7_col1\" class=\"data row7 col1\" >0.01</td>\n",
       "      <td id=\"T_170f0_row7_col2\" class=\"data row7 col2\" >0.02</td>\n",
       "      <td id=\"T_170f0_row7_col3\" class=\"data row7 col3\" >-0.02</td>\n",
       "      <td id=\"T_170f0_row7_col4\" class=\"data row7 col4\" >0.04</td>\n",
       "      <td id=\"T_170f0_row7_col5\" class=\"data row7 col5\" >0.00</td>\n",
       "      <td id=\"T_170f0_row7_col6\" class=\"data row7 col6\" >-0.00</td>\n",
       "      <td id=\"T_170f0_row7_col7\" class=\"data row7 col7\" >1.00</td>\n",
       "      <td id=\"T_170f0_row7_col8\" class=\"data row7 col8\" >-0.01</td>\n",
       "      <td id=\"T_170f0_row7_col9\" class=\"data row7 col9\" >-0.01</td>\n",
       "      <td id=\"T_170f0_row7_col10\" class=\"data row7 col10\" >0.04</td>\n",
       "      <td id=\"T_170f0_row7_col11\" class=\"data row7 col11\" >-0.01</td>\n",
       "      <td id=\"T_170f0_row7_col12\" class=\"data row7 col12\" >0.19</td>\n",
       "      <td id=\"T_170f0_row7_col13\" class=\"data row7 col13\" >-0.14</td>\n",
       "    </tr>\n",
       "    <tr>\n",
       "      <th id=\"T_170f0_level0_row8\" class=\"row_heading level0 row8\" >Extracurricular</th>\n",
       "      <td id=\"T_170f0_row8_col0\" class=\"data row8 col0\" >-0.03</td>\n",
       "      <td id=\"T_170f0_row8_col1\" class=\"data row8 col1\" >-0.01</td>\n",
       "      <td id=\"T_170f0_row8_col2\" class=\"data row8 col2\" >-0.01</td>\n",
       "      <td id=\"T_170f0_row8_col3\" class=\"data row8 col3\" >0.01</td>\n",
       "      <td id=\"T_170f0_row8_col4\" class=\"data row8 col4\" >-0.02</td>\n",
       "      <td id=\"T_170f0_row8_col5\" class=\"data row8 col5\" >0.00</td>\n",
       "      <td id=\"T_170f0_row8_col6\" class=\"data row8 col6\" >0.00</td>\n",
       "      <td id=\"T_170f0_row8_col7\" class=\"data row8 col7\" >-0.01</td>\n",
       "      <td id=\"T_170f0_row8_col8\" class=\"data row8 col8\" >1.00</td>\n",
       "      <td id=\"T_170f0_row8_col9\" class=\"data row8 col9\" >-0.01</td>\n",
       "      <td id=\"T_170f0_row8_col10\" class=\"data row8 col10\" >-0.01</td>\n",
       "      <td id=\"T_170f0_row8_col11\" class=\"data row8 col11\" >-0.01</td>\n",
       "      <td id=\"T_170f0_row8_col12\" class=\"data row8 col12\" >0.09</td>\n",
       "      <td id=\"T_170f0_row8_col13\" class=\"data row8 col13\" >-0.07</td>\n",
       "    </tr>\n",
       "    <tr>\n",
       "      <th id=\"T_170f0_level0_row9\" class=\"row_heading level0 row9\" >Sports</th>\n",
       "      <td id=\"T_170f0_row9_col0\" class=\"data row9 col0\" >-0.05</td>\n",
       "      <td id=\"T_170f0_row9_col1\" class=\"data row9 col1\" >-0.01</td>\n",
       "      <td id=\"T_170f0_row9_col2\" class=\"data row9 col2\" >-0.00</td>\n",
       "      <td id=\"T_170f0_row9_col3\" class=\"data row9 col3\" >0.00</td>\n",
       "      <td id=\"T_170f0_row9_col4\" class=\"data row9 col4\" >0.01</td>\n",
       "      <td id=\"T_170f0_row9_col5\" class=\"data row9 col5\" >0.04</td>\n",
       "      <td id=\"T_170f0_row9_col6\" class=\"data row9 col6\" >0.01</td>\n",
       "      <td id=\"T_170f0_row9_col7\" class=\"data row9 col7\" >-0.01</td>\n",
       "      <td id=\"T_170f0_row9_col8\" class=\"data row9 col8\" >-0.01</td>\n",
       "      <td id=\"T_170f0_row9_col9\" class=\"data row9 col9\" >1.00</td>\n",
       "      <td id=\"T_170f0_row9_col10\" class=\"data row9 col10\" >-0.02</td>\n",
       "      <td id=\"T_170f0_row9_col11\" class=\"data row9 col11\" >-0.00</td>\n",
       "      <td id=\"T_170f0_row9_col12\" class=\"data row9 col12\" >0.06</td>\n",
       "      <td id=\"T_170f0_row9_col13\" class=\"data row9 col13\" >-0.03</td>\n",
       "    </tr>\n",
       "    <tr>\n",
       "      <th id=\"T_170f0_level0_row10\" class=\"row_heading level0 row10\" >Music</th>\n",
       "      <td id=\"T_170f0_row10_col0\" class=\"data row10 col0\" >-0.00</td>\n",
       "      <td id=\"T_170f0_row10_col1\" class=\"data row10 col1\" >0.01</td>\n",
       "      <td id=\"T_170f0_row10_col2\" class=\"data row10 col2\" >-0.01</td>\n",
       "      <td id=\"T_170f0_row10_col3\" class=\"data row10 col3\" >0.04</td>\n",
       "      <td id=\"T_170f0_row10_col4\" class=\"data row10 col4\" >0.01</td>\n",
       "      <td id=\"T_170f0_row10_col5\" class=\"data row10 col5\" >-0.01</td>\n",
       "      <td id=\"T_170f0_row10_col6\" class=\"data row10 col6\" >-0.01</td>\n",
       "      <td id=\"T_170f0_row10_col7\" class=\"data row10 col7\" >0.04</td>\n",
       "      <td id=\"T_170f0_row10_col8\" class=\"data row10 col8\" >-0.01</td>\n",
       "      <td id=\"T_170f0_row10_col9\" class=\"data row10 col9\" >-0.02</td>\n",
       "      <td id=\"T_170f0_row10_col10\" class=\"data row10 col10\" >1.00</td>\n",
       "      <td id=\"T_170f0_row10_col11\" class=\"data row10 col11\" >0.02</td>\n",
       "      <td id=\"T_170f0_row10_col12\" class=\"data row10 col12\" >0.07</td>\n",
       "      <td id=\"T_170f0_row10_col13\" class=\"data row10 col13\" >-0.04</td>\n",
       "    </tr>\n",
       "    <tr>\n",
       "      <th id=\"T_170f0_level0_row11\" class=\"row_heading level0 row11\" >Volunteering</th>\n",
       "      <td id=\"T_170f0_row11_col0\" class=\"data row11 col0\" >0.01</td>\n",
       "      <td id=\"T_170f0_row11_col1\" class=\"data row11 col1\" >-0.00</td>\n",
       "      <td id=\"T_170f0_row11_col2\" class=\"data row11 col2\" >0.01</td>\n",
       "      <td id=\"T_170f0_row11_col3\" class=\"data row11 col3\" >0.01</td>\n",
       "      <td id=\"T_170f0_row11_col4\" class=\"data row11 col4\" >-0.02</td>\n",
       "      <td id=\"T_170f0_row11_col5\" class=\"data row11 col5\" >-0.02</td>\n",
       "      <td id=\"T_170f0_row11_col6\" class=\"data row11 col6\" >-0.05</td>\n",
       "      <td id=\"T_170f0_row11_col7\" class=\"data row11 col7\" >-0.01</td>\n",
       "      <td id=\"T_170f0_row11_col8\" class=\"data row11 col8\" >-0.01</td>\n",
       "      <td id=\"T_170f0_row11_col9\" class=\"data row11 col9\" >-0.00</td>\n",
       "      <td id=\"T_170f0_row11_col10\" class=\"data row11 col10\" >0.02</td>\n",
       "      <td id=\"T_170f0_row11_col11\" class=\"data row11 col11\" >1.00</td>\n",
       "      <td id=\"T_170f0_row11_col12\" class=\"data row11 col12\" >0.00</td>\n",
       "      <td id=\"T_170f0_row11_col13\" class=\"data row11 col13\" >0.01</td>\n",
       "    </tr>\n",
       "    <tr>\n",
       "      <th id=\"T_170f0_level0_row12\" class=\"row_heading level0 row12\" >GPA</th>\n",
       "      <td id=\"T_170f0_row12_col0\" class=\"data row12 col0\" >0.00</td>\n",
       "      <td id=\"T_170f0_row12_col1\" class=\"data row12 col1\" >-0.01</td>\n",
       "      <td id=\"T_170f0_row12_col2\" class=\"data row12 col2\" >0.03</td>\n",
       "      <td id=\"T_170f0_row12_col3\" class=\"data row12 col3\" >-0.04</td>\n",
       "      <td id=\"T_170f0_row12_col4\" class=\"data row12 col4\" >0.18</td>\n",
       "      <td id=\"T_170f0_row12_col5\" class=\"data row12 col5\" >-0.92</td>\n",
       "      <td id=\"T_170f0_row12_col6\" class=\"data row12 col6\" >0.15</td>\n",
       "      <td id=\"T_170f0_row12_col7\" class=\"data row12 col7\" >0.19</td>\n",
       "      <td id=\"T_170f0_row12_col8\" class=\"data row12 col8\" >0.09</td>\n",
       "      <td id=\"T_170f0_row12_col9\" class=\"data row12 col9\" >0.06</td>\n",
       "      <td id=\"T_170f0_row12_col10\" class=\"data row12 col10\" >0.07</td>\n",
       "      <td id=\"T_170f0_row12_col11\" class=\"data row12 col11\" >0.00</td>\n",
       "      <td id=\"T_170f0_row12_col12\" class=\"data row12 col12\" >1.00</td>\n",
       "      <td id=\"T_170f0_row12_col13\" class=\"data row12 col13\" >-0.78</td>\n",
       "    </tr>\n",
       "    <tr>\n",
       "      <th id=\"T_170f0_level0_row13\" class=\"row_heading level0 row13\" >GradeClass</th>\n",
       "      <td id=\"T_170f0_row13_col0\" class=\"data row13 col0\" >-0.01</td>\n",
       "      <td id=\"T_170f0_row13_col1\" class=\"data row13 col1\" >0.02</td>\n",
       "      <td id=\"T_170f0_row13_col2\" class=\"data row13 col2\" >-0.02</td>\n",
       "      <td id=\"T_170f0_row13_col3\" class=\"data row13 col3\" >0.04</td>\n",
       "      <td id=\"T_170f0_row13_col4\" class=\"data row13 col4\" >-0.13</td>\n",
       "      <td id=\"T_170f0_row13_col5\" class=\"data row13 col5\" >0.73</td>\n",
       "      <td id=\"T_170f0_row13_col6\" class=\"data row13 col6\" >-0.11</td>\n",
       "      <td id=\"T_170f0_row13_col7\" class=\"data row13 col7\" >-0.14</td>\n",
       "      <td id=\"T_170f0_row13_col8\" class=\"data row13 col8\" >-0.07</td>\n",
       "      <td id=\"T_170f0_row13_col9\" class=\"data row13 col9\" >-0.03</td>\n",
       "      <td id=\"T_170f0_row13_col10\" class=\"data row13 col10\" >-0.04</td>\n",
       "      <td id=\"T_170f0_row13_col11\" class=\"data row13 col11\" >0.01</td>\n",
       "      <td id=\"T_170f0_row13_col12\" class=\"data row13 col12\" >-0.78</td>\n",
       "      <td id=\"T_170f0_row13_col13\" class=\"data row13 col13\" >1.00</td>\n",
       "    </tr>\n",
       "  </tbody>\n",
       "</table>\n"
      ],
      "text/plain": [
       "<pandas.io.formats.style.Styler at 0x79c5d7808e20>"
      ]
     },
     "execution_count": 9,
     "metadata": {},
     "output_type": "execute_result"
    }
   ],
   "source": [
    "corr_matrix = data.corr()\n",
    "corr_matrix.style.background_gradient(cmap = 'coolwarm').format(precision = 2)"
   ]
  },
  {
   "cell_type": "markdown",
   "id": "fa18aa1b",
   "metadata": {
    "papermill": {
     "duration": 0.012304,
     "end_time": "2024-08-20T11:28:52.866866",
     "exception": false,
     "start_time": "2024-08-20T11:28:52.854562",
     "status": "completed"
    },
    "tags": []
   },
   "source": [
    "There is a strong negative correlation between ```GPA``` and ```Absences```, which indicates that as the average value of one variable increases, the average value of the other variable decreaes. Students with fewer absences tend to have higher GPA. \n",
    "There is a strong positive correlation between ```GradeClass``` and ```Absences```. This suggests that as the number of absences increases, the grade class tends to be higher, which corresponds to lower GPA.\n"
   ]
  },
  {
   "cell_type": "markdown",
   "id": "3a601129",
   "metadata": {
    "papermill": {
     "duration": 0.012144,
     "end_time": "2024-08-20T11:28:52.891479",
     "exception": false,
     "start_time": "2024-08-20T11:28:52.879335",
     "status": "completed"
    },
    "tags": []
   },
   "source": [
    "### Change data types"
   ]
  },
  {
   "cell_type": "markdown",
   "id": "658985a9",
   "metadata": {
    "papermill": {
     "duration": 0.012321,
     "end_time": "2024-08-20T11:28:52.965853",
     "exception": false,
     "start_time": "2024-08-20T11:28:52.953532",
     "status": "completed"
    },
    "tags": []
   },
   "source": [
    "```GPA``` shouldn't be used as a feature variable to predict ```GradeClass```, as they both represent the same thing. \n"
   ]
  },
  {
   "cell_type": "code",
   "execution_count": 10,
   "id": "335e77e0",
   "metadata": {
    "execution": {
     "iopub.execute_input": "2024-08-20T11:28:52.992711Z",
     "iopub.status.busy": "2024-08-20T11:28:52.992155Z",
     "iopub.status.idle": "2024-08-20T11:28:52.998082Z",
     "shell.execute_reply": "2024-08-20T11:28:52.997131Z"
    },
    "papermill": {
     "duration": 0.021653,
     "end_time": "2024-08-20T11:28:53.000069",
     "exception": false,
     "start_time": "2024-08-20T11:28:52.978416",
     "status": "completed"
    },
    "tags": []
   },
   "outputs": [],
   "source": [
    "data = data.drop(columns = 'GPA')"
   ]
  },
  {
   "cell_type": "code",
   "execution_count": 11,
   "id": "60eb228d",
   "metadata": {
    "execution": {
     "iopub.execute_input": "2024-08-20T11:28:53.027687Z",
     "iopub.status.busy": "2024-08-20T11:28:53.026817Z",
     "iopub.status.idle": "2024-08-20T11:28:53.037779Z",
     "shell.execute_reply": "2024-08-20T11:28:53.036856Z"
    },
    "papermill": {
     "duration": 0.026809,
     "end_time": "2024-08-20T11:28:53.039835",
     "exception": false,
     "start_time": "2024-08-20T11:28:53.013026",
     "status": "completed"
    },
    "tags": []
   },
   "outputs": [
    {
     "data": {
      "text/plain": [
       "Age                     4\n",
       "Gender                  2\n",
       "Ethnicity               4\n",
       "ParentalEducation       5\n",
       "StudyTimeWeekly      2392\n",
       "Absences               30\n",
       "Tutoring                2\n",
       "ParentalSupport         5\n",
       "Extracurricular         2\n",
       "Sports                  2\n",
       "Music                   2\n",
       "Volunteering            2\n",
       "GradeClass              5\n",
       "dtype: int64"
      ]
     },
     "execution_count": 11,
     "metadata": {},
     "output_type": "execute_result"
    }
   ],
   "source": [
    "data.nunique()"
   ]
  },
  {
   "cell_type": "code",
   "execution_count": 12,
   "id": "d9934f35",
   "metadata": {
    "execution": {
     "iopub.execute_input": "2024-08-20T11:28:53.067906Z",
     "iopub.status.busy": "2024-08-20T11:28:53.067009Z",
     "iopub.status.idle": "2024-08-20T11:28:53.080344Z",
     "shell.execute_reply": "2024-08-20T11:28:53.079518Z"
    },
    "papermill": {
     "duration": 0.029653,
     "end_time": "2024-08-20T11:28:53.082434",
     "exception": false,
     "start_time": "2024-08-20T11:28:53.052781",
     "status": "completed"
    },
    "tags": []
   },
   "outputs": [],
   "source": [
    "data['Age'] = data['Age'].astype('category')\n",
    "data['Ethnicity'] = data['Ethnicity'].astype('category')\n",
    "data['ParentalEducation'] = data['ParentalEducation'].astype('category')\n",
    "data['ParentalSupport'] = data['ParentalSupport'].astype('category')\n",
    "data['GradeClass'] = data['GradeClass'].astype('category')\n",
    "\n",
    "data['Gender'] = data['Gender'].astype(bool)\n",
    "data['Tutoring'] = data['Tutoring'].astype(bool)\n",
    "data['Extracurricular'] = data['Extracurricular'].astype(bool)\n",
    "data['Sports'] = data['Sports'].astype(bool)\n",
    "data['Music'] = data['Music'].astype(bool)\n",
    "data['Volunteering'] = data['Volunteering'].astype(bool)"
   ]
  },
  {
   "cell_type": "code",
   "execution_count": 13,
   "id": "035bdb24",
   "metadata": {
    "execution": {
     "iopub.execute_input": "2024-08-20T11:28:53.109810Z",
     "iopub.status.busy": "2024-08-20T11:28:53.109460Z",
     "iopub.status.idle": "2024-08-20T11:28:53.128212Z",
     "shell.execute_reply": "2024-08-20T11:28:53.127338Z"
    },
    "papermill": {
     "duration": 0.035075,
     "end_time": "2024-08-20T11:28:53.130519",
     "exception": false,
     "start_time": "2024-08-20T11:28:53.095444",
     "status": "completed"
    },
    "tags": []
   },
   "outputs": [
    {
     "name": "stdout",
     "output_type": "stream",
     "text": [
      "<class 'pandas.core.frame.DataFrame'>\n",
      "RangeIndex: 2392 entries, 0 to 2391\n",
      "Data columns (total 13 columns):\n",
      " #   Column             Non-Null Count  Dtype   \n",
      "---  ------             --------------  -----   \n",
      " 0   Age                2392 non-null   category\n",
      " 1   Gender             2392 non-null   bool    \n",
      " 2   Ethnicity          2392 non-null   category\n",
      " 3   ParentalEducation  2392 non-null   category\n",
      " 4   StudyTimeWeekly    2392 non-null   float64 \n",
      " 5   Absences           2392 non-null   int64   \n",
      " 6   Tutoring           2392 non-null   bool    \n",
      " 7   ParentalSupport    2392 non-null   category\n",
      " 8   Extracurricular    2392 non-null   bool    \n",
      " 9   Sports             2392 non-null   bool    \n",
      " 10  Music              2392 non-null   bool    \n",
      " 11  Volunteering       2392 non-null   bool    \n",
      " 12  GradeClass         2392 non-null   category\n",
      "dtypes: bool(6), category(5), float64(1), int64(1)\n",
      "memory usage: 64.2 KB\n"
     ]
    }
   ],
   "source": [
    "data.info()"
   ]
  },
  {
   "cell_type": "markdown",
   "id": "cb3ac668",
   "metadata": {
    "papermill": {
     "duration": 0.014915,
     "end_time": "2024-08-20T11:28:53.158528",
     "exception": false,
     "start_time": "2024-08-20T11:28:53.143613",
     "status": "completed"
    },
    "tags": []
   },
   "source": [
    "## Visualization"
   ]
  },
  {
   "cell_type": "code",
   "execution_count": 14,
   "id": "a0e94f8f",
   "metadata": {
    "execution": {
     "iopub.execute_input": "2024-08-20T11:28:53.192258Z",
     "iopub.status.busy": "2024-08-20T11:28:53.191380Z",
     "iopub.status.idle": "2024-08-20T11:28:53.432351Z",
     "shell.execute_reply": "2024-08-20T11:28:53.431363Z"
    },
    "papermill": {
     "duration": 0.258884,
     "end_time": "2024-08-20T11:28:53.434656",
     "exception": false,
     "start_time": "2024-08-20T11:28:53.175772",
     "status": "completed"
    },
    "tags": []
   },
   "outputs": [
    {
     "data": {
      "image/png": "[encoded data removed]",
      "text/plain": [
       "<Figure size 700x500 with 1 Axes>"
      ]
     },
     "metadata": {},
     "output_type": "display_data"
    }
   ],
   "source": [
    "grade_counts = data['GradeClass'].value_counts()\n",
    "\n",
    "plt.figure(figsize=(7,5))\n",
    "plt.bar(grade_counts.index, grade_counts)\n",
    "plt.xlabel('GradeClass')\n",
    "plt.ylabel('Count')\n",
    "plt.title('Count plot of GradeClass')\n",
    "plt.show()"
   ]
  },
  {
   "cell_type": "markdown",
   "id": "1c121258",
   "metadata": {
    "papermill": {
     "duration": 0.013359,
     "end_time": "2024-08-20T11:28:53.461470",
     "exception": false,
     "start_time": "2024-08-20T11:28:53.448111",
     "status": "completed"
    },
    "tags": []
   },
   "source": [
    "The target variable is imbalanced, which means we should use stratified splitting."
   ]
  },
  {
   "cell_type": "code",
   "execution_count": 15,
   "id": "ed110442",
   "metadata": {
    "execution": {
     "iopub.execute_input": "2024-08-20T11:28:53.490116Z",
     "iopub.status.busy": "2024-08-20T11:28:53.489731Z",
     "iopub.status.idle": "2024-08-20T11:28:54.143798Z",
     "shell.execute_reply": "2024-08-20T11:28:54.142805Z"
    },
    "papermill": {
     "duration": 0.670757,
     "end_time": "2024-08-20T11:28:54.145921",
     "exception": false,
     "start_time": "2024-08-20T11:28:53.475164",
     "status": "completed"
    },
    "tags": []
   },
   "outputs": [
    {
     "data": {
      "image/png": "[encoded data removed]",
      "text/plain": [
       "<Figure size 1200x600 with 2 Axes>"
      ]
     },
     "metadata": {},
     "output_type": "display_data"
    }
   ],
   "source": [
    "sns.set_style('whitegrid')\n",
    "fig, axes = plt.subplots(1,2, figsize = (12,6))\n",
    "\n",
    "sns.boxplot(y = data['StudyTimeWeekly'], x=data['GradeClass'], ax = axes[0]);\n",
    "axes[0].set_title('Distribution of StudyTimeWeekly by GradeClass');\n",
    "\n",
    "sns.boxplot(y = data['Absences'], x = data['GradeClass'], ax = axes[1]);\n",
    "axes[1].set_title('Distribution of Absences by GradeClass');"
   ]
  },
  {
   "cell_type": "markdown",
   "id": "21108178",
   "metadata": {
    "papermill": {
     "duration": 0.013931,
     "end_time": "2024-08-20T11:28:54.174026",
     "exception": false,
     "start_time": "2024-08-20T11:28:54.160095",
     "status": "completed"
    },
    "tags": []
   },
   "source": [
    "The boxplot demonstrates that the median weekly study time is lower for students with higher grade class. This indicates that students who study more per week tend to have better grades compared to students who study less. We can also see that students with fewer absences tend to have better grades. "
   ]
  },
  {
   "cell_type": "code",
   "execution_count": 16,
   "id": "3d9eaca1",
   "metadata": {
    "execution": {
     "iopub.execute_input": "2024-08-20T11:28:54.204231Z",
     "iopub.status.busy": "2024-08-20T11:28:54.203341Z",
     "iopub.status.idle": "2024-08-20T11:28:55.591154Z",
     "shell.execute_reply": "2024-08-20T11:28:55.590115Z"
    },
    "papermill": {
     "duration": 1.405338,
     "end_time": "2024-08-20T11:28:55.593511",
     "exception": false,
     "start_time": "2024-08-20T11:28:54.188173",
     "status": "completed"
    },
    "tags": []
   },
   "outputs": [
    {
     "data": {
      "image/png": "[encoded data removed]",
      "text/plain": [
       "<Figure size 1000x700 with 6 Axes>"
      ]
     },
     "metadata": {},
     "output_type": "display_data"
    }
   ],
   "source": [
    "categories = ['Ethnicity', 'ParentalSupport', 'ParentalEducation']\n",
    "\n",
    "fig, axes = plt.subplots(2, 3, figsize=(10, 7))\n",
    "fig.suptitle('Distribution of StudyTimeWeekly and Absences by categories')\n",
    "\n",
    "for i, category in enumerate(categories):\n",
    "    sns.boxplot(y = data['StudyTimeWeekly'], x = data[category], ax = axes[0,i])\n",
    "    sns.boxplot(y = data['Absences'], x = data[category], ax = axes[1,i])\n",
    "    axes[0,i].set_xlabel('')\n",
    "    axes[0,i].set_xticklabels([])\n",
    "    if i==0:\n",
    "        axes[0,i].set_ylabel('StudyTimeWeekly')\n",
    "        axes[1,i].set_ylabel('Absences')\n",
    "    else:\n",
    "        axes[0,i].set_ylabel('')\n",
    "        axes[1,i].set_ylabel('')\n",
    "        axes[0,i].set_yticklabels([])\n",
    "        axes[1,i].set_yticklabels([])\n",
    "\n",
    "plt.tight_layout()\n",
    "plt.show()"
   ]
  },
  {
   "cell_type": "markdown",
   "id": "b125891a",
   "metadata": {
    "papermill": {
     "duration": 0.014657,
     "end_time": "2024-08-20T11:28:55.623158",
     "exception": false,
     "start_time": "2024-08-20T11:28:55.608501",
     "status": "completed"
    },
    "tags": []
   },
   "source": [
    "From the chart above, we can see that there are no significant differences in students' absences and weekly study time based on their ethnicity, parental support and parental education."
   ]
  },
  {
   "cell_type": "markdown",
   "id": "99dd3074",
   "metadata": {
    "papermill": {
     "duration": 0.014603,
     "end_time": "2024-08-20T11:28:55.652654",
     "exception": false,
     "start_time": "2024-08-20T11:28:55.638051",
     "status": "completed"
    },
    "tags": []
   },
   "source": [
    "### Standarization"
   ]
  },
  {
   "cell_type": "code",
   "execution_count": 17,
   "id": "d3d7152c",
   "metadata": {
    "execution": {
     "iopub.execute_input": "2024-08-20T11:28:55.684209Z",
     "iopub.status.busy": "2024-08-20T11:28:55.683817Z",
     "iopub.status.idle": "2024-08-20T11:28:55.694333Z",
     "shell.execute_reply": "2024-08-20T11:28:55.693320Z"
    },
    "papermill": {
     "duration": 0.028811,
     "end_time": "2024-08-20T11:28:55.696462",
     "exception": false,
     "start_time": "2024-08-20T11:28:55.667651",
     "status": "completed"
    },
    "tags": []
   },
   "outputs": [],
   "source": [
    "cols_to_scale = ['StudyTimeWeekly','Absences']\n",
    "std_scaler = StandardScaler()\n",
    "data[cols_to_scale] = std_scaler.fit_transform(data[cols_to_scale])"
   ]
  },
  {
   "cell_type": "markdown",
   "id": "fb73921f",
   "metadata": {
    "papermill": {
     "duration": 0.015003,
     "end_time": "2024-08-20T11:28:55.727211",
     "exception": false,
     "start_time": "2024-08-20T11:28:55.712208",
     "status": "completed"
    },
    "tags": []
   },
   "source": [
    "## Building models"
   ]
  },
  {
   "cell_type": "markdown",
   "id": "1e14d0cf",
   "metadata": {
    "papermill": {
     "duration": 0.014654,
     "end_time": "2024-08-20T11:28:55.756802",
     "exception": false,
     "start_time": "2024-08-20T11:28:55.742148",
     "status": "completed"
    },
    "tags": []
   },
   "source": [
    "### Splitting dataset"
   ]
  },
  {
   "cell_type": "code",
   "execution_count": 18,
   "id": "d188b3f9",
   "metadata": {
    "execution": {
     "iopub.execute_input": "2024-08-20T11:28:55.788910Z",
     "iopub.status.busy": "2024-08-20T11:28:55.788143Z",
     "iopub.status.idle": "2024-08-20T11:28:55.792793Z",
     "shell.execute_reply": "2024-08-20T11:28:55.791851Z"
    },
    "papermill": {
     "duration": 0.023031,
     "end_time": "2024-08-20T11:28:55.794899",
     "exception": false,
     "start_time": "2024-08-20T11:28:55.771868",
     "status": "completed"
    },
    "tags": []
   },
   "outputs": [],
   "source": [
    "kfold = RepeatedStratifiedKFold(n_splits = 5, n_repeats = 3, random_state = 44)"
   ]
  },
  {
   "cell_type": "code",
   "execution_count": 19,
   "id": "5c9f6086",
   "metadata": {
    "execution": {
     "iopub.execute_input": "2024-08-20T11:28:55.826217Z",
     "iopub.status.busy": "2024-08-20T11:28:55.825829Z",
     "iopub.status.idle": "2024-08-20T11:28:55.838303Z",
     "shell.execute_reply": "2024-08-20T11:28:55.837371Z"
    },
    "papermill": {
     "duration": 0.030844,
     "end_time": "2024-08-20T11:28:55.840641",
     "exception": false,
     "start_time": "2024-08-20T11:28:55.809797",
     "status": "completed"
    },
    "tags": []
   },
   "outputs": [],
   "source": [
    "X = data.drop('GradeClass', axis = 1)\n",
    "y = data['GradeClass']\n",
    "X_train, X_test, y_train, y_test = train_test_split(X, y, test_size = 0.2, random_state = 44, stratify = y)"
   ]
  },
  {
   "cell_type": "markdown",
   "id": "3464c958",
   "metadata": {
    "papermill": {
     "duration": 0.014819,
     "end_time": "2024-08-20T11:28:55.870631",
     "exception": false,
     "start_time": "2024-08-20T11:28:55.855812",
     "status": "completed"
    },
    "tags": []
   },
   "source": [
    "### Models"
   ]
  },
  {
   "cell_type": "markdown",
   "id": "5a201b91",
   "metadata": {
    "papermill": {
     "duration": 0.01444,
     "end_time": "2024-08-20T11:28:55.899891",
     "exception": false,
     "start_time": "2024-08-20T11:28:55.885451",
     "status": "completed"
    },
    "tags": []
   },
   "source": [
    "To predict students' ```GradeClass```, we will use 7 classification models: Logistic Regression, Decision Tree, Random Forest, K-nearest Neighbours, Support Vector Machines, Gaussian Naive Bayes and Gradient Boosting. "
   ]
  },
  {
   "cell_type": "code",
   "execution_count": 20,
   "id": "82a80861",
   "metadata": {
    "execution": {
     "iopub.execute_input": "2024-08-20T11:28:55.931256Z",
     "iopub.status.busy": "2024-08-20T11:28:55.930867Z",
     "iopub.status.idle": "2024-08-20T11:28:55.936799Z",
     "shell.execute_reply": "2024-08-20T11:28:55.935736Z"
    },
    "papermill": {
     "duration": 0.024061,
     "end_time": "2024-08-20T11:28:55.938867",
     "exception": false,
     "start_time": "2024-08-20T11:28:55.914806",
     "status": "completed"
    },
    "tags": []
   },
   "outputs": [],
   "source": [
    "classification_models = {\n",
    "    'Logistic Regression': LogisticRegression(max_iter = 900),\n",
    "    'Deicision Tree': DecisionTreeClassifier(),\n",
    "    'Random Forest': RandomForestClassifier(),\n",
    "    'K-nearest Neighbours': KNeighborsClassifier(),\n",
    "    'SVM': SVC(),\n",
    "    'Gaussian Naive Bayes': GaussianNB(),\n",
    "    'Gradient Boosting': GradientBoostingClassifier()\n",
    "}\n",
    "\n",
    "accuracy = []\n",
    "model_name = []"
   ]
  },
  {
   "cell_type": "code",
   "execution_count": 21,
   "id": "956bc92e",
   "metadata": {
    "execution": {
     "iopub.execute_input": "2024-08-20T11:28:55.970572Z",
     "iopub.status.busy": "2024-08-20T11:28:55.969868Z",
     "iopub.status.idle": "2024-08-20T11:29:27.939574Z",
     "shell.execute_reply": "2024-08-20T11:29:27.938489Z"
    },
    "papermill": {
     "duration": 31.988387,
     "end_time": "2024-08-20T11:29:27.942225",
     "exception": false,
     "start_time": "2024-08-20T11:28:55.953838",
     "status": "completed"
    },
    "tags": []
   },
   "outputs": [],
   "source": [
    "for name, clf in classification_models.items():\n",
    "    score = cross_val_score(clf, X_train, y_train, cv = kfold, scoring = 'accuracy')\n",
    "    score_mean = score.mean()\n",
    "    model_name.append(name)\n",
    "    accuracy.append(score_mean)"
   ]
  },
  {
   "cell_type": "code",
   "execution_count": 22,
   "id": "1c5fba7c",
   "metadata": {
    "execution": {
     "iopub.execute_input": "2024-08-20T11:29:27.973665Z",
     "iopub.status.busy": "2024-08-20T11:29:27.973295Z",
     "iopub.status.idle": "2024-08-20T11:29:27.984072Z",
     "shell.execute_reply": "2024-08-20T11:29:27.983144Z"
    },
    "papermill": {
     "duration": 0.028519,
     "end_time": "2024-08-20T11:29:27.986013",
     "exception": false,
     "start_time": "2024-08-20T11:29:27.957494",
     "status": "completed"
    },
    "tags": []
   },
   "outputs": [
    {
     "data": {
      "text/html": [
       "<div>\n",
       "<style scoped>\n",
       "    .dataframe tbody tr th:only-of-type {\n",
       "        vertical-align: middle;\n",
       "    }\n",
       "\n",
       "    .dataframe tbody tr th {\n",
       "        vertical-align: top;\n",
       "    }\n",
       "\n",
       "    .dataframe thead th {\n",
       "        text-align: right;\n",
       "    }\n",
       "</style>\n",
       "<table border=\"1\" class=\"dataframe\">\n",
       "  <thead>\n",
       "    <tr style=\"text-align: right;\">\n",
       "      <th></th>\n",
       "      <th>Model</th>\n",
       "      <th>Accuracy</th>\n",
       "    </tr>\n",
       "  </thead>\n",
       "  <tbody>\n",
       "    <tr>\n",
       "      <th>0</th>\n",
       "      <td>Logistic Regression</td>\n",
       "      <td>0.701</td>\n",
       "    </tr>\n",
       "    <tr>\n",
       "      <th>1</th>\n",
       "      <td>Deicision Tree</td>\n",
       "      <td>0.601</td>\n",
       "    </tr>\n",
       "    <tr>\n",
       "      <th>2</th>\n",
       "      <td>Random Forest</td>\n",
       "      <td>0.692</td>\n",
       "    </tr>\n",
       "    <tr>\n",
       "      <th>3</th>\n",
       "      <td>K-nearest Neighbours</td>\n",
       "      <td>0.604</td>\n",
       "    </tr>\n",
       "    <tr>\n",
       "      <th>4</th>\n",
       "      <td>SVM</td>\n",
       "      <td>0.624</td>\n",
       "    </tr>\n",
       "    <tr>\n",
       "      <th>5</th>\n",
       "      <td>Gaussian Naive Bayes</td>\n",
       "      <td>0.653</td>\n",
       "    </tr>\n",
       "    <tr>\n",
       "      <th>6</th>\n",
       "      <td>Gradient Boosting</td>\n",
       "      <td>0.699</td>\n",
       "    </tr>\n",
       "  </tbody>\n",
       "</table>\n",
       "</div>"
      ],
      "text/plain": [
       "                  Model  Accuracy\n",
       "0   Logistic Regression     0.701\n",
       "1        Deicision Tree     0.601\n",
       "2         Random Forest     0.692\n",
       "3  K-nearest Neighbours     0.604\n",
       "4                   SVM     0.624\n",
       "5  Gaussian Naive Bayes     0.653\n",
       "6     Gradient Boosting     0.699"
      ]
     },
     "execution_count": 22,
     "metadata": {},
     "output_type": "execute_result"
    }
   ],
   "source": [
    "results = pd.DataFrame({'Model': model_name, 'Accuracy': accuracy})\n",
    "round(results,3)"
   ]
  },
  {
   "cell_type": "code",
   "execution_count": 23,
   "id": "4c41f712",
   "metadata": {
    "execution": {
     "iopub.execute_input": "2024-08-20T11:29:28.017146Z",
     "iopub.status.busy": "2024-08-20T11:29:28.016522Z",
     "iopub.status.idle": "2024-08-20T11:29:28.336266Z",
     "shell.execute_reply": "2024-08-20T11:29:28.335253Z"
    },
    "papermill": {
     "duration": 0.338198,
     "end_time": "2024-08-20T11:29:28.339000",
     "exception": false,
     "start_time": "2024-08-20T11:29:28.000802",
     "status": "completed"
    },
    "tags": []
   },
   "outputs": [
    {
     "data": {
      "image/png": "[encoded data removed]",
      "text/plain": [
       "<Figure size 1000x500 with 1 Axes>"
      ]
     },
     "metadata": {},
     "output_type": "display_data"
    }
   ],
   "source": [
    "results_sorted = results.sort_values('Accuracy', ascending = False)\n",
    "\n",
    "plt.figure(figsize=(10,5))\n",
    "plt.bar(results_sorted['Model'], results_sorted['Accuracy'])\n",
    "plt.xlabel('Model')\n",
    "plt.xticks(rotation = 30)\n",
    "plt.ylabel('Accuracy')\n",
    "plt.title('Accuracy of models')\n",
    "plt.show()"
   ]
  },
  {
   "cell_type": "markdown",
   "id": "c56f03a9",
   "metadata": {
    "papermill": {
     "duration": 0.015972,
     "end_time": "2024-08-20T11:29:28.370903",
     "exception": false,
     "start_time": "2024-08-20T11:29:28.354931",
     "status": "completed"
    },
    "tags": []
   },
   "source": [
    "The best-performing model is Logistic Regression, achieving an accuracy of 70.1%."
   ]
  },
  {
   "cell_type": "markdown",
   "id": "27149e63",
   "metadata": {
    "papermill": {
     "duration": 0.015513,
     "end_time": "2024-08-20T11:29:28.402771",
     "exception": false,
     "start_time": "2024-08-20T11:29:28.387258",
     "status": "completed"
    },
    "tags": []
   },
   "source": [
    "### Hyperparameter tuning"
   ]
  },
  {
   "cell_type": "code",
   "execution_count": 24,
   "id": "272b02a3",
   "metadata": {
    "execution": {
     "iopub.execute_input": "2024-08-20T11:29:28.436684Z",
     "iopub.status.busy": "2024-08-20T11:29:28.435844Z",
     "iopub.status.idle": "2024-08-20T11:32:28.345318Z",
     "shell.execute_reply": "2024-08-20T11:32:28.344238Z"
    },
    "papermill": {
     "duration": 179.945541,
     "end_time": "2024-08-20T11:32:28.364382",
     "exception": false,
     "start_time": "2024-08-20T11:29:28.418841",
     "status": "completed"
    },
    "tags": []
   },
   "outputs": [
    {
     "data": {
      "text/html": [
       "<style>#sk-container-id-1 {color: black;background-color: white;}#sk-container-id-1 pre{padding: 0;}#sk-container-id-1 div.sk-toggleable {background-color: white;}#sk-container-id-1 label.sk-toggleable__label {cursor: pointer;display: block;width: 100%;margin-bottom: 0;padding: 0.3em;box-sizing: border-box;text-align: center;}#sk-container-id-1 label.sk-toggleable__label-arrow:before {content: \"▸\";float: left;margin-right: 0.25em;color: #696969;}#sk-container-id-1 label.sk-toggleable__label-arrow:hover:before {color: black;}#sk-container-id-1 div.sk-estimator:hover label.sk-toggleable__label-arrow:before {color: black;}#sk-container-id-1 div.sk-toggleable__content {max-height: 0;max-width: 0;overflow: hidden;text-align: left;background-color: #f0f8ff;}#sk-container-id-1 div.sk-toggleable__content pre {margin: 0.2em;color: black;border-radius: 0.25em;background-color: #f0f8ff;}#sk-container-id-1 input.sk-toggleable__control:checked~div.sk-toggleable__content {max-height: 200px;max-width: 100%;overflow: auto;}#sk-container-id-1 input.sk-toggleable__control:checked~label.sk-toggleable__label-arrow:before {content: \"▾\";}#sk-container-id-1 div.sk-estimator input.sk-toggleable__control:checked~label.sk-toggleable__label {background-color: #d4ebff;}#sk-container-id-1 div.sk-label input.sk-toggleable__control:checked~label.sk-toggleable__label {background-color: #d4ebff;}#sk-container-id-1 input.sk-hidden--visually {border: 0;clip: rect(1px 1px 1px 1px);clip: rect(1px, 1px, 1px, 1px);height: 1px;margin: -1px;overflow: hidden;padding: 0;position: absolute;width: 1px;}#sk-container-id-1 div.sk-estimator {font-family: monospace;background-color: #f0f8ff;border: 1px dotted black;border-radius: 0.25em;box-sizing: border-box;margin-bottom: 0.5em;}#sk-container-id-1 div.sk-estimator:hover {background-color: #d4ebff;}#sk-container-id-1 div.sk-parallel-item::after {content: \"\";width: 100%;border-bottom: 1px solid gray;flex-grow: 1;}#sk-container-id-1 div.sk-label:hover label.sk-toggleable__label {background-color: #d4ebff;}#sk-container-id-1 div.sk-serial::before {content: \"\";position: absolute;border-left: 1px solid gray;box-sizing: border-box;top: 0;bottom: 0;left: 50%;z-index: 0;}#sk-container-id-1 div.sk-serial {display: flex;flex-direction: column;align-items: center;background-color: white;padding-right: 0.2em;padding-left: 0.2em;position: relative;}#sk-container-id-1 div.sk-item {position: relative;z-index: 1;}#sk-container-id-1 div.sk-parallel {display: flex;align-items: stretch;justify-content: center;background-color: white;position: relative;}#sk-container-id-1 div.sk-item::before, #sk-container-id-1 div.sk-parallel-item::before {content: \"\";position: absolute;border-left: 1px solid gray;box-sizing: border-box;top: 0;bottom: 0;left: 50%;z-index: -1;}#sk-container-id-1 div.sk-parallel-item {display: flex;flex-direction: column;z-index: 1;position: relative;background-color: white;}#sk-container-id-1 div.sk-parallel-item:first-child::after {align-self: flex-end;width: 50%;}#sk-container-id-1 div.sk-parallel-item:last-child::after {align-self: flex-start;width: 50%;}#sk-container-id-1 div.sk-parallel-item:only-child::after {width: 0;}#sk-container-id-1 div.sk-dashed-wrapped {border: 1px dashed gray;margin: 0 0.4em 0.5em 0.4em;box-sizing: border-box;padding-bottom: 0.4em;background-color: white;}#sk-container-id-1 div.sk-label label {font-family: monospace;font-weight: bold;display: inline-block;line-height: 1.2em;}#sk-container-id-1 div.sk-label-container {text-align: center;}#sk-container-id-1 div.sk-container {/* jupyter's `normalize.less` sets `[hidden] { display: none; }` but bootstrap.min.css set `[hidden] { display: none !important; }` so we also need the `!important` here to be able to override the default hidden behavior on the sphinx rendered scikit-learn.org. See: https://github.com/scikit-learn/scikit-learn/issues/21755 */display: inline-block !important;position: relative;}#sk-container-id-1 div.sk-text-repr-fallback {display: none;}</style><div id=\"sk-container-id-1\" class=\"sk-top-container\"><div class=\"sk-text-repr-fallback\"><pre>GridSearchCV(cv=10,\n",
       "             estimator=LogisticRegression(max_iter=1500, random_state=44),\n",
       "             param_grid={&#x27;C&#x27;: array([1.00000000e-03, 2.06913808e-03, 4.28133240e-03, 8.85866790e-03,\n",
       "       1.83298071e-02, 3.79269019e-02, 7.84759970e-02, 1.62377674e-01,\n",
       "       3.35981829e-01, 6.95192796e-01, 1.43844989e+00, 2.97635144e+00,\n",
       "       6.15848211e+00, 1.27427499e+01, 2.63665090e+01, 5.45559478e+01,\n",
       "       1.12883789e+02, 2.33572147e+02, 4.83293024e+02, 1.00000000e+03]),\n",
       "                         &#x27;solver&#x27;: [&#x27;lbfgs&#x27;, &#x27;newton-cg&#x27;, &#x27;sag&#x27;, &#x27;saga&#x27;]})</pre><b>In a Jupyter environment, please rerun this cell to show the HTML representation or trust the notebook. <br />On GitHub, the HTML representation is unable to render, please try loading this page with nbviewer.org.</b></div><div class=\"sk-container\" hidden><div class=\"sk-item sk-dashed-wrapped\"><div class=\"sk-label-container\"><div class=\"sk-label sk-toggleable\"><input class=\"sk-toggleable__control sk-hidden--visually\" id=\"sk-estimator-id-1\" type=\"checkbox\" ><label for=\"sk-estimator-id-1\" class=\"sk-toggleable__label sk-toggleable__label-arrow\">GridSearchCV</label><div class=\"sk-toggleable__content\"><pre>GridSearchCV(cv=10,\n",
       "             estimator=LogisticRegression(max_iter=1500, random_state=44),\n",
       "             param_grid={&#x27;C&#x27;: array([1.00000000e-03, 2.06913808e-03, 4.28133240e-03, 8.85866790e-03,\n",
       "       1.83298071e-02, 3.79269019e-02, 7.84759970e-02, 1.62377674e-01,\n",
       "       3.35981829e-01, 6.95192796e-01, 1.43844989e+00, 2.97635144e+00,\n",
       "       6.15848211e+00, 1.27427499e+01, 2.63665090e+01, 5.45559478e+01,\n",
       "       1.12883789e+02, 2.33572147e+02, 4.83293024e+02, 1.00000000e+03]),\n",
       "                         &#x27;solver&#x27;: [&#x27;lbfgs&#x27;, &#x27;newton-cg&#x27;, &#x27;sag&#x27;, &#x27;saga&#x27;]})</pre></div></div></div><div class=\"sk-parallel\"><div class=\"sk-parallel-item\"><div class=\"sk-item\"><div class=\"sk-label-container\"><div class=\"sk-label sk-toggleable\"><input class=\"sk-toggleable__control sk-hidden--visually\" id=\"sk-estimator-id-2\" type=\"checkbox\" ><label for=\"sk-estimator-id-2\" class=\"sk-toggleable__label sk-toggleable__label-arrow\">estimator: LogisticRegression</label><div class=\"sk-toggleable__content\"><pre>LogisticRegression(max_iter=1500, random_state=44)</pre></div></div></div><div class=\"sk-serial\"><div class=\"sk-item\"><div class=\"sk-estimator sk-toggleable\"><input class=\"sk-toggleable__control sk-hidden--visually\" id=\"sk-estimator-id-3\" type=\"checkbox\" ><label for=\"sk-estimator-id-3\" class=\"sk-toggleable__label sk-toggleable__label-arrow\">LogisticRegression</label><div class=\"sk-toggleable__content\"><pre>LogisticRegression(max_iter=1500, random_state=44)</pre></div></div></div></div></div></div></div></div></div></div>"
      ],
      "text/plain": [
       "GridSearchCV(cv=10,\n",
       "             estimator=LogisticRegression(max_iter=1500, random_state=44),\n",
       "             param_grid={'C': array([1.00000000e-03, 2.06913808e-03, 4.28133240e-03, 8.85866790e-03,\n",
       "       1.83298071e-02, 3.79269019e-02, 7.84759970e-02, 1.62377674e-01,\n",
       "       3.35981829e-01, 6.95192796e-01, 1.43844989e+00, 2.97635144e+00,\n",
       "       6.15848211e+00, 1.27427499e+01, 2.63665090e+01, 5.45559478e+01,\n",
       "       1.12883789e+02, 2.33572147e+02, 4.83293024e+02, 1.00000000e+03]),\n",
       "                         'solver': ['lbfgs', 'newton-cg', 'sag', 'saga']})"
      ]
     },
     "execution_count": 24,
     "metadata": {},
     "output_type": "execute_result"
    }
   ],
   "source": [
    "log_reg = LogisticRegression(random_state = 44, max_iter = 1500)\n",
    "\n",
    "grid = {'C': 10**np.linspace(-3,3,20),\n",
    "        'solver': ['lbfgs', 'newton-cg', 'sag', 'saga']\n",
    "       }\n",
    "\n",
    "log_reg_cv = GridSearchCV(log_reg, grid, cv = 10)\n",
    "log_reg_cv.fit(X_train, y_train)"
   ]
  },
  {
   "cell_type": "code",
   "execution_count": 25,
   "id": "d374c491",
   "metadata": {
    "execution": {
     "iopub.execute_input": "2024-08-20T11:32:28.401381Z",
     "iopub.status.busy": "2024-08-20T11:32:28.400984Z",
     "iopub.status.idle": "2024-08-20T11:32:28.406336Z",
     "shell.execute_reply": "2024-08-20T11:32:28.405327Z"
    },
    "papermill": {
     "duration": 0.026482,
     "end_time": "2024-08-20T11:32:28.408748",
     "exception": false,
     "start_time": "2024-08-20T11:32:28.382266",
     "status": "completed"
    },
    "tags": []
   },
   "outputs": [
    {
     "name": "stdout",
     "output_type": "stream",
     "text": [
      "{'C': 54.555947811685144, 'solver': 'saga'}\n",
      "0.7051892452006981\n"
     ]
    }
   ],
   "source": [
    "print(log_reg_cv.best_params_)\n",
    "print(log_reg_cv.best_score_)"
   ]
  },
  {
   "cell_type": "markdown",
   "id": "d12140c9",
   "metadata": {
    "papermill": {
     "duration": 0.016436,
     "end_time": "2024-08-20T11:32:28.442216",
     "exception": false,
     "start_time": "2024-08-20T11:32:28.425780",
     "status": "completed"
    },
    "tags": []
   },
   "source": [
    "After conducting hyperparameter tuning, the logistic regression model achieved an accuracy of 70.5%."
   ]
  },
  {
   "cell_type": "markdown",
   "id": "58862703",
   "metadata": {
    "papermill": {
     "duration": 0.016649,
     "end_time": "2024-08-20T11:32:28.476710",
     "exception": false,
     "start_time": "2024-08-20T11:32:28.460061",
     "status": "completed"
    },
    "tags": []
   },
   "source": [
    "### Model evaluation"
   ]
  },
  {
   "cell_type": "code",
   "execution_count": 26,
   "id": "b452ee96",
   "metadata": {
    "execution": {
     "iopub.execute_input": "2024-08-20T11:32:28.512036Z",
     "iopub.status.busy": "2024-08-20T11:32:28.511633Z",
     "iopub.status.idle": "2024-08-20T11:32:28.524596Z",
     "shell.execute_reply": "2024-08-20T11:32:28.523599Z"
    },
    "papermill": {
     "duration": 0.033042,
     "end_time": "2024-08-20T11:32:28.526631",
     "exception": false,
     "start_time": "2024-08-20T11:32:28.493589",
     "status": "completed"
    },
    "tags": []
   },
   "outputs": [
    {
     "name": "stdout",
     "output_type": "stream",
     "text": [
      "0.749\n"
     ]
    }
   ],
   "source": [
    "accuracy = round(log_reg_cv.score(X_test, y_test),3)\n",
    "y_pred = log_reg_cv.predict(X_test)\n",
    "print(accuracy)"
   ]
  },
  {
   "cell_type": "markdown",
   "id": "af7930c4",
   "metadata": {
    "papermill": {
     "duration": 0.016234,
     "end_time": "2024-08-20T11:32:28.559375",
     "exception": false,
     "start_time": "2024-08-20T11:32:28.543141",
     "status": "completed"
    },
    "tags": []
   },
   "source": [
    "The model's accuracy on the test set is 74.9%."
   ]
  },
  {
   "cell_type": "code",
   "execution_count": 27,
   "id": "097e05fa",
   "metadata": {
    "execution": {
     "iopub.execute_input": "2024-08-20T11:32:28.594130Z",
     "iopub.status.busy": "2024-08-20T11:32:28.593778Z",
     "iopub.status.idle": "2024-08-20T11:32:29.023670Z",
     "shell.execute_reply": "2024-08-20T11:32:29.022671Z"
    },
    "papermill": {
     "duration": 0.44996,
     "end_time": "2024-08-20T11:32:29.025987",
     "exception": false,
     "start_time": "2024-08-20T11:32:28.576027",
     "status": "completed"
    },
    "tags": []
   },
   "outputs": [
    {
     "data": {
      "image/png": "[encoded data removed]",
      "text/plain": [
       "<Figure size 640x480 with 2 Axes>"
      ]
     },
     "metadata": {},
     "output_type": "display_data"
    }
   ],
   "source": [
    "conf_mat = confusion_matrix(y_test,y_pred)\n",
    "sns.heatmap(conf_mat, annot = True, fmt = \".0f\").set_title('Confusion Matrix for Logistic Regression');"
   ]
  }
 ],
 "metadata": {
  "kaggle": {
   "accelerator": "none",
   "dataSources": [
    {
     "datasetId": 5195702,
     "sourceId": 8677630,
     "sourceType": "datasetVersion"
    },
    {
     "sourceId": 183771850,
     "sourceType": "kernelVersion"
    }
   ],
   "dockerImageVersionId": 30732,
   "isGpuEnabled": false,
   "isInternetEnabled": true,
   "language": "python",
   "sourceType": "notebook"
  },
  "kernelspec": {
   "display_name": "Python 3",
   "language": "python",
   "name": "python3"
  },
  "language_info": {
   "codemirror_mode": {
    "name": "ipython",
    "version": 3
   },
   "file_extension": ".py",
   "mimetype": "text/x-python",
   "name": "python",
   "nbconvert_exporter": "python",
   "pygments_lexer": "ipython3",
   "version": "3.10.13"
  },
  "papermill": {
   "default_parameters": {},
   "duration": 226.27502,
   "end_time": "2024-08-20T11:32:29.764734",
   "environment_variables": {},
   "exception": null,
   "input_path": "__notebook__.ipynb",
   "output_path": "__notebook__.ipynb",
   "parameters": {},
   "start_time": "2024-08-20T11:28:43.489714",
   "version": "2.5.0"
  }
 },
 "nbformat": 4,
 "nbformat_minor": 5
}
